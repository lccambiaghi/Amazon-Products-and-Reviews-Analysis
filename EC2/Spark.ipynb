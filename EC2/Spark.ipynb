{
 "cells": [
  {
   "cell_type": "markdown",
   "metadata": {
    "collapsed": false
   },
   "source": [
    "# Spark + Neo4j\n",
    "\n",
    "To reset database: \n",
    "\"MATCH (n) DETACH\n",
    "DELETE n\"\n",
    "\n",
    "Nodes:\n",
    "- Person\n",
    "    - reviewerID\n",
    "    - reviewerName\n",
    "- Review\n",
    "    - asin\n",
    "    - helpful\n",
    "    - reviewText\n",
    "    - overall\n",
    "    - summary\n",
    "    - unixReviewTime\n",
    "    - reviewTime\n",
    "- Product\n",
    "    - asin\n",
    "    - title\n",
    "    - price\n",
    "    - imUrl\n",
    "    - brand\n",
    "- Category\n",
    "    - categoryName\n",
    "\n",
    "Relations:\n",
    "- Person -[WRITTEN]- Review\n",
    "- Person -[REVIEWED]- Product\n",
    "- Review -[CONCERNED]- Product\n",
    "- Product -[BOUGHTWITH]- Product   \n",
    "- Product -[VIEWEDWITH]- Product\n",
    "- Product -[BELONGING]- Category\n",
    "- Product -[RANKING]- Category\n",
    "    - salesRank"
   ]
  },
  {
   "cell_type": "code",
   "execution_count": 88,
   "metadata": {
    "collapsed": false
   },
   "outputs": [
    {
     "name": "stdout",
     "output_type": "stream",
     "text": [
      "Bob\n"
     ]
    }
   ],
   "source": [
    "from neo4j.v1 import GraphDatabase, basic_auth\n",
    "\n",
    "driver = GraphDatabase.driver(\"bolt://localhost\", auth=basic_auth(\"neo4j\", \"comptools\"))\n",
    "session = driver.session()\n",
    "session.run(\"CREATE (a:Person {name:'Bob'})\")\n",
    "result = session.run(\"MATCH (a:Person) RETURN a.name AS name\")\n",
    "for record in result:\n",
    "    print(record[\"name\"])\n",
    "session.close()"
   ]
  },
  {
   "cell_type": "markdown",
   "metadata": {},
   "source": [
    "# Very simple startup with Spark (WORKING!!!)"
   ]
  },
  {
   "cell_type": "code",
   "execution_count": 4,
   "metadata": {
    "collapsed": false
   },
   "outputs": [
    {
     "name": "stdout",
     "output_type": "stream",
     "text": [
      "[('count', 6063208), ('price', 211831713.8699847)]\n",
      "0.0286227585531\n"
     ]
    }
   ],
   "source": [
    "import ujson\n",
    "import ast\n",
    "\n",
    "def json_parser(line):\n",
    "    review_dictionary = ast.literal_eval(line)\n",
    "    if 'price' in review_dictionary.keys():\n",
    "        \n",
    "        #yield \"reviewerID\", review_dictionary['reviewerID']\n",
    "        #yield \"asin\", review_dictionary['asin']\n",
    "        #yield \"reviewerName\", review_dictionary['reviewerName']\n",
    "        #yield \"helpful\", review_dictionary['helpful']\n",
    "        #yield \"reviewText\", review_dictionary['reviewText']\n",
    "        yield \"price\", review_dictionary['price']\n",
    "        #yield \"summary\", review_dictionary['summary']\n",
    "        #yield \"unixReviewTime\", review_dictionary['unixReviewTime']\n",
    "        #yield \"reviewTime\", review_dictionary['reviewTime']\n",
    "        yield 'count', 1\n",
    "    \n",
    "lines = sc.textFile(\"../../amazon_dataset/metadata.json\")\n",
    "review_values = lines.flatMap(json_parser)\n",
    "key_lists = review_values.reduceByKey(lambda a,b: a+b)\n",
    "\n",
    "a = key_lists.collect()\n",
    "\n",
    "print a\n",
    "\n",
    "print a[0][1]*1.0/a[1][1]"
   ]
  },
  {
   "cell_type": "code",
   "execution_count": 57,
   "metadata": {
    "collapsed": false
   },
   "outputs": [
    {
     "name": "stdout",
     "output_type": "stream",
     "text": [
      "\n"
     ]
    }
   ],
   "source": [
    "result = {}\n",
    "for elm in a:\n",
    "    if elm[0]=='count':\n",
    "        result['count']=elm[1]\n",
    "    else:\n",
    "        result['price']=elm[1]"
   ]
  },
  {
   "cell_type": "code",
   "execution_count": 58,
   "metadata": {
    "collapsed": false
   },
   "outputs": [
    {
     "name": "stdout",
     "output_type": "stream",
     "text": [
      "The average price of all the products is: 34.9372335354\n"
     ]
    }
   ],
   "source": [
    "print 'The average price of all the products is:',result['price']/result['count']"
   ]
  },
  {
   "cell_type": "code",
   "execution_count": 66,
   "metadata": {
    "collapsed": false
   },
   "outputs": [
    {
     "name": "stdout",
     "output_type": "stream",
     "text": [
      "root\n",
      " |-- asin: string (nullable = true)\n",
      " |-- helpful: array (nullable = true)\n",
      " |    |-- element: long (containsNull = true)\n",
      " |-- overall: double (nullable = true)\n",
      " |-- reviewText: string (nullable = true)\n",
      " |-- reviewTime: string (nullable = true)\n",
      " |-- reviewerID: string (nullable = true)\n",
      " |-- reviewerName: string (nullable = true)\n",
      " |-- summary: string (nullable = true)\n",
      " |-- unixReviewTime: long (nullable = true)\n",
      "\n"
     ]
    }
   ],
   "source": [
    "music = spark.read.json('../../amazon_dataset/reviews_Musical_Instruments_5.json')\n",
    "music.printSchema()"
   ]
  },
  {
   "cell_type": "code",
   "execution_count": 76,
   "metadata": {
    "collapsed": false
   },
   "outputs": [
    {
     "name": "stdout",
     "output_type": "stream",
     "text": [
      "+----------+------------------------------------------------------------+----------+--------------+\n",
      "|ProductID |summary                                                     |helpful   |unixReviewTime|\n",
      "+----------+------------------------------------------------------------+----------+--------------+\n",
      "|B0002GXZK4|This guitar DOES have a BIG SOUND for a small price         |[156, 160]|1111708800    |\n",
      "|B0002H0H4A|The Pop Rocks with the Yeti                                 |[101, 105]|1342656000    |\n",
      "|B000B6DHB2|Impressive Sound from an Inexpensive Source - UPDATE 7/11/14|[130, 136]|1230422400    |\n",
      "|B000BWEM42|Well built folding stand great for guitar music and tab     |[156, 161]|1197504000    |\n",
      "|B002Q0WSO8|Finally!  Amazon offers the Intelli IMT-500                 |[188, 193]|1177027200    |\n",
      "|B003FVB7XA|Considerably better than anticipated!                       |[259, 266]|1223683200    |\n",
      "|B0042EZH6W|Bought it for my Kid. Now I'm buying it for myself!         |[190, 192]|1293753600    |\n",
      "|B00646MZHK|Inexpensive Gem                                             |[112, 117]|1324339200    |\n",
      "+----------+------------------------------------------------------------+----------+--------------+\n",
      "\n"
     ]
    }
   ],
   "source": [
    "music.registerTempTable('music')\n",
    "result = spark.sql(\"SELECT asin as ProductID,summary,helpful,unixReviewTime FROM music WHERE overall==5.0 AND helpful[1]-helpful[0]<10 AND helpful[0]!=0 AND helpful[1]!=0 AND helpful[0]>100\")\n",
    "result.show(10, truncate=False)"
   ]
  },
  {
   "cell_type": "code",
   "execution_count": 43,
   "metadata": {
    "collapsed": false
   },
   "outputs": [
    {
     "name": "stdout",
     "output_type": "stream",
     "text": [
      "+----------+-------+-------+--------------------+-----------+--------------+--------------------+--------------------+--------------+\n",
      "|      asin|helpful|overall|          reviewText| reviewTime|    reviewerID|        reviewerName|             summary|unixReviewTime|\n",
      "+----------+-------+-------+--------------------+-----------+--------------+--------------------+--------------------+--------------+\n",
      "|0528881469| [0, 0]|    5.0|We got this GPS f...| 06 2, 2013| AO94DHGC771SJ|             amazdnu|     Gotta have GPS!|    1370131200|\n",
      "|0594451647| [3, 3]|    5.0|I am using this w...| 01 3, 2014|A2JXAZZI9PHK9Z|Billy G. Noland \"...|HDMI Nook adapter...|    1388707200|\n",
      "|0594451647| [0, 0]|    5.0|This adaptor is r...| 05 4, 2014| AAZ084UMH8VZ2|D. L. Brown \"A Kn...|A Perfdect Nook H...|    1399161600|\n",
      "|0594451647| [0, 0]|    4.0|This adapter easi...|07 11, 2014| AEZ3CR6BKIROJ|        Mark Dietter|A nice easy to us...|    1405036800|\n",
      "|0594451647| [3, 3]|    5.0|This product real...|01 20, 2014|A3BY5KCNQZXV5U|             Matenai|This works great ...|    1390176000|\n",
      "|0594481813| [2, 2]|    4.0|This item is just...|04 16, 2014| A7S2B0I67WNWB|              AllyMG|         As expected|    1397606400|\n",
      "|0594481813| [0, 0]|    5.0|bought for a spar...| 05 5, 2014|A3HICVLF4PFFMN|     Amazon Customer|           great fit|    1399248000|\n",
      "|0594481813| [1, 1]|    5.0|My son crewed my ...|06 24, 2013| ANSKSPEEAKY7S|                Gena|         Works Great|    1372032000|\n",
      "|0594481813| [2, 2]|    5.0|I lost my B&N ori...| 03 9, 2014| ANY6JUFM0GH8U|          J. Clement|Great replacement...|    1394323200|\n",
      "|0594481813| [2, 2]|    4.0|Works well, a lit...|06 27, 2013|A1S6B5QFWGVL5U|          T. Vaughan|    Good replacement|    1372291200|\n",
      "+----------+-------+-------+--------------------+-----------+--------------+--------------------+--------------------+--------------+\n",
      "only showing top 10 rows\n",
      "\n"
     ]
    }
   ],
   "source": [
    "filtered = music.filter(music.overall>3.5).show(10)"
   ]
  },
  {
   "cell_type": "code",
   "execution_count": 46,
   "metadata": {
    "collapsed": false
   },
   "outputs": [
    {
     "data": {
      "text/plain": [
       "DataFrame[asin: string, helpful: array<bigint>, overall: double, reviewText: string, reviewTime: string, reviewerID: string, summary: string, unixReviewTime: bigint]"
      ]
     },
     "execution_count": 46,
     "metadata": {},
     "output_type": "execute_result"
    }
   ],
   "source": [
    "music.drop('reviewerName')"
   ]
  },
  {
   "cell_type": "code",
   "execution_count": 74,
   "metadata": {
    "collapsed": false
   },
   "outputs": [
    {
     "data": {
      "text/plain": [
       "Column<unixReviewTime AS `Unix Review Time`>"
      ]
     },
     "execution_count": 74,
     "metadata": {},
     "output_type": "execute_result"
    }
   ],
   "source": [
    "music.unixReviewTime.alias('Unix Review Time')"
   ]
  },
  {
   "cell_type": "code",
   "execution_count": 87,
   "metadata": {
    "collapsed": false
   },
   "outputs": [
    {
     "name": "stdout",
     "output_type": "stream",
     "text": [
      "+----------+-----+\n",
      "|      asin|count|\n",
      "+----------+-----+\n",
      "|B003VWJ2K8|  163|\n",
      "|B0002E1G5C|  143|\n",
      "|B0002F7K7Y|  116|\n",
      "|B003VWKPHC|  114|\n",
      "|B0002H0A3S|   93|\n",
      "|B0002CZVXM|   74|\n",
      "|B0006NDF8A|   71|\n",
      "|B0009G1E0K|   69|\n",
      "|B0002E2KPC|   68|\n",
      "|B0002GLDQM|   67|\n",
      "|B004XNK7AI|   65|\n",
      "|B005FKF1PY|   63|\n",
      "|B00646MZHK|   62|\n",
      "|B0002GMGYA|   58|\n",
      "|B001PGXHX0|   58|\n",
      "|B0018TIADQ|   57|\n",
      "|B000978D58|   57|\n",
      "|B001PGXKC8|   55|\n",
      "|B0002D0CEO|   55|\n",
      "|B000068NW5|   52|\n",
      "+----------+-----+\n",
      "only showing top 20 rows\n",
      "\n"
     ]
    }
   ],
   "source": [
    "music.select('asin').groupby('asin').count().sort('count',ascending=False).show()"
   ]
  },
  {
   "cell_type": "markdown",
   "metadata": {},
   "source": [
    "# Creating a DataFrame from JSON string (useful for Metadata.json)"
   ]
  },
  {
   "cell_type": "code",
   "execution_count": 55,
   "metadata": {
    "collapsed": false
   },
   "outputs": [
    {
     "name": "stdout",
     "output_type": "stream",
     "text": [
      "+---------------+----+\n",
      "|        address|name|\n",
      "+---------------+----+\n",
      "|[Columbus,Ohio]| Yin|\n",
      "|[Columbus,Ohio]| Yon|\n",
      "+---------------+----+\n",
      "\n"
     ]
    }
   ],
   "source": [
    "jsonStrings = ['{\"name\":\"Yin\",\"address\":{\"city\":\"Columbus\",\"state\":\"Ohio\"}}','{\"name\":\"Yon\",\"address\":{\"city\":\"Columbus\",\"state\":\"Ohio\"}}']\n",
    "otherPeopleRDD = sc.parallelize(jsonStrings)\n",
    "otherPeople = spark.read.json(otherPeopleRDD)\n",
    "otherPeople.show()"
   ]
  },
  {
   "cell_type": "code",
   "execution_count": 61,
   "metadata": {
    "collapsed": false
   },
   "outputs": [
    {
     "name": "stdout",
     "output_type": "stream",
     "text": [
      "root\n",
      " |-- _corrupt_record: string (nullable = true)\n",
      " |-- asin: string (nullable = true)\n",
      " |-- brand: string (nullable = true)\n",
      " |-- categories: array (nullable = true)\n",
      " |    |-- element: array (containsNull = true)\n",
      " |    |    |-- element: string (containsNull = true)\n",
      " |-- description: string (nullable = true)\n",
      " |-- imUrl: string (nullable = true)\n",
      " |-- price: double (nullable = true)\n",
      " |-- related: struct (nullable = true)\n",
      " |    |-- also_bought: array (nullable = true)\n",
      " |    |    |-- element: string (containsNull = true)\n",
      " |    |-- also_viewed: array (nullable = true)\n",
      " |    |    |-- element: string (containsNull = true)\n",
      " |    |-- bought_together: array (nullable = true)\n",
      " |    |    |-- element: string (containsNull = true)\n",
      " |    |-- buy_after_viewing: array (nullable = true)\n",
      " |    |    |-- element: string (containsNull = true)\n",
      " |-- salesRank: struct (nullable = true)\n",
      " |    |-- Appliances: long (nullable = true)\n",
      " |    |-- Arts, Crafts & Sewing: long (nullable = true)\n",
      " |    |-- Automotive: long (nullable = true)\n",
      " |    |-- Baby: long (nullable = true)\n",
      " |    |-- Beauty: long (nullable = true)\n",
      " |    |-- Books: long (nullable = true)\n",
      " |    |-- Camera &amp; Photo: long (nullable = true)\n",
      " |    |-- Cell Phones & Accessories: long (nullable = true)\n",
      " |    |-- Clothing: long (nullable = true)\n",
      " |    |-- Computers & Accessories: long (nullable = true)\n",
      " |    |-- Electronics: long (nullable = true)\n",
      " |    |-- Gift Cards Store: long (nullable = true)\n",
      " |    |-- Grocery & Gourmet Food: long (nullable = true)\n",
      " |    |-- Health & Personal Care: long (nullable = true)\n",
      " |    |-- Home &amp; Kitchen: long (nullable = true)\n",
      " |    |-- Home Improvement: long (nullable = true)\n",
      " |    |-- Industrial & Scientific: long (nullable = true)\n",
      " |    |-- Jewelry: long (nullable = true)\n",
      " |    |-- Kitchen & Dining: long (nullable = true)\n",
      " |    |-- Magazines: long (nullable = true)\n",
      " |    |-- Movies & TV: long (nullable = true)\n",
      " |    |-- Music: long (nullable = true)\n",
      " |    |-- Musical Instruments: long (nullable = true)\n",
      " |    |-- Office Products: long (nullable = true)\n",
      " |    |-- Patio, Lawn & Garden: long (nullable = true)\n",
      " |    |-- Pet Supplies: long (nullable = true)\n",
      " |    |-- Prime Pantry: long (nullable = true)\n",
      " |    |-- Shoes: long (nullable = true)\n",
      " |    |-- Software: long (nullable = true)\n",
      " |    |-- Sports &amp; Outdoors: long (nullable = true)\n",
      " |    |-- Toys & Games: long (nullable = true)\n",
      " |    |-- Video Games: long (nullable = true)\n",
      " |    |-- Watches: long (nullable = true)\n",
      " |-- title: string (nullable = true)\n",
      "\n"
     ]
    }
   ],
   "source": [
    "metadata = spark.read.json('../../amazon_dataset/metadata.json')\n",
    "metadata.printSchema()"
   ]
  },
  {
   "cell_type": "markdown",
   "metadata": {},
   "source": [
    "# IMPORTANT: Reviews Parsing and Querying"
   ]
  },
  {
   "cell_type": "markdown",
   "metadata": {},
   "source": [
    "Using this function to properly parse each JSON dict:"
   ]
  },
  {
   "cell_type": "code",
   "execution_count": 1,
   "metadata": {
    "collapsed": true
   },
   "outputs": [],
   "source": [
    "import ujson\n",
    "from toolz import dissoc\n",
    "import datetime\n",
    "import re\n",
    "import time\n",
    "from pyspark.sql.types import *"
   ]
  },
  {
   "cell_type": "markdown",
   "metadata": {},
   "source": [
    "Function used to convert a UNIX timestamp to a proper datetime object (more human-readable):"
   ]
  },
  {
   "cell_type": "code",
   "execution_count": 2,
   "metadata": {
    "collapsed": true
   },
   "outputs": [],
   "source": [
    "def convert_date(date):\n",
    "    date = datetime.date.fromtimestamp(int(date))\n",
    "    return date\n",
    "\n",
    "#Used to remove reviewerName (not interesting) and to convert UNIX timestamp in date object\n",
    "def reviews_parser(line):\n",
    "    line = ujson.loads(line)\n",
    "    line['reviewTime'] = convert_date(line['unixReviewTime'])\n",
    "    line['productID'] = line['asin']\n",
    "    return dissoc(line,'reviewerName','unixReviewTime','asin')"
   ]
  },
  {
   "cell_type": "code",
   "execution_count": 3,
   "metadata": {
    "collapsed": false
   },
   "outputs": [],
   "source": [
    "f = '../../amazon_dataset/reviews_Digital_Music_5.json'\n",
    "\n",
    "#Definition of schema for the DataFrame\n",
    "string_fields = ['productID','reviewText','reviewerID','summary']\n",
    "fields = [StructField(field_name, StringType(), False) for field_name in string_fields]\n",
    "fields+=[StructField('reviewTime',DateType(),False),\n",
    "         StructField('overall',FloatType(),False),\n",
    "         StructField('helpful',ArrayType(IntegerType(),containsNull=False),False)]\n",
    "schema = StructType(fields)\n",
    "\n",
    "data = sc.textFile(f)\n",
    "data = data.map(reviews_parser)\n",
    "data = data.toDF(schema)"
   ]
  },
  {
   "cell_type": "code",
   "execution_count": 4,
   "metadata": {
    "collapsed": false
   },
   "outputs": [
    {
     "name": "stdout",
     "output_type": "stream",
     "text": [
      "root\n",
      " |-- productID: string (nullable = false)\n",
      " |-- reviewText: string (nullable = false)\n",
      " |-- reviewerID: string (nullable = false)\n",
      " |-- summary: string (nullable = false)\n",
      " |-- reviewTime: date (nullable = false)\n",
      " |-- overall: float (nullable = false)\n",
      " |-- helpful: array (nullable = false)\n",
      " |    |-- element: integer (containsNull = false)\n",
      "\n"
     ]
    }
   ],
   "source": [
    "data.printSchema()"
   ]
  },
  {
   "cell_type": "code",
   "execution_count": 5,
   "metadata": {
    "collapsed": false
   },
   "outputs": [
    {
     "name": "stdout",
     "output_type": "stream",
     "text": [
      "+----------+--------------------+--------------+--------------------+----------+-------+--------+\n",
      "| productID|          reviewText|    reviewerID|             summary|reviewTime|overall| helpful|\n",
      "+----------+--------------------+--------------+--------------------+----------+-------+--------+\n",
      "|5555991584|It's hard to beli...|A3EBHHCZO6V2A4|Enya's last great...|2006-09-12|    5.0|  [3, 3]|\n",
      "|5555991584|A clasically-styl...| AZPWAXJG9OJXV|Enya at her most ...|2001-06-03|    5.0|  [0, 0]|\n",
      "|5555991584|I never thought E...|A38IRL0X2T4DPF|     The best so far|2003-07-14|    5.0|  [2, 2]|\n",
      "|5555991584|This is the third...|A22IK3I6U76GX0|Ireland produces ...|2000-05-03|    5.0|  [1, 1]|\n",
      "|5555991584|Enya, despite bei...|A1AISPOIIHTHXX|4.5; music to dre...|2008-01-17|    4.0|  [1, 1]|\n",
      "|5555991584|Who knows why I i...|A2P49WD75WHAG5|Dreamy unearthly ...|2003-07-30|    5.0|[62, 65]|\n",
      "|5555991584|Enya is one of a ...|A3O90G1D7I5EGG|Have You Hugged A...|2000-05-27|    3.0|  [1, 5]|\n",
      "|5555991584|Enya is one of of...|A3EJYJC25OJVKK|The album for a r...|2002-12-21|    5.0|  [5, 5]|\n",
      "|5555991584|This is not anoth...|A1DA8VOH9NR6C7|   Simply wonderful.|2007-01-04|    5.0|  [4, 4]|\n",
      "|5555991584|Many times, AND W...|A33TRNCQK4IUO7|A true gem, even ...|2003-05-12|    5.0|[12, 12]|\n",
      "+----------+--------------------+--------------+--------------------+----------+-------+--------+\n",
      "only showing top 10 rows\n",
      "\n"
     ]
    }
   ],
   "source": [
    "data.show(10)"
   ]
  },
  {
   "cell_type": "code",
   "execution_count": 6,
   "metadata": {
    "collapsed": true
   },
   "outputs": [],
   "source": [
    "data.registerTempTable('reviews')"
   ]
  },
  {
   "cell_type": "markdown",
   "metadata": {},
   "source": [
    "### Trying to query along all the columns, to check if they work with their type:"
   ]
  },
  {
   "cell_type": "markdown",
   "metadata": {},
   "source": [
    "**Date**: there are some problems, in the schema it's listed as 'date' type, instead it's impossible to extract year/month/day from the object (it raises exception); it works if it's treated as string object... WTF?"
   ]
  },
  {
   "cell_type": "code",
   "execution_count": 7,
   "metadata": {
    "collapsed": false
   },
   "outputs": [
    {
     "name": "stdout",
     "output_type": "stream",
     "text": [
      "+----------+--------------------+--------------+--------------------+----------+-------+-------+\n",
      "| productID|          reviewText|    reviewerID|             summary|reviewTime|overall|helpful|\n",
      "+----------+--------------------+--------------+--------------------+----------+-------+-------+\n",
      "|B000000NN1|I finally got thi...| AUHZ4NEDBKM1X|           a classic|2013-12-25|    5.0| [0, 0]|\n",
      "|B00000J7OA|Nothing great or ...|A37Z81LW79DUZ8|Just another no l...|2013-12-25|    2.0| [0, 0]|\n",
      "|B0050N8O7I|Its not bad, unti...|A2TJT5ULZFJ0YL|             Good...|2013-12-25|    3.0| [0, 0]|\n",
      "|B005IXKMNO|I have always lov...|A2TJT5ULZFJ0YL|               RHCP!|2013-12-25|    4.0| [0, 0]|\n",
      "|B00FN8H8XG|I downloaded this...|A2BFZD9WRHVO0J|      We Three Kings|2013-12-25|    3.0| [0, 0]|\n",
      "|B00FW7T99E|I downloaded this...|A2BFZD9WRHVO0J|         Nutcracker.|2013-12-25|    2.0| [0, 0]|\n",
      "+----------+--------------------+--------------+--------------------+----------+-------+-------+\n",
      "\n"
     ]
    }
   ],
   "source": [
    "data.filter(data.reviewTime.startswith('2013-12-25')).show(10)"
   ]
  },
  {
   "cell_type": "markdown",
   "metadata": {},
   "source": [
    "Not working treating the reviewTime as a date object and trying to extract its attributes:"
   ]
  },
  {
   "cell_type": "code",
   "execution_count": 8,
   "metadata": {
    "collapsed": false
   },
   "outputs": [
    {
     "ename": "AnalysisException",
     "evalue": "u\"Can't extract value from reviewTime#4;\"",
     "output_type": "error",
     "traceback": [
      "\u001b[0;31m---------------------------------------------------------------------------\u001b[0m",
      "\u001b[0;31mAnalysisException\u001b[0m                         Traceback (most recent call last)",
      "\u001b[0;32m<ipython-input-8-ad4b31b345f2>\u001b[0m in \u001b[0;36m<module>\u001b[0;34m()\u001b[0m\n\u001b[0;32m----> 1\u001b[0;31m \u001b[0mdata\u001b[0m\u001b[0;34m.\u001b[0m\u001b[0mfilter\u001b[0m\u001b[0;34m(\u001b[0m\u001b[0mdata\u001b[0m\u001b[0;34m.\u001b[0m\u001b[0mreviewTime\u001b[0m\u001b[0;34m.\u001b[0m\u001b[0myear\u001b[0m\u001b[0;34m==\u001b[0m\u001b[0;36m2014\u001b[0m\u001b[0;34m)\u001b[0m\u001b[0;34m.\u001b[0m\u001b[0mshow\u001b[0m\u001b[0;34m(\u001b[0m\u001b[0;36m10\u001b[0m\u001b[0;34m)\u001b[0m\u001b[0;34m\u001b[0m\u001b[0m\n\u001b[0m",
      "\u001b[0;32m/home/ec2-user/spark-2.0.2-bin-hadoop2.7/python/pyspark/sql/dataframe.pyc\u001b[0m in \u001b[0;36mfilter\u001b[0;34m(self, condition)\u001b[0m\n\u001b[1;32m    899\u001b[0m             \u001b[0mjdf\u001b[0m \u001b[0;34m=\u001b[0m \u001b[0mself\u001b[0m\u001b[0;34m.\u001b[0m\u001b[0m_jdf\u001b[0m\u001b[0;34m.\u001b[0m\u001b[0mfilter\u001b[0m\u001b[0;34m(\u001b[0m\u001b[0mcondition\u001b[0m\u001b[0;34m)\u001b[0m\u001b[0;34m\u001b[0m\u001b[0m\n\u001b[1;32m    900\u001b[0m         \u001b[0;32melif\u001b[0m \u001b[0misinstance\u001b[0m\u001b[0;34m(\u001b[0m\u001b[0mcondition\u001b[0m\u001b[0;34m,\u001b[0m \u001b[0mColumn\u001b[0m\u001b[0;34m)\u001b[0m\u001b[0;34m:\u001b[0m\u001b[0;34m\u001b[0m\u001b[0m\n\u001b[0;32m--> 901\u001b[0;31m             \u001b[0mjdf\u001b[0m \u001b[0;34m=\u001b[0m \u001b[0mself\u001b[0m\u001b[0;34m.\u001b[0m\u001b[0m_jdf\u001b[0m\u001b[0;34m.\u001b[0m\u001b[0mfilter\u001b[0m\u001b[0;34m(\u001b[0m\u001b[0mcondition\u001b[0m\u001b[0;34m.\u001b[0m\u001b[0m_jc\u001b[0m\u001b[0;34m)\u001b[0m\u001b[0;34m\u001b[0m\u001b[0m\n\u001b[0m\u001b[1;32m    902\u001b[0m         \u001b[0;32melse\u001b[0m\u001b[0;34m:\u001b[0m\u001b[0;34m\u001b[0m\u001b[0m\n\u001b[1;32m    903\u001b[0m             \u001b[0;32mraise\u001b[0m \u001b[0mTypeError\u001b[0m\u001b[0;34m(\u001b[0m\u001b[0;34m\"condition should be string or Column\"\u001b[0m\u001b[0;34m)\u001b[0m\u001b[0;34m\u001b[0m\u001b[0m\n",
      "\u001b[0;32m/home/ec2-user/spark-2.0.2-bin-hadoop2.7/python/lib/py4j-0.10.3-src.zip/py4j/java_gateway.py\u001b[0m in \u001b[0;36m__call__\u001b[0;34m(self, *args)\u001b[0m\n\u001b[1;32m   1131\u001b[0m         \u001b[0manswer\u001b[0m \u001b[0;34m=\u001b[0m \u001b[0mself\u001b[0m\u001b[0;34m.\u001b[0m\u001b[0mgateway_client\u001b[0m\u001b[0;34m.\u001b[0m\u001b[0msend_command\u001b[0m\u001b[0;34m(\u001b[0m\u001b[0mcommand\u001b[0m\u001b[0;34m)\u001b[0m\u001b[0;34m\u001b[0m\u001b[0m\n\u001b[1;32m   1132\u001b[0m         return_value = get_return_value(\n\u001b[0;32m-> 1133\u001b[0;31m             answer, self.gateway_client, self.target_id, self.name)\n\u001b[0m\u001b[1;32m   1134\u001b[0m \u001b[0;34m\u001b[0m\u001b[0m\n\u001b[1;32m   1135\u001b[0m         \u001b[0;32mfor\u001b[0m \u001b[0mtemp_arg\u001b[0m \u001b[0;32min\u001b[0m \u001b[0mtemp_args\u001b[0m\u001b[0;34m:\u001b[0m\u001b[0;34m\u001b[0m\u001b[0m\n",
      "\u001b[0;32m/home/ec2-user/spark-2.0.2-bin-hadoop2.7/python/pyspark/sql/utils.pyc\u001b[0m in \u001b[0;36mdeco\u001b[0;34m(*a, **kw)\u001b[0m\n\u001b[1;32m     67\u001b[0m                                              e.java_exception.getStackTrace()))\n\u001b[1;32m     68\u001b[0m             \u001b[0;32mif\u001b[0m \u001b[0ms\u001b[0m\u001b[0;34m.\u001b[0m\u001b[0mstartswith\u001b[0m\u001b[0;34m(\u001b[0m\u001b[0;34m'org.apache.spark.sql.AnalysisException: '\u001b[0m\u001b[0;34m)\u001b[0m\u001b[0;34m:\u001b[0m\u001b[0;34m\u001b[0m\u001b[0m\n\u001b[0;32m---> 69\u001b[0;31m                 \u001b[0;32mraise\u001b[0m \u001b[0mAnalysisException\u001b[0m\u001b[0;34m(\u001b[0m\u001b[0ms\u001b[0m\u001b[0;34m.\u001b[0m\u001b[0msplit\u001b[0m\u001b[0;34m(\u001b[0m\u001b[0;34m': '\u001b[0m\u001b[0;34m,\u001b[0m \u001b[0;36m1\u001b[0m\u001b[0;34m)\u001b[0m\u001b[0;34m[\u001b[0m\u001b[0;36m1\u001b[0m\u001b[0;34m]\u001b[0m\u001b[0;34m,\u001b[0m \u001b[0mstackTrace\u001b[0m\u001b[0;34m)\u001b[0m\u001b[0;34m\u001b[0m\u001b[0m\n\u001b[0m\u001b[1;32m     70\u001b[0m             \u001b[0;32mif\u001b[0m \u001b[0ms\u001b[0m\u001b[0;34m.\u001b[0m\u001b[0mstartswith\u001b[0m\u001b[0;34m(\u001b[0m\u001b[0;34m'org.apache.spark.sql.catalyst.analysis'\u001b[0m\u001b[0;34m)\u001b[0m\u001b[0;34m:\u001b[0m\u001b[0;34m\u001b[0m\u001b[0m\n\u001b[1;32m     71\u001b[0m                 \u001b[0;32mraise\u001b[0m \u001b[0mAnalysisException\u001b[0m\u001b[0;34m(\u001b[0m\u001b[0ms\u001b[0m\u001b[0;34m.\u001b[0m\u001b[0msplit\u001b[0m\u001b[0;34m(\u001b[0m\u001b[0;34m': '\u001b[0m\u001b[0;34m,\u001b[0m \u001b[0;36m1\u001b[0m\u001b[0;34m)\u001b[0m\u001b[0;34m[\u001b[0m\u001b[0;36m1\u001b[0m\u001b[0;34m]\u001b[0m\u001b[0;34m,\u001b[0m \u001b[0mstackTrace\u001b[0m\u001b[0;34m)\u001b[0m\u001b[0;34m\u001b[0m\u001b[0m\n",
      "\u001b[0;31mAnalysisException\u001b[0m: u\"Can't extract value from reviewTime#4;\""
     ]
    }
   ],
   "source": [
    "data.filter(data.reviewTime.year==2014).show(10)"
   ]
  },
  {
   "cell_type": "markdown",
   "metadata": {},
   "source": [
    "Querying along **helpful**:"
   ]
  },
  {
   "cell_type": "code",
   "execution_count": 8,
   "metadata": {
    "collapsed": false,
    "scrolled": false
   },
   "outputs": [
    {
     "name": "stdout",
     "output_type": "stream",
     "text": [
      "+----------+--------------------+--------------+--------------------+----------+-------+--------+\n",
      "| productID|          reviewText|    reviewerID|             summary|reviewTime|overall| helpful|\n",
      "+----------+--------------------+--------------+--------------------+----------+-------+--------+\n",
      "|B00000016W|I never understoo...|A22N9H8V0RYQR3|      Overrated HYPE|2005-08-29|    1.0| [4, 29]|\n",
      "|B00000016W|I am very disapoi...| AH1KJ45IQTM4T|        Masterpiece?|2003-11-28|    1.0|[18, 73]|\n",
      "|B00000016W|I love the Beach ...|A1N643TZ48RPG7|More like the &qu...|2004-03-30|    1.0|[13, 65]|\n",
      "|B0000005XM|Punk has had a lo...|A2Y4MUU6R9NDUR|NOFX meets &quot;...|2004-04-17|    1.0|[26, 66]|\n",
      "|B00000064E|I know this guy i...|A1ZDDLHFSUGILJ|tired, aloof and coy|2000-05-21|    2.0| [1, 40]|\n",
      "|B00000064F|This is so totaly...|A23YXA0AX47YPD|      UNOBNOXIOUS...|2003-06-25|    3.0| [2, 27]|\n",
      "|B00000064G|I listen to alot ...|A1HUX7WN8E65R3| Sorry - but lame...|2006-11-20|    3.0| [3, 36]|\n",
      "|B00000064G|Apparently, a lot...|A3PMH0QA2VJLQU|   A tear on the sun|2001-02-16|    1.0| [7, 58]|\n",
      "|B00000064G|This album had su...|A2WBI98LKKLHYR|Nick Drake is ove...|2005-02-25|    2.0| [6, 55]|\n",
      "|B00000064G|There's music in ...|A1F9Z42CFF9IAY|There's Music in ...|1999-11-18|    5.0| [8, 38]|\n",
      "|B0000009UX|Elvis Costello ha...|A2QWF2BJ2FM4R2|Not that good really|2006-03-09|    3.0| [1, 26]|\n",
      "|B000000HKV|Because suckers b...|A3R32VYVC8IJB9|If it's sooooo go...|2006-11-29|    1.0| [3, 24]|\n",
      "|B000000HQ1|if you read any o...|A352J25D5FIO5T|not quite like th...|2006-11-03|    1.0| [5, 30]|\n",
      "|B000000OMB|terrible supergro...| A7JRDNX3WOMTR|very dumb, you sh...|2005-04-29|    2.0| [5, 40]|\n",
      "|B000000OPZ|When \"Here I Go A...|A2W7WUVO0JA6LL|Unintentionally f...|2006-11-03|    1.0| [3, 30]|\n",
      "|B000000ORB|Together with the...|A1YQHOKBEFHFA5|Was he really a m...|2003-03-19|    1.0| [2, 34]|\n",
      "|B000000OT5|Walked into my fa...|A319Y60NW7HS77|What happened to ...|2005-06-29|    1.0| [0, 36]|\n",
      "|B000000OU9|Lisa Loeb luck ch...|A10ID9PBP48AXN|BLAND, AVERAGE AN...|2005-03-13|    1.0| [1, 27]|\n",
      "|B000000OUJ|this is an OK cd....|A3RDJSRU8HD5W5|Overrated,  but s...|2001-06-09|    3.0| [0, 27]|\n",
      "|B000000OUJ|I don't know why ...|A1JMZB14WOJE84|           overrated|2005-09-20|    2.0| [2, 41]|\n",
      "+----------+--------------------+--------------+--------------------+----------+-------+--------+\n",
      "only showing top 20 rows\n",
      "\n"
     ]
    }
   ],
   "source": [
    "data.filter(data.helpful[1]-data.helpful[0]>20).show()"
   ]
  },
  {
   "cell_type": "markdown",
   "metadata": {},
   "source": [
    "Querying along **productID**:"
   ]
  },
  {
   "cell_type": "code",
   "execution_count": 9,
   "metadata": {
    "collapsed": false
   },
   "outputs": [
    {
     "name": "stdout",
     "output_type": "stream",
     "text": [
      "+----------+-----+\n",
      "| productID|count|\n",
      "+----------+-----+\n",
      "|B0007NFL18|  272|\n",
      "|B000084T18|  271|\n",
      "|B00006690F|  204|\n",
      "|B00004T9UF|  202|\n",
      "|B00005YW4H|  190|\n",
      "|B0006ZQ9BS|  185|\n",
      "|B0000AGWFX|  181|\n",
      "|B00005O54Q|  169|\n",
      "|B00000163G|  166|\n",
      "|B00065XJ52|  159|\n",
      "+----------+-----+\n",
      "only showing top 10 rows\n",
      "\n"
     ]
    }
   ],
   "source": [
    "data.groupBy('productID').count().sort('count',ascending=False).show(10)"
   ]
  },
  {
   "cell_type": "markdown",
   "metadata": {},
   "source": [
    "Querying along **reviewerID**:"
   ]
  },
  {
   "cell_type": "code",
   "execution_count": 4,
   "metadata": {
    "collapsed": false
   },
   "outputs": [
    {
     "name": "stdout",
     "output_type": "stream",
     "text": [
      "+--------------+-----+\n",
      "|    reviewerID|total|\n",
      "+--------------+-----+\n",
      "| A9Q28YTLYREO7|  578|\n",
      "| A8IFUOL8S9BZC|  256|\n",
      "|A1GN8UJIZLCA59|  246|\n",
      "|A200C7YQJ45LRR|  200|\n",
      "|A1J5KCZC8CMW9I|  182|\n",
      "| A8SCX6VUTE05H|  172|\n",
      "|A2582KMXLK2P06|  160|\n",
      "|A1IKOYZVFHO1XP|  144|\n",
      "|A12R54MKO17TW0|  132|\n",
      "|A2ETZ7GF5B1712|  130|\n",
      "+--------------+-----+\n",
      "only showing top 10 rows\n",
      "\n"
     ]
    }
   ],
   "source": [
    "data.groupBy('reviewerID').count().withColumnRenamed(\"count\", \"total\").sort('total',ascending=False).filter('total%2==0').show(10)"
   ]
  },
  {
   "cell_type": "code",
   "execution_count": null,
   "metadata": {
    "collapsed": true
   },
   "outputs": [],
   "source": []
  }
 ],
 "metadata": {
  "anaconda-cloud": {},
  "kernelspec": {
   "display_name": "Python [default]",
   "language": "python",
   "name": "python2"
  },
  "language_info": {
   "codemirror_mode": {
    "name": "ipython",
    "version": 2
   },
   "file_extension": ".py",
   "mimetype": "text/x-python",
   "name": "python",
   "nbconvert_exporter": "python",
   "pygments_lexer": "ipython2",
   "version": "2.7.12"
  }
 },
 "nbformat": 4,
 "nbformat_minor": 1
}
