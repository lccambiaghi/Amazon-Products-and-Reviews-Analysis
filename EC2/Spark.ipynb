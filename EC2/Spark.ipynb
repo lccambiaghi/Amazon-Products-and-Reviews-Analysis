{
 "cells": [
  {
   "cell_type": "markdown",
   "metadata": {},
   "source": [
    "# Very simple startup with Spark (WORKING!!!)"
   ]
  },
  {
   "cell_type": "code",
   "execution_count": 4,
   "metadata": {
    "collapsed": false
   },
   "outputs": [
    {
     "name": "stdout",
     "output_type": "stream",
     "text": [
      "[('count', 6063208), ('price', 211831713.8699847)]\n",
      "0.0286227585531\n"
     ]
    }
   ],
   "source": [
    "import ujson\n",
    "import ast\n",
    "\n",
    "def json_parser(line):\n",
    "    review_dictionary = ast.literal_eval(line)\n",
    "    if 'price' in review_dictionary.keys():\n",
    "        \n",
    "        #yield \"reviewerID\", review_dictionary['reviewerID']\n",
    "        #yield \"asin\", review_dictionary['asin']\n",
    "        #yield \"reviewerName\", review_dictionary['reviewerName']\n",
    "        #yield \"helpful\", review_dictionary['helpful']\n",
    "        #yield \"reviewText\", review_dictionary['reviewText']\n",
    "        yield \"price\", review_dictionary['price']\n",
    "        #yield \"summary\", review_dictionary['summary']\n",
    "        #yield \"unixReviewTime\", review_dictionary['unixReviewTime']\n",
    "        #yield \"reviewTime\", review_dictionary['reviewTime']\n",
    "        yield 'count', 1\n",
    "    \n",
    "lines = sc.textFile(\"../../amazon_dataset/metadata.json\")\n",
    "review_values = lines.flatMap(json_parser)\n",
    "key_lists = review_values.reduceByKey(lambda a,b: a+b)\n",
    "\n",
    "a = key_lists.collect()\n",
    "\n",
    "print a\n",
    "\n",
    "print a[0][1]*1.0/a[1][1]"
   ]
  },
  {
   "cell_type": "code",
   "execution_count": 57,
   "metadata": {
    "collapsed": false
   },
   "outputs": [
    {
     "name": "stdout",
     "output_type": "stream",
     "text": [
      "\n"
     ]
    }
   ],
   "source": [
    "result = {}\n",
    "for elm in a:\n",
    "    if elm[0]=='count':\n",
    "        result['count']=elm[1]\n",
    "    else:\n",
    "        result['price']=elm[1]"
   ]
  },
  {
   "cell_type": "code",
   "execution_count": 58,
   "metadata": {
    "collapsed": false
   },
   "outputs": [
    {
     "name": "stdout",
     "output_type": "stream",
     "text": [
      "The average price of all the products is: 34.9372335354\n"
     ]
    }
   ],
   "source": [
    "print 'The average price of all the products is:',result['price']/result['count']"
   ]
  },
  {
   "cell_type": "code",
   "execution_count": 1,
   "metadata": {
    "collapsed": false
   },
   "outputs": [
    {
     "name": "stdout",
     "output_type": "stream",
     "text": [
      "root\n",
      " |-- asin: string (nullable = true)\n",
      " |-- helpful: array (nullable = true)\n",
      " |    |-- element: long (containsNull = true)\n",
      " |-- overall: double (nullable = true)\n",
      " |-- reviewText: string (nullable = true)\n",
      " |-- reviewTime: string (nullable = true)\n",
      " |-- reviewerID: string (nullable = true)\n",
      " |-- reviewerName: string (nullable = true)\n",
      " |-- summary: string (nullable = true)\n",
      " |-- unixReviewTime: long (nullable = true)\n",
      "\n"
     ]
    }
   ],
   "source": [
    "music = spark.read.json('../../amazon_dataset/reviews_Musical_Instruments_5.json')\n",
    "music.printSchema()"
   ]
  },
  {
   "cell_type": "code",
   "execution_count": 76,
   "metadata": {
    "collapsed": false
   },
   "outputs": [
    {
     "name": "stdout",
     "output_type": "stream",
     "text": [
      "+----------+------------------------------------------------------------+----------+--------------+\n",
      "|ProductID |summary                                                     |helpful   |unixReviewTime|\n",
      "+----------+------------------------------------------------------------+----------+--------------+\n",
      "|B0002GXZK4|This guitar DOES have a BIG SOUND for a small price         |[156, 160]|1111708800    |\n",
      "|B0002H0H4A|The Pop Rocks with the Yeti                                 |[101, 105]|1342656000    |\n",
      "|B000B6DHB2|Impressive Sound from an Inexpensive Source - UPDATE 7/11/14|[130, 136]|1230422400    |\n",
      "|B000BWEM42|Well built folding stand great for guitar music and tab     |[156, 161]|1197504000    |\n",
      "|B002Q0WSO8|Finally!  Amazon offers the Intelli IMT-500                 |[188, 193]|1177027200    |\n",
      "|B003FVB7XA|Considerably better than anticipated!                       |[259, 266]|1223683200    |\n",
      "|B0042EZH6W|Bought it for my Kid. Now I'm buying it for myself!         |[190, 192]|1293753600    |\n",
      "|B00646MZHK|Inexpensive Gem                                             |[112, 117]|1324339200    |\n",
      "+----------+------------------------------------------------------------+----------+--------------+\n",
      "\n"
     ]
    }
   ],
   "source": [
    "music.registerTempTable('music')\n",
    "result = spark.sql(\"SELECT asin as ProductID,summary,helpful,unixReviewTime FROM music WHERE overall==5.0 AND helpful[1]-helpful[0]<10 AND helpful[0]!=0 AND helpful[1]!=0 AND helpful[0]>100\")\n",
    "result.show(10, truncate=False)"
   ]
  },
  {
   "cell_type": "code",
   "execution_count": 43,
   "metadata": {
    "collapsed": false
   },
   "outputs": [
    {
     "name": "stdout",
     "output_type": "stream",
     "text": [
      "+----------+-------+-------+--------------------+-----------+--------------+--------------------+--------------------+--------------+\n",
      "|      asin|helpful|overall|          reviewText| reviewTime|    reviewerID|        reviewerName|             summary|unixReviewTime|\n",
      "+----------+-------+-------+--------------------+-----------+--------------+--------------------+--------------------+--------------+\n",
      "|0528881469| [0, 0]|    5.0|We got this GPS f...| 06 2, 2013| AO94DHGC771SJ|             amazdnu|     Gotta have GPS!|    1370131200|\n",
      "|0594451647| [3, 3]|    5.0|I am using this w...| 01 3, 2014|A2JXAZZI9PHK9Z|Billy G. Noland \"...|HDMI Nook adapter...|    1388707200|\n",
      "|0594451647| [0, 0]|    5.0|This adaptor is r...| 05 4, 2014| AAZ084UMH8VZ2|D. L. Brown \"A Kn...|A Perfdect Nook H...|    1399161600|\n",
      "|0594451647| [0, 0]|    4.0|This adapter easi...|07 11, 2014| AEZ3CR6BKIROJ|        Mark Dietter|A nice easy to us...|    1405036800|\n",
      "|0594451647| [3, 3]|    5.0|This product real...|01 20, 2014|A3BY5KCNQZXV5U|             Matenai|This works great ...|    1390176000|\n",
      "|0594481813| [2, 2]|    4.0|This item is just...|04 16, 2014| A7S2B0I67WNWB|              AllyMG|         As expected|    1397606400|\n",
      "|0594481813| [0, 0]|    5.0|bought for a spar...| 05 5, 2014|A3HICVLF4PFFMN|     Amazon Customer|           great fit|    1399248000|\n",
      "|0594481813| [1, 1]|    5.0|My son crewed my ...|06 24, 2013| ANSKSPEEAKY7S|                Gena|         Works Great|    1372032000|\n",
      "|0594481813| [2, 2]|    5.0|I lost my B&N ori...| 03 9, 2014| ANY6JUFM0GH8U|          J. Clement|Great replacement...|    1394323200|\n",
      "|0594481813| [2, 2]|    4.0|Works well, a lit...|06 27, 2013|A1S6B5QFWGVL5U|          T. Vaughan|    Good replacement|    1372291200|\n",
      "+----------+-------+-------+--------------------+-----------+--------------+--------------------+--------------------+--------------+\n",
      "only showing top 10 rows\n",
      "\n"
     ]
    }
   ],
   "source": [
    "filtered = music.filter(music.overall>3.5).show(10)"
   ]
  },
  {
   "cell_type": "code",
   "execution_count": 46,
   "metadata": {
    "collapsed": false
   },
   "outputs": [
    {
     "data": {
      "text/plain": [
       "DataFrame[asin: string, helpful: array<bigint>, overall: double, reviewText: string, reviewTime: string, reviewerID: string, summary: string, unixReviewTime: bigint]"
      ]
     },
     "execution_count": 46,
     "metadata": {},
     "output_type": "execute_result"
    }
   ],
   "source": [
    "music.drop('reviewerName')"
   ]
  },
  {
   "cell_type": "code",
   "execution_count": 74,
   "metadata": {
    "collapsed": false
   },
   "outputs": [
    {
     "data": {
      "text/plain": [
       "Column<unixReviewTime AS `Unix Review Time`>"
      ]
     },
     "execution_count": 74,
     "metadata": {},
     "output_type": "execute_result"
    }
   ],
   "source": [
    "music.unixReviewTime.alias('Unix Review Time')"
   ]
  },
  {
   "cell_type": "code",
   "execution_count": 87,
   "metadata": {
    "collapsed": false
   },
   "outputs": [
    {
     "name": "stdout",
     "output_type": "stream",
     "text": [
      "+----------+-----+\n",
      "|      asin|count|\n",
      "+----------+-----+\n",
      "|B003VWJ2K8|  163|\n",
      "|B0002E1G5C|  143|\n",
      "|B0002F7K7Y|  116|\n",
      "|B003VWKPHC|  114|\n",
      "|B0002H0A3S|   93|\n",
      "|B0002CZVXM|   74|\n",
      "|B0006NDF8A|   71|\n",
      "|B0009G1E0K|   69|\n",
      "|B0002E2KPC|   68|\n",
      "|B0002GLDQM|   67|\n",
      "|B004XNK7AI|   65|\n",
      "|B005FKF1PY|   63|\n",
      "|B00646MZHK|   62|\n",
      "|B0002GMGYA|   58|\n",
      "|B001PGXHX0|   58|\n",
      "|B0018TIADQ|   57|\n",
      "|B000978D58|   57|\n",
      "|B001PGXKC8|   55|\n",
      "|B0002D0CEO|   55|\n",
      "|B000068NW5|   52|\n",
      "+----------+-----+\n",
      "only showing top 20 rows\n",
      "\n"
     ]
    }
   ],
   "source": [
    "music.select('asin').groupby('asin').count().sort('count',ascending=False).show()"
   ]
  },
  {
   "cell_type": "markdown",
   "metadata": {},
   "source": [
    "# Creating a DataFrame from JSON string (useful for Metadata.json)"
   ]
  },
  {
   "cell_type": "code",
   "execution_count": 55,
   "metadata": {
    "collapsed": false
   },
   "outputs": [
    {
     "name": "stdout",
     "output_type": "stream",
     "text": [
      "+---------------+----+\n",
      "|        address|name|\n",
      "+---------------+----+\n",
      "|[Columbus,Ohio]| Yin|\n",
      "|[Columbus,Ohio]| Yon|\n",
      "+---------------+----+\n",
      "\n"
     ]
    }
   ],
   "source": [
    "jsonStrings = ['{\"name\":\"Yin\",\"address\":{\"city\":\"Columbus\",\"state\":\"Ohio\"}}','{\"name\":\"Yon\",\"address\":{\"city\":\"Columbus\",\"state\":\"Ohio\"}}']\n",
    "otherPeopleRDD = sc.parallelize(jsonStrings)\n",
    "otherPeople = spark.read.json(otherPeopleRDD)\n",
    "otherPeople.show()"
   ]
  },
  {
   "cell_type": "code",
   "execution_count": 61,
   "metadata": {
    "collapsed": false
   },
   "outputs": [
    {
     "name": "stdout",
     "output_type": "stream",
     "text": [
      "root\n",
      " |-- _corrupt_record: string (nullable = true)\n",
      " |-- asin: string (nullable = true)\n",
      " |-- brand: string (nullable = true)\n",
      " |-- categories: array (nullable = true)\n",
      " |    |-- element: array (containsNull = true)\n",
      " |    |    |-- element: string (containsNull = true)\n",
      " |-- description: string (nullable = true)\n",
      " |-- imUrl: string (nullable = true)\n",
      " |-- price: double (nullable = true)\n",
      " |-- related: struct (nullable = true)\n",
      " |    |-- also_bought: array (nullable = true)\n",
      " |    |    |-- element: string (containsNull = true)\n",
      " |    |-- also_viewed: array (nullable = true)\n",
      " |    |    |-- element: string (containsNull = true)\n",
      " |    |-- bought_together: array (nullable = true)\n",
      " |    |    |-- element: string (containsNull = true)\n",
      " |    |-- buy_after_viewing: array (nullable = true)\n",
      " |    |    |-- element: string (containsNull = true)\n",
      " |-- salesRank: struct (nullable = true)\n",
      " |    |-- Appliances: long (nullable = true)\n",
      " |    |-- Arts, Crafts & Sewing: long (nullable = true)\n",
      " |    |-- Automotive: long (nullable = true)\n",
      " |    |-- Baby: long (nullable = true)\n",
      " |    |-- Beauty: long (nullable = true)\n",
      " |    |-- Books: long (nullable = true)\n",
      " |    |-- Camera &amp; Photo: long (nullable = true)\n",
      " |    |-- Cell Phones & Accessories: long (nullable = true)\n",
      " |    |-- Clothing: long (nullable = true)\n",
      " |    |-- Computers & Accessories: long (nullable = true)\n",
      " |    |-- Electronics: long (nullable = true)\n",
      " |    |-- Gift Cards Store: long (nullable = true)\n",
      " |    |-- Grocery & Gourmet Food: long (nullable = true)\n",
      " |    |-- Health & Personal Care: long (nullable = true)\n",
      " |    |-- Home &amp; Kitchen: long (nullable = true)\n",
      " |    |-- Home Improvement: long (nullable = true)\n",
      " |    |-- Industrial & Scientific: long (nullable = true)\n",
      " |    |-- Jewelry: long (nullable = true)\n",
      " |    |-- Kitchen & Dining: long (nullable = true)\n",
      " |    |-- Magazines: long (nullable = true)\n",
      " |    |-- Movies & TV: long (nullable = true)\n",
      " |    |-- Music: long (nullable = true)\n",
      " |    |-- Musical Instruments: long (nullable = true)\n",
      " |    |-- Office Products: long (nullable = true)\n",
      " |    |-- Patio, Lawn & Garden: long (nullable = true)\n",
      " |    |-- Pet Supplies: long (nullable = true)\n",
      " |    |-- Prime Pantry: long (nullable = true)\n",
      " |    |-- Shoes: long (nullable = true)\n",
      " |    |-- Software: long (nullable = true)\n",
      " |    |-- Sports &amp; Outdoors: long (nullable = true)\n",
      " |    |-- Toys & Games: long (nullable = true)\n",
      " |    |-- Video Games: long (nullable = true)\n",
      " |    |-- Watches: long (nullable = true)\n",
      " |-- title: string (nullable = true)\n",
      "\n"
     ]
    }
   ],
   "source": [
    "metadata = spark.read.json('../../amazon_dataset/metadata.json')\n",
    "metadata.printSchema()"
   ]
  },
  {
   "cell_type": "markdown",
   "metadata": {},
   "source": [
    "# IMPORTANT: Reviews Parsing and Querying"
   ]
  },
  {
   "cell_type": "markdown",
   "metadata": {},
   "source": [
    "## Parsing"
   ]
  },
  {
   "cell_type": "markdown",
   "metadata": {},
   "source": [
    "Using this function to properly parse each JSON dict:"
   ]
  },
  {
   "cell_type": "code",
   "execution_count": 2,
   "metadata": {
    "collapsed": true
   },
   "outputs": [],
   "source": [
    "import ujson\n",
    "from toolz import dissoc\n",
    "import datetime\n",
    "import re\n",
    "import time\n",
    "from pyspark.sql.types import *"
   ]
  },
  {
   "cell_type": "markdown",
   "metadata": {},
   "source": [
    "Function used to convert a UNIX timestamp to a proper datetime object (more human-readable):"
   ]
  },
  {
   "cell_type": "code",
   "execution_count": 3,
   "metadata": {
    "collapsed": false
   },
   "outputs": [],
   "source": [
    "def convert_date(date):\n",
    "    date = datetime.date.fromtimestamp(int(date))\n",
    "    return date\n",
    "\n",
    "#Used to remove reviewerName (not interesting) and to convert UNIX timestamp in date object\n",
    "def reviews_parser(line):\n",
    "    try:\n",
    "        line = ujson.loads(line)\n",
    "        line['productID'] = line['asin']\n",
    "        line['reviewTime'] = convert_date(line['unixReviewTime'])        \n",
    "    except:\n",
    "        line['reviewTime'] = None\n",
    "    return dissoc(line,'reviewerName','unixReviewTime','asin')"
   ]
  },
  {
   "cell_type": "markdown",
   "metadata": {},
   "source": [
    "We're using the `k_core_no_books.json` so we get rid of books, which are not relevant for our analysis. Amazon became something like a huge book shop and more than 50% of the total reviews are for books, so they're actually involving other parameters regarding the content of the book. We are focusing on reviews for each specific product."
   ]
  },
  {
   "cell_type": "code",
   "execution_count": 4,
   "metadata": {
    "collapsed": false
   },
   "outputs": [],
   "source": [
    "f = '../../amazon_dataset/kcore_5_no_books.json'\n",
    "\n",
    "#Definition of schema for the DataFrame\n",
    "string_fields = ['productID','reviewText','reviewerID','summary']\n",
    "fields = [StructField(field_name, StringType(), False) for field_name in string_fields]\n",
    "fields+=[StructField('reviewTime',DateType(),True),\n",
    "         StructField('overall',FloatType(),False),\n",
    "         StructField('helpful',ArrayType(IntegerType(),containsNull=False),False)]\n",
    "schema = StructType(fields)\n",
    "\n",
    "data = sc.textFile(f)\n",
    "data = data.map(reviews_parser)\n",
    "data = data.toDF(schema)"
   ]
  },
  {
   "cell_type": "code",
   "execution_count": 5,
   "metadata": {
    "collapsed": false
   },
   "outputs": [
    {
     "name": "stdout",
     "output_type": "stream",
     "text": [
      "root\n",
      " |-- productID: string (nullable = false)\n",
      " |-- reviewText: string (nullable = false)\n",
      " |-- reviewerID: string (nullable = false)\n",
      " |-- summary: string (nullable = false)\n",
      " |-- reviewTime: date (nullable = true)\n",
      " |-- overall: float (nullable = false)\n",
      " |-- helpful: array (nullable = false)\n",
      " |    |-- element: integer (containsNull = false)\n",
      "\n"
     ]
    }
   ],
   "source": [
    "data.printSchema()"
   ]
  },
  {
   "cell_type": "code",
   "execution_count": 5,
   "metadata": {
    "collapsed": false
   },
   "outputs": [
    {
     "name": "stdout",
     "output_type": "stream",
     "text": [
      "+----------+--------------------+--------------+--------------------+----------+-------+--------+\n",
      "| productID|          reviewText|    reviewerID|             summary|reviewTime|overall| helpful|\n",
      "+----------+--------------------+--------------+--------------------+----------+-------+--------+\n",
      "|1384719342|Not much to write...|A2IBPI20UZIR0U|                good|2014-02-28|    5.0|  [0, 0]|\n",
      "|1384719342|The product does ...|A14VAT5EAX3D9S|                Jake|2013-03-16|    5.0|[13, 14]|\n",
      "|1384719342|The primary job o...|A195EZSQDW3E21|It Does The Job Well|2013-08-28|    5.0|  [1, 1]|\n",
      "|1384719342|Nice windscreen p...|A2C00NNG1ZQQG2|GOOD WINDSCREEN F...|2014-02-14|    5.0|  [0, 0]|\n",
      "|1384719342|This pop filter i...| A94QU4C90B1AX|No more pops when...|2014-02-21|    5.0|  [0, 0]|\n",
      "|B00004Y2UT|So good that I bo...|A2A039TZMZHH9Y|      The Best Cable|2012-12-21|    5.0|  [0, 0]|\n",
      "|B00004Y2UT|I have used monst...|A1UPZM995ZAH90|Monster Standard ...|2014-01-19|    5.0|  [0, 0]|\n",
      "|B00004Y2UT|I now use this ca...| AJNFQI3YR6XJ5|Didn't fit my 199...|2012-11-16|    3.0|  [0, 0]|\n",
      "|B00004Y2UT|Perfect for my Ep...|A3M1PLEYNDEYO8|         Great cable|2008-07-06|    5.0|  [0, 0]|\n",
      "|B00004Y2UT|Monster makes the...| AMNTZU1YQN1TH|Best Instrument C...|2014-01-08|    5.0|  [0, 0]|\n",
      "+----------+--------------------+--------------+--------------------+----------+-------+--------+\n",
      "only showing top 10 rows\n",
      "\n"
     ]
    }
   ],
   "source": [
    "data.show(10)"
   ]
  },
  {
   "cell_type": "markdown",
   "metadata": {},
   "source": [
    "This command is needed in order to register a table name like `reviews` which can be used directly in SQL queries."
   ]
  },
  {
   "cell_type": "code",
   "execution_count": 6,
   "metadata": {
    "collapsed": true
   },
   "outputs": [],
   "source": [
    "data.registerTempTable('reviews')"
   ]
  },
  {
   "cell_type": "markdown",
   "metadata": {},
   "source": [
    "Let's count the total number of reviews:"
   ]
  },
  {
   "cell_type": "code",
   "execution_count": 13,
   "metadata": {
    "collapsed": false
   },
   "outputs": [
    {
     "name": "stdout",
     "output_type": "stream",
     "text": [
      "+-------------+\n",
      "|Total_Reviews|\n",
      "+-------------+\n",
      "|      9288692|\n",
      "+-------------+\n",
      "\n"
     ]
    }
   ],
   "source": [
    "spark.sql('SELECT count(*) AS Total_Reviews FROM reviews').show()"
   ]
  },
  {
   "cell_type": "markdown",
   "metadata": {},
   "source": [
    "So, our dataset contains **9M+ reviews**."
   ]
  },
  {
   "cell_type": "markdown",
   "metadata": {},
   "source": [
    "## Trying to query along all the columns, to check if they work with their type:"
   ]
  },
  {
   "cell_type": "markdown",
   "metadata": {},
   "source": [
    "**Date**: there are some problems, in the schema it's listed as 'date' type, instead it's impossible to extract year/month/day from the object (it raises exception); it works if it's treated as string object... WTF?"
   ]
  },
  {
   "cell_type": "code",
   "execution_count": 11,
   "metadata": {
    "collapsed": false
   },
   "outputs": [
    {
     "name": "stdout",
     "output_type": "stream",
     "text": [
      "+----------+--------------------+--------------+--------------------+----------+-------+-------+\n",
      "| productID|          reviewText|    reviewerID|             summary|reviewTime|overall|helpful|\n",
      "+----------+--------------------+--------------+--------------------+----------+-------+-------+\n",
      "|B000068O1N|Haven't used it y...|A3UPEG3LRWOX16|         Nice Cables|2013-12-25|    4.0| [0, 0]|\n",
      "|B0002E1G5C|Overall, I like t...|A19Q4B515ENF9C|Does the job but ...|2013-12-25|    4.0| [0, 0]|\n",
      "|B0002E1I2I|I bought my new g...|A19Q4B515ENF9C|I guess this work...|2013-12-25|    3.0| [0, 0]|\n",
      "|B0006NDF8A|This is fine for ...|A19Q4B515ENF9C|Works fine and pr...|2013-12-25|    5.0| [0, 0]|\n",
      "|B002NG7DEK|This strap works ...|A19Q4B515ENF9C|Works great for m...|2013-12-25|    4.0| [0, 0]|\n",
      "|B005LYIW3W|This pedal is ver...|A2W03JTG0K5OKF|         Great Tone!|2013-12-25|    5.0| [0, 0]|\n",
      "|B0006IX7Y2|Easy to use, easy...|A2KS03QLEXP09W|       Great product|2013-12-25|    5.0| [0, 0]|\n",
      "|B0007LVJ20|Easy to use. Keep...|A1MZ2BJHUSTW0W|    safe and secure.|2013-12-25|    5.0| [0, 0]|\n",
      "|B0009IQXXG|Does as stated, b...|A1JSY4NTAEFOPL|its okay, that's ...|2013-12-25|    3.0| [0, 1]|\n",
      "|B000GX9FSY|Purchased these f...| ACX25O6EVKQL6|      BMW E-36 318is|2013-12-25|    5.0| [0, 0]|\n",
      "+----------+--------------------+--------------+--------------------+----------+-------+-------+\n",
      "only showing top 10 rows\n",
      "\n"
     ]
    }
   ],
   "source": [
    "data.filter(data.reviewTime.startswith('2013-12-25')).show(10)"
   ]
  },
  {
   "cell_type": "markdown",
   "metadata": {},
   "source": [
    "Not working treating the reviewTime as a date object and trying to extract its attributes:"
   ]
  },
  {
   "cell_type": "code",
   "execution_count": 26,
   "metadata": {
    "collapsed": false
   },
   "outputs": [
    {
     "ename": "AnalysisException",
     "evalue": "u\"Can't extract value from reviewTime#78;\"",
     "output_type": "error",
     "traceback": [
      "\u001b[0;31m---------------------------------------------------------------------------\u001b[0m",
      "\u001b[0;31mAnalysisException\u001b[0m                         Traceback (most recent call last)",
      "\u001b[0;32m<ipython-input-26-ad4b31b345f2>\u001b[0m in \u001b[0;36m<module>\u001b[0;34m()\u001b[0m\n\u001b[0;32m----> 1\u001b[0;31m \u001b[0mdata\u001b[0m\u001b[0;34m.\u001b[0m\u001b[0mfilter\u001b[0m\u001b[0;34m(\u001b[0m\u001b[0mdata\u001b[0m\u001b[0;34m.\u001b[0m\u001b[0mreviewTime\u001b[0m\u001b[0;34m.\u001b[0m\u001b[0myear\u001b[0m\u001b[0;34m==\u001b[0m\u001b[0;36m2014\u001b[0m\u001b[0;34m)\u001b[0m\u001b[0;34m.\u001b[0m\u001b[0mshow\u001b[0m\u001b[0;34m(\u001b[0m\u001b[0;36m10\u001b[0m\u001b[0;34m)\u001b[0m\u001b[0;34m\u001b[0m\u001b[0m\n\u001b[0m",
      "\u001b[0;32m/home/ec2-user/spark-2.0.2-bin-hadoop2.7/python/pyspark/sql/dataframe.pyc\u001b[0m in \u001b[0;36mfilter\u001b[0;34m(self, condition)\u001b[0m\n\u001b[1;32m    899\u001b[0m             \u001b[0mjdf\u001b[0m \u001b[0;34m=\u001b[0m \u001b[0mself\u001b[0m\u001b[0;34m.\u001b[0m\u001b[0m_jdf\u001b[0m\u001b[0;34m.\u001b[0m\u001b[0mfilter\u001b[0m\u001b[0;34m(\u001b[0m\u001b[0mcondition\u001b[0m\u001b[0;34m)\u001b[0m\u001b[0;34m\u001b[0m\u001b[0m\n\u001b[1;32m    900\u001b[0m         \u001b[0;32melif\u001b[0m \u001b[0misinstance\u001b[0m\u001b[0;34m(\u001b[0m\u001b[0mcondition\u001b[0m\u001b[0;34m,\u001b[0m \u001b[0mColumn\u001b[0m\u001b[0;34m)\u001b[0m\u001b[0;34m:\u001b[0m\u001b[0;34m\u001b[0m\u001b[0m\n\u001b[0;32m--> 901\u001b[0;31m             \u001b[0mjdf\u001b[0m \u001b[0;34m=\u001b[0m \u001b[0mself\u001b[0m\u001b[0;34m.\u001b[0m\u001b[0m_jdf\u001b[0m\u001b[0;34m.\u001b[0m\u001b[0mfilter\u001b[0m\u001b[0;34m(\u001b[0m\u001b[0mcondition\u001b[0m\u001b[0;34m.\u001b[0m\u001b[0m_jc\u001b[0m\u001b[0;34m)\u001b[0m\u001b[0;34m\u001b[0m\u001b[0m\n\u001b[0m\u001b[1;32m    902\u001b[0m         \u001b[0;32melse\u001b[0m\u001b[0;34m:\u001b[0m\u001b[0;34m\u001b[0m\u001b[0m\n\u001b[1;32m    903\u001b[0m             \u001b[0;32mraise\u001b[0m \u001b[0mTypeError\u001b[0m\u001b[0;34m(\u001b[0m\u001b[0;34m\"condition should be string or Column\"\u001b[0m\u001b[0;34m)\u001b[0m\u001b[0;34m\u001b[0m\u001b[0m\n",
      "\u001b[0;32m/home/ec2-user/spark-2.0.2-bin-hadoop2.7/python/lib/py4j-0.10.3-src.zip/py4j/java_gateway.py\u001b[0m in \u001b[0;36m__call__\u001b[0;34m(self, *args)\u001b[0m\n\u001b[1;32m   1131\u001b[0m         \u001b[0manswer\u001b[0m \u001b[0;34m=\u001b[0m \u001b[0mself\u001b[0m\u001b[0;34m.\u001b[0m\u001b[0mgateway_client\u001b[0m\u001b[0;34m.\u001b[0m\u001b[0msend_command\u001b[0m\u001b[0;34m(\u001b[0m\u001b[0mcommand\u001b[0m\u001b[0;34m)\u001b[0m\u001b[0;34m\u001b[0m\u001b[0m\n\u001b[1;32m   1132\u001b[0m         return_value = get_return_value(\n\u001b[0;32m-> 1133\u001b[0;31m             answer, self.gateway_client, self.target_id, self.name)\n\u001b[0m\u001b[1;32m   1134\u001b[0m \u001b[0;34m\u001b[0m\u001b[0m\n\u001b[1;32m   1135\u001b[0m         \u001b[0;32mfor\u001b[0m \u001b[0mtemp_arg\u001b[0m \u001b[0;32min\u001b[0m \u001b[0mtemp_args\u001b[0m\u001b[0;34m:\u001b[0m\u001b[0;34m\u001b[0m\u001b[0m\n",
      "\u001b[0;32m/home/ec2-user/spark-2.0.2-bin-hadoop2.7/python/pyspark/sql/utils.pyc\u001b[0m in \u001b[0;36mdeco\u001b[0;34m(*a, **kw)\u001b[0m\n\u001b[1;32m     67\u001b[0m                                              e.java_exception.getStackTrace()))\n\u001b[1;32m     68\u001b[0m             \u001b[0;32mif\u001b[0m \u001b[0ms\u001b[0m\u001b[0;34m.\u001b[0m\u001b[0mstartswith\u001b[0m\u001b[0;34m(\u001b[0m\u001b[0;34m'org.apache.spark.sql.AnalysisException: '\u001b[0m\u001b[0;34m)\u001b[0m\u001b[0;34m:\u001b[0m\u001b[0;34m\u001b[0m\u001b[0m\n\u001b[0;32m---> 69\u001b[0;31m                 \u001b[0;32mraise\u001b[0m \u001b[0mAnalysisException\u001b[0m\u001b[0;34m(\u001b[0m\u001b[0ms\u001b[0m\u001b[0;34m.\u001b[0m\u001b[0msplit\u001b[0m\u001b[0;34m(\u001b[0m\u001b[0;34m': '\u001b[0m\u001b[0;34m,\u001b[0m \u001b[0;36m1\u001b[0m\u001b[0;34m)\u001b[0m\u001b[0;34m[\u001b[0m\u001b[0;36m1\u001b[0m\u001b[0;34m]\u001b[0m\u001b[0;34m,\u001b[0m \u001b[0mstackTrace\u001b[0m\u001b[0;34m)\u001b[0m\u001b[0;34m\u001b[0m\u001b[0m\n\u001b[0m\u001b[1;32m     70\u001b[0m             \u001b[0;32mif\u001b[0m \u001b[0ms\u001b[0m\u001b[0;34m.\u001b[0m\u001b[0mstartswith\u001b[0m\u001b[0;34m(\u001b[0m\u001b[0;34m'org.apache.spark.sql.catalyst.analysis'\u001b[0m\u001b[0;34m)\u001b[0m\u001b[0;34m:\u001b[0m\u001b[0;34m\u001b[0m\u001b[0m\n\u001b[1;32m     71\u001b[0m                 \u001b[0;32mraise\u001b[0m \u001b[0mAnalysisException\u001b[0m\u001b[0;34m(\u001b[0m\u001b[0ms\u001b[0m\u001b[0;34m.\u001b[0m\u001b[0msplit\u001b[0m\u001b[0;34m(\u001b[0m\u001b[0;34m': '\u001b[0m\u001b[0;34m,\u001b[0m \u001b[0;36m1\u001b[0m\u001b[0;34m)\u001b[0m\u001b[0;34m[\u001b[0m\u001b[0;36m1\u001b[0m\u001b[0;34m]\u001b[0m\u001b[0;34m,\u001b[0m \u001b[0mstackTrace\u001b[0m\u001b[0;34m)\u001b[0m\u001b[0;34m\u001b[0m\u001b[0m\n",
      "\u001b[0;31mAnalysisException\u001b[0m: u\"Can't extract value from reviewTime#78;\""
     ]
    }
   ],
   "source": [
    "data.filter(data.reviewTime.year==2014).show(10)"
   ]
  },
  {
   "cell_type": "markdown",
   "metadata": {},
   "source": [
    "Querying along **helpful**:"
   ]
  },
  {
   "cell_type": "code",
   "execution_count": 7,
   "metadata": {
    "collapsed": false,
    "scrolled": false
   },
   "outputs": [
    {
     "name": "stdout",
     "output_type": "stream",
     "text": [
      "+----------+--------------------+--------------+--------------------+----------+-------+----------+\n",
      "| productID|          reviewText|    reviewerID|             summary|reviewTime|overall|   helpful|\n",
      "+----------+--------------------+--------------+--------------------+----------+-------+----------+\n",
      "|B0002CZV82|This is a cheap p...|A2B58VXLLOFQKR|         It distorts|2009-11-13|    1.0|   [2, 30]|\n",
      "|B000T9NKEU|It was Not what I...|A3MJARDJ31M698|       Cost Too Much|2010-06-05|    1.0|   [0, 30]|\n",
      "|B000ULAP4U|garbage if you li...|A1B3CNORXB1USI|almost zero stars...|2012-06-12|    1.0| [11, 101]|\n",
      "|B0042F1L4S|My review(s) for ...|A2OPSPL8LSSJPC|this amp is ooooo...|2012-01-24|    1.0|   [5, 30]|\n",
      "|B004OU2IQG|allotoday went to...|A1B3CNORXB1USI|so so for  conver...|2012-10-25|    1.0|  [17, 65]|\n",
      "|B004TE5HBU|Just use a smartp...|A16Z3HTUIYPDH8|    Use a smartphone|2013-03-13|    1.0|   [5, 38]|\n",
      "|B0002U2V1Y|I have a 1998 Ram...| A4WCZVA328QB4|Claying is more f...|2009-09-24|    3.0|[137, 177]|\n",
      "|B0002U2V1Y|After reading num...| A1VQHH85U7PX0|       Wwww...wow!!!|2005-07-15|    5.0|[134, 172]|\n",
      "|B000AAMY86|The installation ...| AN81JUYW2SL24|High Utility Fact...|2008-02-07|    4.0|[171, 195]|\n",
      "|B000BNYMX2|People need to un...|A2WYCJOJY6QSJI|Learn about oil. ...|2011-10-07|    4.0|[210, 234]|\n",
      "|B000E8T810|Filter is one of ...|A1E3RTMBHQ2RJE|               Price|2010-08-29|    1.0|   [2, 39]|\n",
      "|B000P17NXQ|Needed a brake co...|A3P1508PZ0UADD|                Nice|2010-10-14|    3.0|   [6, 29]|\n",
      "|B000RXNLK6|I actually though...|  AZBLP8S3CHH3|  Not as ultimate...|2009-03-25|    3.0|   [3, 37]|\n",
      "|B000XECJES|I love microfiber...|A3IOCPLIMYDBCD|Hello My Little C...|2008-09-07|    5.0|[133, 159]|\n",
      "|B0017K69MA|Walmart sells it ...|A1E3RTMBHQ2RJE|Does what it says...|2009-05-03|    1.0|   [8, 40]|\n",
      "|B003IS3HV0|In an attempt to ...| A9X2MLWQOALBW|Leaves leather oi...|2012-04-08|    2.0|[270, 296]|\n",
      "|B003POLA84|Has MAACO repaint...| AY4B9XKR85TTK|           Bad Paint|2013-02-22|    3.0|   [1, 27]|\n",
      "|B003UM7B98|I ordered this la...|A3GX7EVYDJZTWJ|Jack Review / Rev...|2013-03-12|    4.0|   [2, 34]|\n",
      "|B00480FIBE|I do not own thes...|A1UVOKK606C6QH|Warning about tin...|2012-10-29|    1.0|   [0, 21]|\n",
      "|B00FJXKE5E|This Automatic ou...|A100WO06OQR8BQ|              Stinko|2013-10-28|    1.0|   [3, 25]|\n",
      "+----------+--------------------+--------------+--------------------+----------+-------+----------+\n",
      "only showing top 20 rows\n",
      "\n"
     ]
    }
   ],
   "source": [
    "data.filter(data.helpful[1]-data.helpful[0]>20).show()"
   ]
  },
  {
   "cell_type": "markdown",
   "metadata": {},
   "source": [
    "Querying along **productID**:"
   ]
  },
  {
   "cell_type": "code",
   "execution_count": null,
   "metadata": {
    "collapsed": false
   },
   "outputs": [],
   "source": [
    "data.groupBy('productID').count().sort('count',ascending=False).show()"
   ]
  },
  {
   "cell_type": "markdown",
   "metadata": {},
   "source": [
    "Querying along **reviewerID**:"
   ]
  },
  {
   "cell_type": "code",
   "execution_count": 36,
   "metadata": {
    "collapsed": false
   },
   "outputs": [
    {
     "name": "stdout",
     "output_type": "stream",
     "text": [
      "+--------------+-----+\n",
      "|    reviewerID|total|\n",
      "+--------------+-----+\n",
      "| A9Q28YTLYREO7|  578|\n",
      "| A8IFUOL8S9BZC|  256|\n",
      "|A1GN8UJIZLCA59|  246|\n",
      "|A200C7YQJ45LRR|  200|\n",
      "|A1J5KCZC8CMW9I|  182|\n",
      "| A8SCX6VUTE05H|  172|\n",
      "|A2582KMXLK2P06|  160|\n",
      "|A1IKOYZVFHO1XP|  144|\n",
      "|A12R54MKO17TW0|  132|\n",
      "|A2ETZ7GF5B1712|  130|\n",
      "+--------------+-----+\n",
      "only showing top 10 rows\n",
      "\n"
     ]
    }
   ],
   "source": [
    "data.groupBy('reviewerID').count().withColumnRenamed(\"count\", \"total\").sort('total',ascending=False).filter('total%2==0').show(10)"
   ]
  },
  {
   "cell_type": "markdown",
   "metadata": {},
   "source": [
    "Querying along **reviewText** (same as **summary**):"
   ]
  },
  {
   "cell_type": "code",
   "execution_count": 12,
   "metadata": {
    "collapsed": false
   },
   "outputs": [
    {
     "name": "stdout",
     "output_type": "stream",
     "text": [
      "+----------+--------------------+--------------+--------------------+----------+-------+-------+\n",
      "| productID|          reviewText|    reviewerID|             summary|reviewTime|overall|helpful|\n",
      "+----------+--------------------+--------------+--------------------+----------+-------+-------+\n",
      "|B00GN8K6CU|Shit just got rea...|A1BQO66R6OLCCW|                 Wow|2013-11-19|    5.0| [1, 1]|\n",
      "|B00HGOMTP2|Shit is off the c...|A1VT0G2BIAWMQJ|OMG SHELLI U DID DAT|2013-12-22|    5.0| [0, 0]|\n",
      "|B00G9IYA5I|Shit just got rea...|A1BQO66R6OLCCW|               Omg!!|2013-10-31|    5.0| [3, 3]|\n",
      "|B00FOQ6LW6|Shit just got rea...|A1BQO66R6OLCCW|                 Wow|2013-11-24|    5.0| [0, 0]|\n",
      "|B00HFSMF76|Shit just got rea...|A1BQO66R6OLCCW|                 Wow|2014-01-16|    5.0| [0, 0]|\n",
      "|B00F0UCDL4|Shit is about to ...|A1BQO66R6OLCCW|               Wow!!|2013-09-09|    5.0| [0, 0]|\n",
      "|B0087ZUNR0|Shit just got rea...|A1BQO66R6OLCCW|                 Wow|2013-12-19|    5.0| [0, 0]|\n",
      "|0756408148|Shit just got rea...| ASC2FCOG56IIL|Fantastic additio...|2013-10-08|    5.0| [0, 0]|\n",
      "|B008N1RYJ8|Shit just got rea...|A2QF1P641GXMQ1|wwwwhhhhaaatttt!!...|2012-11-06|    5.0| [0, 0]|\n",
      "|B0002NVLJO|Shitake Mushrooms...|A2NAMKYHJX3BZE|The Perfect Deal ...|2014-05-01|    5.0| [0, 0]|\n",
      "|0989955311|Shit happens. But...|A1E7XSC6746U1W|Ah ha ha ha ha ha...|2013-10-28|    5.0| [0, 0]|\n",
      "|B00GDOLA3I|Shit just got rea...|A1BQO66R6OLCCW|                 Wow|2013-11-29|    5.0| [0, 0]|\n",
      "|B000JNQSIQ|Shitsu hair is no...| AXMWCUF54LYSV|works great aweso...|2014-05-04|    5.0| [0, 0]|\n",
      "|1419704591|Shitty mom, The p...|A22LJUYJEWZ3G2|          shitty mom|2012-10-04|    5.0| [0, 0]|\n",
      "|1492781622|Shit just got rea...|A1BQO66R6OLCCW|               Wow!!|2013-09-10|    5.0| [1, 1]|\n",
      "|0595434819|Shit is about to ...| AETBRD5YEX4Q2|                 OMG|2013-11-01|    5.0| [0, 1]|\n",
      "|1494415879|Shit just got rea...|A1BQO66R6OLCCW|                 Wow|2013-12-19|    5.0| [0, 0]|\n",
      "|B004VRJ1ZI|Shit! The PooPour...|A1DNF5WR0UYZ7C|    For Uncle George|2013-09-27|    5.0| [0, 1]|\n",
      "|B0000787GF|Shit, and I thoug...| A9IZ4H60VZMMT|Top Notch Death M...|2005-06-13|    5.0| [3, 3]|\n",
      "|B00HZCYYWG|        Shit was fie| AU43O5B44M6FK|Part 2 where art ...|2014-07-12|    5.0| [0, 0]|\n",
      "+----------+--------------------+--------------+--------------------+----------+-------+-------+\n",
      "only showing top 20 rows\n",
      "\n"
     ]
    }
   ],
   "source": [
    "data.filter(data['reviewText'].startswith('Shit')).sort('overall',ascending=False).show()"
   ]
  },
  {
   "cell_type": "markdown",
   "metadata": {},
   "source": [
    "# Start of the interesting analysis"
   ]
  },
  {
   "cell_type": "markdown",
   "metadata": {
    "collapsed": true
   },
   "source": [
    "1) Reviews' helpfulness (most helpful?)\n",
    "\n",
    "2) Most voted reviews (independent from good/bad score, just highest value for helpful[1])\n",
    "\n",
    "3) Most appreciated products (highest overall average)[per category?]\n",
    "\n",
    "4) Word clouds, both bad and good, both summary and text\n",
    "\n",
    "5) Overall score and sentiment: do this two parameters agree with each other? *(Is the text of the review expressing the same sentiment of the text?)*\n",
    "\n",
    "Temporal analysis:\n",
    "* Months of the year with the most reviews, across years\n",
    "* Sentiment analysis of the reviews over time (whole period, single year?)"
   ]
  },
  {
   "cell_type": "markdown",
   "metadata": {
    "collapsed": true
   },
   "source": [
    "## Reviews' Helpfulness\n",
    "Which are the most helpful reviews ever? In order to say this we can take in consideration the `helpful` parameter: it is represented as an array of 2 elements, where the second one indicates how many people *voted* the review, and the first one tells how voters out of the total considered this review *helpful*. The difference between these two values, thus, tells how many considered this review not helpful.\n",
    "\n",
    "Since there are lots of reviews with very few voters, we should filter them and take in consideration just reviews that were voted a lot of times. Let's calculate the **average number of voters** (we obviously exclude those reviews that were never voted):"
   ]
  },
  {
   "cell_type": "code",
   "execution_count": 9,
   "metadata": {
    "collapsed": false
   },
   "outputs": [
    {
     "name": "stdout",
     "output_type": "stream",
     "text": [
      "+-----------------+\n",
      "|  avg(helpful[1])|\n",
      "+-----------------+\n",
      "|8.431077453916476|\n",
      "+-----------------+\n",
      "\n"
     ]
    }
   ],
   "source": [
    "spark.sql(\"SELECT avg(helpful[1]) FROM reviews WHERE helpful[0]>0 AND helpful[1]>0\").show()"
   ]
  },
  {
   "cell_type": "markdown",
   "metadata": {},
   "source": [
    "The result above means that there are much more reviews with a low number of voters, which is obviously acceptable. Instead, let's try to find the **top 20 reviews with the highest number of voters**:"
   ]
  },
  {
   "cell_type": "code",
   "execution_count": 15,
   "metadata": {
    "collapsed": false
   },
   "outputs": [
    {
     "name": "stdout",
     "output_type": "stream",
     "text": [
      "+----------+--------------------+--------------+--------------------+----------+-------+--------------+\n",
      "| productID|          reviewText|    reviewerID|             summary|reviewTime|overall|       helpful|\n",
      "+----------+--------------------+--------------+--------------------+----------+-------+--------------+\n",
      "|B0047E0EII|For decades I hav...|A1TTA1UUGY4WY4|No more winning f...|2011-03-03|    5.0|[52176, 52861]|\n",
      "|B0074BW614|I've been an iPad...|A3QCF8CVINEXB8|You Get What You ...|2012-09-17|    4.0|[30735, 31453]|\n",
      "|B007FTE2VW|Fundamentally, Si...|A1DQOJ8PLXVPCO|    What a lousy toy|2013-03-06|    1.0|[10279, 10533]|\n",
      "|B0029OSN4U|The primary diffe...|A3FKPBNI7UWQFW|Salon Laser Hair ...|2010-04-05|    4.0|  [9634, 9717]|\n",
      "|B000FKBCX4|See those older 5...|A3284KYDZ00BZA|Dumbed down exper...|2008-09-07|    1.0|  [8606, 9403]|\n",
      "|B00B2V66VS|This game is the ...|A1SIOM22E22TYY|THIS GAME IS AWES...|2013-01-24|    5.0|  [8116, 9258]|\n",
      "|B008PPGFZG|If you DO NOT hav...| AK7T18HR8HYU2|READ APP DESCRIPT...|2012-11-18|    5.0|  [7574, 8549]|\n",
      "|B00B71TNWC|I want to start t...|A2Q14JXZX4R807| A mother's struggle|2013-12-08|    5.0|  [8115, 8181]|\n",
      "|B00DR0PDNE|I actually ordere...|A3OELYCRWQIUE1|An Actual Chromec...|2013-07-27|    5.0|  [7802, 8152]|\n",
      "|B0074BW614|I have been an Am...| APMAMNLZCQJ76|         Exceptional|2012-09-17|    5.0|  [7273, 7637]|\n",
      "|B00DR0PDNE|So I have no idea...|A13C2DL0LJ2JBC|Honest Review fro...|2013-07-24|    4.0|  [6225, 6798]|\n",
      "|B0086700CM|This is a very ad...|A18HE80910BTZI|    Full Five Stars!|2012-05-27|    5.0|  [5898, 6771]|\n",
      "|B003ZSJ212|This is a genuine...|A2K0Y55A5KQSU7|The Girlfriend Te...|2011-09-19|    4.0|  [6084, 6510]|\n",
      "|B001FA1O18|Having had a chan...| AENLD33KQ6MJ4|The Lines Between...|2010-09-07|    5.0|  [5971, 6310]|\n",
      "|B009UX2YAC|this is the best ...|A1RQSEP9GQKURW|    best game ever!!|2012-10-28|    5.0|  [5279, 6186]|\n",
      "|B001LYFBHG|Note: I have upda...|A17V9XL4CWTQ6G|The top steam mop...|2009-08-07|    5.0|  [6128, 6174]|\n",
      "|B004SJ3BCI|This game has no ...|A12U3TLNE93CTY|   Best game...ever?|2011-12-29|    5.0|  [5405, 6144]|\n",
      "|B002QZ1RS6|This is a nuts se...|A17M1HL6U2GS7M|Rrrrrripppp....ye...|2011-02-28|    5.0|  [5696, 5819]|\n",
      "|B009ZKSPDK|the game has were...| A2O7CSZTJ8PED|         Yes awesome|2012-11-12|    5.0|  [4741, 5494]|\n",
      "|B000MDHH06|I juice at least ...|A1IXJK1NYTSMJU|WOW - Way better ...|2007-08-24|    5.0|  [5247, 5307]|\n",
      "+----------+--------------------+--------------+--------------------+----------+-------+--------------+\n",
      "only showing top 20 rows\n",
      "\n"
     ]
    }
   ],
   "source": [
    "spark.sql(\"SELECT * FROM reviews ORDER BY helpful[1] DESC\").show()"
   ]
  },
  {
   "cell_type": "markdown",
   "metadata": {
    "collapsed": true
   },
   "source": [
    "We come up to an already interesting result: \n",
    "\n",
    "***Most of the top 20 most voted reviews were positive: their overall score is above 4.0; But there are two outliers, the 3rd and 5th reviews in the list: these reviews have an overall score of 1.0! ***\n",
    "\n",
    "* It's evident that all these reviews are pretty much **recent**, most of them were written in the time range from 2010 to 2013, with a few reviews in 2007, 2008 and 2009.\n",
    "* People tend to vote **much more good reviews rather than bad reviews**.\n",
    "* However, there are few examples of **bad reviews** who got **A LOT of voters**, mostly supporting their opinion.\n",
    "* Since Amazon is showing first the top reviews for each product, it comes quite natural that once a review becomes a \"top review\", its voters grow exponentially. That's why the number of voters of the first most voted reviews differ by such a high gap.\n",
    "* Why did those top-voted reviews actually become *top*? We can take in consideration the review text and analyze it... \n",
    "\n",
    "Do the voters agree with the reviewer? Actually this last query just showed which are the *most voted reviews*, but didn't explicitly show *how many voters actually considered that review helpful*.\n",
    "Thus, we're going to show now the **average of how many voters considered the review NOT helpful**, and then compare it to the **average of how many voters DO considered the review helpful**:"
   ]
  },
  {
   "cell_type": "code",
   "execution_count": 10,
   "metadata": {
    "collapsed": false
   },
   "outputs": [
    {
     "name": "stdout",
     "output_type": "stream",
     "text": [
      "+----------------------+\n",
      "|Avg_Not_Helpful_Voters|\n",
      "+----------------------+\n",
      "|     1.833070324557537|\n",
      "+----------------------+\n",
      "\n"
     ]
    }
   ],
   "source": [
    "spark.sql(\"SELECT avg(helpful[1]-helpful[0]) AS Avg_Not_Helpful_Voters FROM reviews WHERE helpful[0]>0 AND helpful[1]>0\").show()"
   ]
  },
  {
   "cell_type": "code",
   "execution_count": 11,
   "metadata": {
    "collapsed": false
   },
   "outputs": [
    {
     "name": "stdout",
     "output_type": "stream",
     "text": [
      "+------------------+\n",
      "|Avg_Helpful_Voters|\n",
      "+------------------+\n",
      "|6.5980071293589395|\n",
      "+------------------+\n",
      "\n"
     ]
    }
   ],
   "source": [
    "spark.sql(\"SELECT avg(helpful[0]) AS Avg_Helpful_Voters FROM reviews WHERE helpful[0]>0 AND helpful[1]>0\").show()"
   ]
  },
  {
   "cell_type": "markdown",
   "metadata": {},
   "source": [
    "It's clear that **most of the voters do agree with the review**.\n",
    "\n",
    "Let's look instead at those reviews with the **highest number of voters who STRONGLY didn't agree with the reviewer** (*so didn't consider the review helpful*):"
   ]
  },
  {
   "cell_type": "code",
   "execution_count": 12,
   "metadata": {
    "collapsed": false
   },
   "outputs": [
    {
     "name": "stdout",
     "output_type": "stream",
     "text": [
      "+----------+--------------------+--------------+--------------------+----------+-------+------------+\n",
      "| productID|          reviewText|    reviewerID|             summary|reviewTime|overall|     helpful|\n",
      "+----------+--------------------+--------------+--------------------+----------+-------+------------+\n",
      "|B00AKIPBNS|They didnt make e...|A169RTOHC2SJPI|OUT OF STOCK!!!?????|2013-02-04|    1.0|  [20, 1853]|\n",
      "|B00H5RYIBI|Often times, I lo...|A3CPJYAQMCUGNR|Purchased as a gi...|2014-01-02|    1.0|  [21, 1589]|\n",
      "|B00IWULQQ2|Best look to the ...|A17XJCP9P9VSL0|Fictional fluff w...|2014-05-22|    1.0|  [24, 1250]|\n",
      "|B00B2V66VS|This game is the ...|A1SIOM22E22TYY|THIS GAME IS AWES...|2013-01-24|    5.0|[8116, 9258]|\n",
      "|B001KVZ6HK|Storytelling as a...|A3DGVB3T5QJNRE|About as Exciting...|2012-05-11|    1.0|  [33, 1170]|\n",
      "|B005J6U77Q|I need to augment...|A3GGD7ZWVWIKOU|Flaccid Logos Spe...|2011-09-08|    1.0|  [24, 1057]|\n",
      "|B0001VL0K2|Come on now New L...|A22VNXHU6IZ5MT|Come on New Line,...|2009-04-16|    5.0|[1938, 2959]|\n",
      "|B001BYLFFS|**UPDATE: 9/24/08...|A3E68QNSCABRVW|A complete sham, ...|2008-07-14|    1.0|[1988, 3001]|\n",
      "|B008PPGFZG|If you DO NOT hav...| AK7T18HR8HYU2|READ APP DESCRIPT...|2012-11-18|    5.0|[7574, 8549]|\n",
      "|B008PPGFZG|why is it that wh...| ATGHKDL0D7F88|          no just no|2012-08-22|    1.0|[3659, 4605]|\n",
      "|B00DC7G0GG|This game is basi...|A33YHYE1QJ47K8|This is the resul...|2013-11-22|    1.0|   [21, 930]|\n",
      "|B009UX2YAC|this is the best ...|A1RQSEP9GQKURW|    best game ever!!|2012-10-28|    5.0|[5279, 6186]|\n",
      "|B00DC7G0GG|Kids of the world...|A21GTH20R33D6B|Mario is FINALLY ...|2013-11-22|    1.0|   [10, 901]|\n",
      "|B00A2LFXVI|As a small busine...|A3CPJYAQMCUGNR|       Holy Bat Crap|2012-11-19|    1.0|    [6, 880]|\n",
      "|B0086700CM|This is a very ad...|A18HE80910BTZI|    Full Five Stars!|2012-05-27|    5.0|[5898, 6771]|\n",
      "|B002I0GEHI|...well now that ...| AM9K263JQJL7L|the most epic exp...|2011-11-15|    1.0|    [9, 880]|\n",
      "|B003ZSJ212|These latest scen...|A2IU9TYLUCRN0E|So this is how St...|2011-08-31|    1.0|[2745, 3599]|\n",
      "|B0053BCML6|I bought this gam...|A2JRMCHFSW3SPG|Where is the comb...|2013-06-13|    1.0|   [50, 897]|\n",
      "|B004P7VGF2|Here we have an e...|A3BXMKBH8QNHZS|Polyamorous Propa...|2011-07-26|    1.0|   [19, 825]|\n",
      "|B000FKBCX4|See those older 5...|A3284KYDZ00BZA|Dumbed down exper...|2008-09-07|    1.0|[8606, 9403]|\n",
      "+----------+--------------------+--------------+--------------------+----------+-------+------------+\n",
      "only showing top 20 rows\n",
      "\n"
     ]
    }
   ],
   "source": [
    "spark.sql(\"SELECT * FROM reviews ORDER BY helpful[1]-helpful[0] DESC\").show()"
   ]
  },
  {
   "cell_type": "markdown",
   "metadata": {},
   "source": [
    "Actually we can do an interesting consideration: the output above clearly shows a **majority of negative reviews** (overall 1.0) than positive reviews (overall 5.0):\n",
    "* this leads to state that **there are lots of negative reviews that a lot of people disagree with**, and...\n",
    "* **there are some positive reviews with a relative high number of people who disagree with it**\n",
    "\n",
    "If we carefully look at those **positive reviews**, it immediately points out that **the number of people who disagree is often much smaller than the number of people who agree**, and mostly we're talking about thousands of voters. Thus, we can simply state that this difference is acceptable and they can still be considered top reviews.\n",
    "\n",
    "By the other hand, the **negative reviews** are quite different than the previous ones: we can divide them in two subsets:\n",
    "* negative reviews with high number of voters and very small number of people who considered them helpful: possible candidates for no-sense reviews, they don't characterize very well the related product;\n",
    "* negative reviews with high number of voters and people who considered them helpful: as well as we stated for the positive reviews, these can be considered top reviews, so they strongly characterize the product, even if in a bad way."
   ]
  },
  {
   "cell_type": "markdown",
   "metadata": {},
   "source": [
    "Therefore, in order to see **which top-reviews** (in terms of *number of voters*) **also gained the highest number of opinion supporters** (*people who agree with the review and the vote and think that the review is helpful*), we have to check where the **difference between** `helpful[1]` and `helpful[0]` **is minimum**. But, differently than the last query, we cannot simply revert the `ORDER BY` clause, because we might find many reviews with a very small number of voters.\n",
    "\n",
    "We can assume it's reasonable to *filter* the reviews and take in consideration only those ones with *more than 3000 voters* (probably this will cut off some valid results...):"
   ]
  },
  {
   "cell_type": "code",
   "execution_count": 16,
   "metadata": {
    "collapsed": false
   },
   "outputs": [
    {
     "name": "stdout",
     "output_type": "stream",
     "text": [
      "+----------+--------------------+--------------+--------------------+----------+-------+------------+\n",
      "| productID|          reviewText|    reviewerID|             summary|reviewTime|overall|     helpful|\n",
      "+----------+--------------------+--------------+--------------------+----------+-------+------------+\n",
      "|B0015EWMX8|I actually could ...|A27C6W7DLDD7QK|    Garmin Nuvi 255w|2008-06-30|    5.0|[3052, 3067]|\n",
      "|B0002IQJ8W|This was my fourt...|A3RMAWK4ELOLRZ|          Mean Girls|2006-01-10|    5.0|[3013, 3038]|\n",
      "|B002HWJT1A|Bose QC15 vs. Sen...|A2QDYGI5OETYV3|Bose QC15 vs. Sen...|2009-12-11|    5.0|[3198, 3225]|\n",
      "|B0000U1OCI|Since getting att...|  A6FIAB28IS79|Best of Breed: Th...|2004-09-04|    5.0|[3443, 3475]|\n",
      "|B004GFN2ZA|I thought it migh...|A1ITCVZ46MUB3A|Review from a Bio...|2011-11-27|    4.0|[3410, 3442]|\n",
      "|B0023B14TK|If I'm going to s...|A17V9XL4CWTQ6G|The camcorder SHO...|2009-11-07|    5.0|[3553, 3585]|\n",
      "|B000UUBCNO|My wife and I dec...| AC1YLEFC9AN5X|Great but not per...|2007-09-16|    4.0|[4736, 4768]|\n",
      "|B0002IQJ8W|After an adamant ...|A3GRANSGMYPX00|I actually caved ...|2004-10-13|    5.0|[4646, 4682]|\n",
      "|B003DZ167A|                    |A2GP6XJ1V3MM3L|Good Quality K3 C...|2010-08-26|    5.0|[3145, 3184]|\n",
      "|B005IGVY6K|I've been looking...| AHXGALGGZ9ND4|Exceptional camer...|2011-12-20|    5.0|[4863, 4907]|\n",
      "|B000RPVHZU|(update: This rev...|A17V9XL4CWTQ6G|The steam mop SHO...|2009-11-02|    1.0|[5081, 5126]|\n",
      "|B001LYFBHG|Note: I have upda...|A17V9XL4CWTQ6G|The top steam mop...|2009-08-07|    5.0|[6128, 6174]|\n",
      "|B003ZX8B3W|Having been a Gar...|A1D27BCSYV7VWH|Great Screen - Gr...|2010-12-04|    4.0|[3134, 3183]|\n",
      "|B000I1X6PM|Transmission of m...|A1AY0VI7H1CP5X|Great cable, but ...|2008-06-23|    2.0|[3969, 4021]|\n",
      "|B0028MB3HM|It started simple...|A1Y1L56592H2ZX|Accidental 3 stea...|2009-09-17|    5.0|[5034, 5088]|\n",
      "|B0052YFYFK|An exemplary show...| AL13DN0DA3M7K|Highly comfortabl...|2011-09-10|    5.0|[3557, 3611]|\n",
      "|B000MDHH06|I juice at least ...|A1IXJK1NYTSMJU|WOW - Way better ...|2007-08-24|    5.0|[5247, 5307]|\n",
      "|B00B71TNWC|I want to start t...|A2Q14JXZX4R807| A mother's struggle|2013-12-08|    5.0|[8115, 8181]|\n",
      "|B00007E7RY|In this review, I...|A20M0A7T8MINR2| Best Value Purifier|2007-03-05|    5.0|[3941, 4009]|\n",
      "|B001N07KUE|** This review ha...|A28Q94CXRMP2SY|Great customer se...|2009-05-19|    2.0|[3716, 3787]|\n",
      "+----------+--------------------+--------------+--------------------+----------+-------+------------+\n",
      "only showing top 20 rows\n",
      "\n"
     ]
    }
   ],
   "source": [
    "data.filter(data.helpful[1]>3000).sort(data.helpful[1]-data.helpful[0]).show()"
   ]
  },
  {
   "cell_type": "markdown",
   "metadata": {},
   "source": [
    "Now we can **analyze the text** of the reviews that appeared in the previous results and provide some specific examples for each of the subsets that we identified:"
   ]
  },
  {
   "cell_type": "code",
   "execution_count": null,
   "metadata": {
    "collapsed": true
   },
   "outputs": [],
   "source": []
  }
 ],
 "metadata": {
  "anaconda-cloud": {},
  "kernelspec": {
   "display_name": "Python [default]",
   "language": "python",
   "name": "python2"
  },
  "language_info": {
   "codemirror_mode": {
    "name": "ipython",
    "version": 2
   },
   "file_extension": ".py",
   "mimetype": "text/x-python",
   "name": "python",
   "nbconvert_exporter": "python",
   "pygments_lexer": "ipython2",
   "version": "2.7.12"
  }
 },
 "nbformat": 4,
 "nbformat_minor": 1
}
