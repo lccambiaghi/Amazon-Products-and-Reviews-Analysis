{
 "cells": [
  {
   "cell_type": "markdown",
   "metadata": {
    "collapsed": true
   },
   "source": [
    "# DataFrames with data from JSON files"
   ]
  },
  {
   "cell_type": "code",
   "execution_count": 1,
   "metadata": {
    "collapsed": true
   },
   "outputs": [],
   "source": [
    "import h5py\n",
    "import ujson\n",
    "import gzip\n",
    "import ast\n",
    "from pandas import DataFrame\n",
    "from toolz import dissoc\n",
    "from toolz import dissoc, partition_all\n",
    "from castra import Castra\n",
    "import time\n",
    "import datetime\n",
    "import dask.dataframe as dd\n",
    "import dask.bag as db\n",
    "from dask.diagnostics import ProgressBar\n",
    "import numpy as np\n",
    "import pandas as pd\n",
    "from pandas import HDFStore"
   ]
  },
  {
   "cell_type": "code",
   "execution_count": 31,
   "metadata": {
    "collapsed": false
   },
   "outputs": [],
   "source": [
    "path_to_file = \"C:\\\\dtu\\\\ctbd\\\\amazon_dataset\\\\data.hdf5\"\n",
    "path_to = \"C:\\\\dtu\\\\ctbd\\\\amazon_dataset\\\\\"\n",
    "f = 'Office_Products_5.json'\n",
    "reviews_columns = ['asin', 'reviewerID', 'overall','summary','reviewText','reviewTime','unixReviewTime']\n",
    "metadata_columns = ['asin','title','price','imUrl','related','also_bought','also_viewed','bought_together','salesRank','brand','categories']\n",
    "str_dt = h5py.special_dtype(vlen=unicode)\n",
    "#dtypes = np.dtype([('asin',str_dt),('reviewerID',str_dt),('reviewerName',str_dt),('overall',float),('summary',str_dt),\n",
    " #                  ('reviewText',str_dt),('reviewTime',str_dt),('unixReviewTime',int)])\n",
    "chunksize = 5000\n",
    "current_index = 0\n",
    "\n",
    "#Convert a line of JSON into a cleaned up dict.\n",
    "def to_json(line):\n",
    "    return dissoc(ujson.loads(line.encode('utf8')),'reviewerName')\n",
    "\n",
    "#Convert a not proper line of JSON (due to single quotes) into a cleaned up dict.\n",
    "def fix_json(line):\n",
    "    return ast.literal_eval(line)\n",
    "\n",
    "#Convert a list of JSON strings into a DataFrame\n",
    "def to_df(batch,filename):\n",
    "    if filename == 'metadata':\n",
    "        blobs = map(fix_json,batch)\n",
    "        df = DataFrame.from_records(blobs, columns=metadata_columns)\n",
    "    else:\n",
    "        blobs = map(to_json, batch)\n",
    "        df = DataFrame.from_records(blobs, columns=reviews_columns)\n",
    "    return df\n",
    "\n",
    "def create_new(path_to_file,df, current_index):\n",
    "    types = df.apply(lambda x: pd.lib.infer_dtype(x.values))\n",
    "    for col in types[types=='unicode'].index:\n",
    "        df[col] = df[col].astype(str)\n",
    "    print df.apply(lambda x: pd.lib.infer_dtype(x.values))\n",
    "    df.to_hdf(path_to_file,'/amazon',format='table',data_columns=True,complevel=9, complib='bzip2',min_itemsize={'summary':150,'reviewText':35000})\n",
    "    current_index+=chunksize\n",
    "    return 'blabla', current_index\n",
    "\n",
    "def extend_hdf5(path_to_file,df, current_index, chunksize):\n",
    "    types = df.apply(lambda x: pd.lib.infer_dtype(x.values))\n",
    "    for col in types[types=='unicode'].index:\n",
    "        df[col] = df[col].astype(str)\n",
    "    df.to_hdf(path_to_file,'/amazon',format='table',data_columns=True,append=True)\n",
    "    current_index+=chunksize\n",
    "    return current_index\n",
    "\n",
    "def create_hdf5(fullpath,chunksize,current_index):\n",
    "    filename = fullpath.split('/')[-1].split('.')[0]\n",
    "    with open(fullpath,'r') as f:\n",
    "        batches = partition_all(chunksize, f)\n",
    "        store = None\n",
    "        for batch in batches:\n",
    "            df = to_df(batch,filename)\n",
    "            if store==None:\n",
    "                store, current_index = create_new(path_to_file,df,current_index)\n",
    "            else:\n",
    "                current_index = extend_hdf5(path_to_file,df, current_index, chunksize)"
   ]
  },
  {
   "cell_type": "code",
   "execution_count": 32,
   "metadata": {
    "collapsed": false,
    "scrolled": true
   },
   "outputs": [
    {
     "name": "stdout",
     "output_type": "stream",
     "text": [
      "asin                string\n",
      "reviewerID          string\n",
      "overall           floating\n",
      "summary             string\n",
      "reviewText          string\n",
      "reviewTime          string\n",
      "unixReviewTime     integer\n",
      "dtype: object\n",
      "(53258,)\n",
      "[ (0L, 'B00000JBLH', 'A32T2H8150OJLU', 5.0, 'A solid performer, and long time friend', \"I bought my first HP12C in about 1984 or so, and it served me faithfully until 2002 when I lost it while travelling.  I searched for another one to replace it, but found one difficult to come by in my area.  So, I decided to buy up and purchased an HP 49G.  What a mistake!  I know that many people view the HP 49G (now 49G+) as the flagship of the HP line, but for me that was a disaster.The 49G may be powerful, but using it is extremely counterintuitive...and the manual was sketchy at best.  The 12C, on the other hand, does what I need in a way that makes good sense to me.If you are looking for a solid, reliable calculator, the HP12C may be for you.  It's programmable.  It does basic statistics well, and many business applications too.  The manual makes sense; you will be up and running in short order.I'm ready to set my 49G aside and move back to my old friend.  I didn't even have to replace the batteries in well over a decade of use!HP 12C, I'm coming home!\", '09 3, 2004', 1094169600L)\n",
      " (1L, 'B00000JBLH', 'A3MAFS04ZABRGO', 5.0, \"Price of GOLD is up, so don't bury the golden flagship HP12c !\", 'WHY THIS BELATED REVIEW? I feel very obliged to share my views about this old workhorse, the HP12C GOLD at its 25th anniversary and my 1Oth year as a satisfied ower user and fan. Especially after sharing my frank views on Amazon about two of its three successors on Amazon.com, burying the HP12c Platinum (2004 1st release, HP12cP) and praising the HP12c Platiunum Anniversary Edition (2006 3rd release, HP12cPAE or HP12cPA).To the majority of HP 12c calculator owners and fans, including the non-techkie nerd like myself, the name Hewlett-Packard To the majority of HP 12c calculator owners and fans. The brandname of Hewlett-Packard is synonymous with the highest quality and best range offered in handheld electronic business financial calculators before the first generation of personal computers hits the desktops of business users.To date (December 2007), the bearer of this \"gold\" standard is none other than the HP12C HP\\'s \"golden boy\" in its calculator business segment.The HP12C now a matured product, is the only continuing HP handheld surviving calculator product since \\'81 and probably the longest selling electronic calculator ever. According to HP almost 15 million HP 12Cs, cPs was sold since ,it is probably the best selling HP (and RPN) calculator ever.As a proven product, the HP12C \"gold\" works from day 1, with its form factor and sofware remaining unchanged and has not been dethroned by rivals and even its HP successors which had come and go.Even with PC software versions being sold, the 12C remains the truly indispensable \"portable\" finance-business heldheld computer for its owners, professionals and students alike. This handy companion powers up immediately and is faster than any portable personal computers to jump right into the action.The HP12C is a serious product and the ultimate time tested solution, field tested proven by its users and survived all its rival products, the workhorse moves on.Anyone in charge of this HP line should always bear in mind that the continued production run of the HP 12c is a testimony of HP\\'s quality and standard expected by its customers.Don\\'t just listen to a HP12C fan here, I own and am using three out of 4 models of the HP 12C series, and it is amusing and somewhat disappointing to observe that it had taken HP at least four years and two major upgrades of the HP 12c Platinium, in its futile attempt to \"fix & retire\" the HP12C with three successors in the form of HP12cPlatinum since 2004.It would seems especially frustrating on the part of HP, to realize after all the effort spent on remaking the HP12cPlatinum models that it would not outdone its siblings the HP10bII and HP17bII+ series to seriously challenge the HP12C Gold.  However, by their own rights the HP10Bs and HP17Bs, and the HP12cPlatinum may find their rightful place in the HP financial calculator line, differentiating the HP12C GOLD in terms of price and functions.IMHO, this had happened because the following golden rules were infringed by HP...GOLDEN RULE I - A PRODUCT WHICH STILL SELLS ITSELF IS NEVER OBSOLETE.GOLDEN RULE II - IF IT AREN\\'T BROKEN, DON\\'t FIX IT ! \"The gold rule of thumb should always be guarded as gospel by the HP heldheld calculator product team. Based on the same reasoning, the HP12C\\'s built quality and product standard is paramount to its users.GOLDEN RULE III - ALWAYS LISTEN TO YOUR CUSTOMERS! If in doubt, see rules I & II.GOLDEN RULE IV - ONLY OUTSOURCE THE MANUFACTURING OF YOUR PRODUCT TO SOMEONE WHO COULD BETTER YOUR OWN PRODUCT QUALITY. If in doubt ask IBM about Lenovo.GOLDEN RULE V - THE BENCHMARKING INDUSTRY STANDARD FOR THIS PRODUCT LINE IS THE HP12C. Just in case, if HP does not know or is not listening to its customers.GOLDEN RULE VI - DO NOT DISCONTINUE THE ICONIC HP12C GOLD. HP needs no reminder that the customer is always right. Please let your customer, the ultimate market force decide if the HP12C should ever be retired.As an ardent fan of HP12C and line of financial business & scientific calculators, I am of the view that the day when HP discontinue the HP12C would be the day it exit this business segment. I speculate this would happen when the HP brandname disappears from the 12C just like after IBM name had disappeared from ThinkPads and ThinkCentres.Since the price of GOLD is on the rise, it is indeed puzzling to fans of the HP12C, why HP did not release a genuine HP12C gold 25th anniversary model for the fans to mark the occasion, if replacing the discontinuing the HP12C GOLD is the intention READ ALL GOLDEN RULES above.To be fair, the silver HP12c Platinum Anniversary is very nice and has spotted the \"retro\" silver look of the HP 11C, however, it is still not the GOLD standard. With HP missing this golden opportunity to mark the occasion, I would love to see and own a HP 12C engraved with 50th Anniversary logo, reckon that this would be the ultimate testimony for the HP12C and a milestone for its fans.Looking forward, a GOLD 50th anniversary HP12C Anniversary model would be very nice for the fans.For HP, this is a lucrative business proposition. By now, they would have realized that if they have any of its products which could hit a 50th year home run  in 2031, it would not be from its other product line-it would be this original HP12C GOLD standard bearer. So please treat the old workhorse with the upmost respect!', '12 15, 2007', 1197676800L)\n",
      " (2L, 'B00000JBLH', 'A1F1A0QQP2XVH5', 2.0, 'Good functionality, but not durable like old HPs', 'I have an HP 48GX that has been kicking for more than twenty years and an HP 11 that is more than 25 years old and still flawless.  I have had this 12C for about 18 months and the number 5 key is already giving me trouble (have to press hard for it to register).  No drops, no abuse.  The overall feel of this new HP is cheaper plastic.  The keys feel hollow and light.  The available functions are great.  This is a classic calculator.  But the functions are no good if the keys stop working...', '01 1, 2011', 1293840000L)\n",
      " (3L, 'B00000JBLH', 'A49R5DBXXQDE5', 5.0, 'One of the last of an almost extinct species', \"I've started doing more finance stuff recently and went looking for a good time-value-of-money calculator. I was pleasantly surprised to find the HP12C was still available. I've been using HP calculators for decades (HP-45, HP-15 and now an HP-32SII) because of their great feel and long-lasting quality. However, it's also true that the HP12C is probably the last relic of the great HP calculator legacy. It has 'Made In China' stamped on the rear, but the keyboard feel seems much like my dear departed 15C. Hopefully it will have the same long-term durability.Why do I recommend this calculator?*) RPN. In my world, the purpose of a calculator is to solve fairly straightforward math exercises quickly. If you're a college student and need speed and pictures and parenthesis, buy a graphing calculator. If you're solving Black-Scholl's option equations, fire up Excel or something on your desktop computer. But for straightforward punch-it-in calculator work, nothing beats RPN entry.*) Fit and Finish. The keys have good tactile feedback. The display blinks on every entry. You just *know* you've entered the data correctly. The purpose of a calculator is quick, accurate answers at your fingertips. If you don't care about this, don't waste money on this calculator (or any high-end TI or Casio). Buy a $5 Walmart calculator.*) Straightforward financial calculations. Sure, I could write a program for my HP 32SII to do financial calculations. But why, when I can just key in the data directly to the HP12C, push dedicated financial keys, and get immediate answers. This calculator has most of the financial functions you need in a calculator (amortization, depreciation, NPV, date functions, etc.) along with the basic complement of standard calculator functions (ln, mean, standard deviation, factorial, etc). The complexity level is about right for a calculator. It doesn't take a computer science degree to operate it like the graphing calculators require, and it's far more capable than the $5 Walmart brands.*) Speed. I see reviews complaining that this calculator is slow when doing things like IRR computations. They're right. So what? If your IRR computation is that complicated, use a spreadsheet. If you're a college student taking exams, you're better off with a graphing calculator anyway. For 99% of the things the rest of us do with a calculator the 12C is more than fast enough, and the price of speed is power consumption. My 32SII is going on 10 years without a battery replacement, and I trust the 12C will have the same thrifty ways. It's a pain to need a quick answer, reach for the calculator, and then find the batteries are exhausted. This was a regular occurence when I owned TI and Casio brands. I've never had this problem with the HPs I've owned.It also has some programming capabilities which some may find useful. Personally, I haven't used the programming mode in a calculator for many years. Almost invariably I find it easier to just pull up a spreadsheet or write some code.I suspect the under-30 crowd will find this calculator--maybe the whole calculator premise--feels 'dated', and in a way they're right. However, if you're one of those who, like me, use these tools every day and always want one nearby, I think you'll like this calculator. For fit, finish, and a pleasant balance of performance with simplicity it seems to be on par with my earlier HP calculators. (Time will tell, I suppose, whether or not it has the same durability.) What is certain is that in the age of cellphones, PDAs and computers the era of high-quality long-lasting purpose-built calculators is going the way of the Dodo bird.\", '04 19, 2006', 1145404800L)\n",
      " (4L, 'B00000JBLH', 'A2XRMQA6PJ5ZJ8', 5.0, 'Still the best', \"For simple calculations and discounted cash flows, this one is still the best.  I used this in my graduate business program, and for years as a practicing CPA and financial executive.  Of course for complex cash flows you will want to use an Excel spreadsheet; but for quick cash flow calculations the HP12C really is the tool you want.Personally I find Reverse Polish Notation (&#34;RPN&#34;), which is what this calculator uses, to be easy and intuitive.  Many do; some don't.  RPN takes the place of brackets in an arithmetical expression and is easy to learn.The hardware on this calculator is superb.  One of these lasted me decades.  It got lost in an office move, so I am purchasing another.  RJB.\", '08 4, 2013', 1375574400L)\n",
      " (5L, 'B00000JBLH', 'A2JFOHC9W629IE', 5.0, 'Every MBA student and grad should get one', \"While I don't have an MBA, it's hard to believe that a calculator I learned how to use in 1987 during undergraduate business courses is still the standard for the quick calculating financial world. Any finance professional over 30 will know how to use this, and in a pinch, you might need to know how to use it. I know the TI-8x series has financial functions and the graphic capabilities may make those calculators worthwhile. But for most financial pros, if it can't be done on an HP12C, then you probably need a computer.The RPN system isn't hard to learn (at a basic level it works similar to an adding machine), and the functions on this calculator take input and spit out output in a way similar to Excel (i.e. negative numbers for payments and positive for future value, etc.). I found mine the other day after not using it for a while and immediately used it for a discounted cash flow quick analysis I was later planning to do in Excel. It told me the on-the-fly answer I needed.\", '01 23, 2002', 1011744000L)\n",
      " (6L, 'B00000JBLH', 'A38NELQT98S4H8', 5.0, 'A workhorse of a calculator', \"I've had an HP 12C ever since they were first available, roughly twenty years ago.  I'm just in the process of buying another one, as my original one is finally and completely dead.If you're in any business and have anything to do with money (outside of being a cashier), this calculator is essential.  It includes almost every financial function that you need, and quite a few that you probably don't.  Any problem involving the time value of money or finance is a snap with this mini-machine.The only potential problem that I can see for a new user is the RPN format (By the way, RPN stands for Reverse Polish Notation.  It was invented by a Polish mathematician, Jan Lukasiewicz for symbolic logic.)  RPN is different from the traditional method on entering equations into a calculator, but is easy to learn and use...in fact, once you get used to it, the traditional way seems very clumsy.  For die-hards, the HP 12C Platinum Edition includes both traditional and RPN entry methods and is the one that should be purchased.\", '01 17, 2007', 1168992000L)\n",
      " (7L, 'B00000JBLH', 'AA8M6331NI1EN', 5.0, 'Fast shipping & great price for this awesome calculator', 'Bought this for my boss because he lost his.  He loves this calculator & would not be caught without it.  It really helps him with his day to day work & he is the CEO of my company.  If the CEO swears by them then they must be a great little calculator.', '11 14, 2013', 1384387200L)\n",
      " (8L, 'B00000JBLU', 'A25C2M3QF9G7OQ', 5.0, 'Nice design, works well, great value', \"This is a well-designed, simple calculator that handles typical four-function math. Large, easy to read display that includes a comma to help ensure long strings are easier to read. The buttons are slightly sculpted which helps ensure you don't hit more than one at a time, and are nicely spaced. The display angles up and is legible in even somewhat dim lighting.Seems well-built - better than I expected given the price. Excellent choice if you're looking for a small desktop or hand-held calculator.My only complaint is that you can't clear the memory unless you display it. That seems to be the way with all calculators today. A shame -- I have a very old one that allows you to clear memory without displaying the number (e.g., has separate buttons for clear memory and display memory). That comes in handy at times.\", '12 7, 2010', 1291680000L)\n",
      " (9L, 'B00000JBLU', 'A1RTVWTWZSIC94', 5.0, 'Love It!!!!!!!!!', 'I love this calculator, big numbers and calculate excellent so easy to use and make my life so much easier.', '12 2, 2013', 1385942400L)]\n"
     ]
    }
   ],
   "source": [
    "create_hdf5(path_to+f,chunksize,current_index)\n",
    "\n",
    "#Check status\n",
    "with h5py.File(path_to_file, \"r+\") as hf:\n",
    "    data = hf.get('amazon/table')\n",
    "    print data.shape\n",
    "    print data[:10]"
   ]
  },
  {
   "cell_type": "code",
   "execution_count": 33,
   "metadata": {
    "collapsed": false
   },
   "outputs": [
    {
     "data": {
      "text/html": [
       "<div>\n",
       "<table border=\"1\" class=\"dataframe\">\n",
       "  <thead>\n",
       "    <tr style=\"text-align: right;\">\n",
       "      <th></th>\n",
       "      <th>asin</th>\n",
       "      <th>overall</th>\n",
       "    </tr>\n",
       "  </thead>\n",
       "  <tbody>\n",
       "    <tr>\n",
       "      <th>0</th>\n",
       "      <td>B00002NDS2</td>\n",
       "      <td>4.0</td>\n",
       "    </tr>\n",
       "    <tr>\n",
       "      <th>1</th>\n",
       "      <td>B00004Z4A8</td>\n",
       "      <td>4.0</td>\n",
       "    </tr>\n",
       "    <tr>\n",
       "      <th>2</th>\n",
       "      <td>B00004Z5T0</td>\n",
       "      <td>4.0</td>\n",
       "    </tr>\n",
       "    <tr>\n",
       "      <th>3</th>\n",
       "      <td>B00004TS2L</td>\n",
       "      <td>4.0</td>\n",
       "    </tr>\n",
       "    <tr>\n",
       "      <th>4</th>\n",
       "      <td>B00004SUJT</td>\n",
       "      <td>4.0</td>\n",
       "    </tr>\n",
       "    <tr>\n",
       "      <th>5</th>\n",
       "      <td>B00005T407</td>\n",
       "      <td>4.0</td>\n",
       "    </tr>\n",
       "    <tr>\n",
       "      <th>6</th>\n",
       "      <td>B00004Z63V</td>\n",
       "      <td>4.0</td>\n",
       "    </tr>\n",
       "    <tr>\n",
       "      <th>7</th>\n",
       "      <td>B00004Z6NA</td>\n",
       "      <td>4.0</td>\n",
       "    </tr>\n",
       "    <tr>\n",
       "      <th>8</th>\n",
       "      <td>B00000JBLU</td>\n",
       "      <td>4.0</td>\n",
       "    </tr>\n",
       "    <tr>\n",
       "      <th>9</th>\n",
       "      <td>B00005QJED</td>\n",
       "      <td>4.0</td>\n",
       "    </tr>\n",
       "  </tbody>\n",
       "</table>\n",
       "</div>"
      ],
      "text/plain": [
       "         asin  overall\n",
       "0  B00002NDS2      4.0\n",
       "1  B00004Z4A8      4.0\n",
       "2  B00004Z5T0      4.0\n",
       "3  B00004TS2L      4.0\n",
       "4  B00004SUJT      4.0\n",
       "5  B00005T407      4.0\n",
       "6  B00004Z63V      4.0\n",
       "7  B00004Z6NA      4.0\n",
       "8  B00000JBLU      4.0\n",
       "9  B00005QJED      4.0"
      ]
     },
     "execution_count": 33,
     "metadata": {},
     "output_type": "execute_result"
    }
   ],
   "source": [
    "df = dd.read_hdf(path_to_file,'/amazon')\n",
    "result = df.where(df['overall']<5).groupby('asin').mean().nlargest(10,columns='overall').compute()\n",
    "result.reset_index()[['asin','overall']]"
   ]
  },
  {
   "cell_type": "code",
   "execution_count": null,
   "metadata": {
    "collapsed": true
   },
   "outputs": [],
   "source": []
  }
 ],
 "metadata": {
  "anaconda-cloud": {},
  "kernelspec": {
   "display_name": "Python [Root]",
   "language": "python",
   "name": "Python [Root]"
  },
  "language_info": {
   "codemirror_mode": {
    "name": "ipython",
    "version": 2
   },
   "file_extension": ".py",
   "mimetype": "text/x-python",
   "name": "python",
   "nbconvert_exporter": "python",
   "pygments_lexer": "ipython2",
   "version": "2.7.12"
  }
 },
 "nbformat": 4,
 "nbformat_minor": 1
}
