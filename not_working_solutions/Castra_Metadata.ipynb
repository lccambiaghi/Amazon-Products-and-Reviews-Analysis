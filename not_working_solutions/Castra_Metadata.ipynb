{
 "cells": [
  {
   "cell_type": "markdown",
   "metadata": {},
   "source": [
    "# Finally Working: [Dask and Castra](http://blaze.pydata.org/blog/2015/09/08/reddit-comments/)"
   ]
  },
  {
   "cell_type": "markdown",
   "metadata": {},
   "source": [
    "**This cell shows the fix for the `metadata.json` file:** basically, we use the library `ast` for properly encoding the JSON file, this means a slower encoding but anyway it works fine."
   ]
  },
  {
   "cell_type": "code",
   "execution_count": 32,
   "metadata": {
    "collapsed": false
   },
   "outputs": [
    {
     "name": "stdout",
     "output_type": "stream",
     "text": [
      "100000 200000 300000 400000 500000 600000 700000 800000 900000 1000000 1000000\n",
      "Done\n"
     ]
    }
   ],
   "source": [
    "import gzip\n",
    "import ast\n",
    "\n",
    "metadata_gz = \"C:\\\\dtu\\\\ctbd\\\\amazon_dataset\\\\metadata.json.gz\"\n",
    "fivecore = 'C:\\\\dtu\\\\ctbd\\\\amazon_dataset\\\\kcore_5.json.gz'\n",
    "\n",
    "with gzip.open(metadata_gz, 'rb') as f:\n",
    "    for i,l in enumerate(f):\n",
    "        try:\n",
    "            k = ast.literal_eval(l)\n",
    "        except ValueError, e: \n",
    "            print '\\nERR\\n',e,'\\n' , l\n",
    "            break\n",
    "        if i % 1e5 == 0 and i>0:\n",
    "            print i,\n",
    "        \n",
    "        #Just not to process the whole file, we stop the computation after 1.000.000 lines\n",
    "        if i % 1e6 == 0 and i>0:\n",
    "            break\n",
    "\n",
    "print i\n",
    "print \"Done\""
   ]
  },
  {
   "cell_type": "markdown",
   "metadata": {},
   "source": [
    "Now, the final version of the working implementation, step by step:"
   ]
  },
  {
   "cell_type": "markdown",
   "metadata": {},
   "source": [
    "All the **imports**:"
   ]
  },
  {
   "cell_type": "code",
   "execution_count": 1,
   "metadata": {
    "collapsed": false
   },
   "outputs": [],
   "source": [
    "import ujson\n",
    "import gzip\n",
    "import ast\n",
    "import pandas as pd\n",
    "from pandas import DataFrame\n",
    "from toolz import dissoc\n",
    "from toolz import dissoc, partition_all\n",
    "from castra import Castra\n",
    "import time\n",
    "import datetime\n",
    "import dask.dataframe as dd\n",
    "import dask.bag as db\n",
    "from dask.diagnostics import ProgressBar\n",
    "import numpy as np"
   ]
  },
  {
   "cell_type": "markdown",
   "metadata": {},
   "source": [
    "Initializing variables like **paths**, **column names** and **chunk size**:"
   ]
  },
  {
   "cell_type": "code",
   "execution_count": 2,
   "metadata": {
    "collapsed": true
   },
   "outputs": [],
   "source": [
    "path_to = \"C:\\\\dtu\\\\ctbd\\\\amazon_dataset\\\\\"\n",
    "f = 'Musical_Instruments_5.json'\n",
    "reviews = \"kcore_5.json.gz\"\n",
    "metadata = \"metadata.json.gz\"\n",
    "reviews_columns = [('asin',np.dtype(np.string_)),\n",
    "                   ('reviewerID',np.dtype(np.string_)),\n",
    "                   ('reviewerName',np.dtype(np.string_)),\n",
    "                   ('overall',np.dtype(float)),\n",
    "                   ('summary',np.dtype(np.string_)),\n",
    "                   ('reviewText',np.dtype(np.string_)),\n",
    "                   ('reviewTime',np.dtype(np.string_)),\n",
    "                   ('unixReviewTime',np.dtype(int))]\n",
    "metadata_columns = ['asin','title','price','imUrl','related','also_bought','also_viewed','bought_together','salesRank','brand','categories']\n",
    "chunksize = 5000"
   ]
  },
  {
   "cell_type": "markdown",
   "metadata": {},
   "source": [
    "Implementation of the user defined **functions** we used in the script:"
   ]
  },
  {
   "cell_type": "code",
   "execution_count": 3,
   "metadata": {
    "collapsed": false
   },
   "outputs": [],
   "source": [
    "#Convert a line of JSON into a cleaned up dict.\n",
    "def to_json(line):\n",
    "    return ujson.loads(line)\n",
    "\n",
    "#Convert a not proper line of JSON (due to single quotes) into a cleaned up dict.\n",
    "def fix_json(line):\n",
    "    return ast.literal_eval(line)\n",
    "\n",
    "#Convert a list of JSON strings into a DataFrame\n",
    "def to_df(batch,filename):\n",
    "    if filename == 'metadata':\n",
    "        blobs = map(fix_json,batch)\n",
    "        df = DataFrame.from_records(blobs, columns=metadata_columns)\n",
    "    else:\n",
    "        blobs = map(to_json, batch)\n",
    "        df = DataFrame(blobs)\n",
    "    print df.dtypes\n",
    "    return df\n",
    "\n",
    "#Create the castra dataset for improved I/O operations with Dask DataFrames\n",
    "#We can work properly on compressed GZ files with gzip library\n",
    "#The chunk size is 5000, which means that 5000 lines per time will be processed\n",
    "def create_castra(fullpath,chunksize):\n",
    "    win_filename = fullpath.split('\\\\')[-1].split('.')[0] #Used later\n",
    "    mac_filename = fullpath.split('/')[-1].split('.')[0]\n",
    "    filename = win_filename\n",
    "    with open(fullpath,'r') as f:\n",
    "        batches = partition_all(chunksize, f)\n",
    "        castra = None\n",
    "        for batch in batches:\n",
    "            df = to_df(batch,filename)\n",
    "            if castra == None:\n",
    "                castra = Castra(path_to+filename+'.castra', template=df)\n",
    "            castra.extend(df)"
   ]
  },
  {
   "cell_type": "markdown",
   "metadata": {},
   "source": [
    "**IMPORTANT!!! DON'T RUN TWICE!** | **Execution of the script**: this may take a while... "
   ]
  },
  {
   "cell_type": "code",
   "execution_count": 8,
   "metadata": {
    "collapsed": false
   },
   "outputs": [
    {
     "name": "stdout",
     "output_type": "stream",
     "text": [
      "Starting the creation of the Castra files...\n",
      "Processing compressed metadata...\n",
      "Done! Metadata processed in: 1:17:59.844894\n"
     ]
    }
   ],
   "source": [
    "print 'Starting the creation of the Castra files...'\n",
    "\n",
    "#Creating the castra file for metadata\n",
    "print 'Processing compressed metadata...'\n",
    "start = time.time()\n",
    "create_castra(path_to+metadata,chunksize)\n",
    "end = time.time()\n",
    "print \"Done! Metadata processed in:\",datetime.timedelta(seconds=(end-start))"
   ]
  },
  {
   "cell_type": "code",
   "execution_count": 4,
   "metadata": {
    "collapsed": false
   },
   "outputs": [
    {
     "name": "stdout",
     "output_type": "stream",
     "text": [
      "Processing compressed 5_cores...\n",
      "asin               object\n",
      "helpful            object\n",
      "overall           float64\n",
      "reviewText         object\n",
      "reviewTime         object\n",
      "reviewerID         object\n",
      "reviewerName       object\n",
      "summary            object\n",
      "unixReviewTime      int64\n",
      "dtype: object\n",
      "asin               object\n",
      "helpful            object\n",
      "overall           float64\n",
      "reviewText         object\n",
      "reviewTime         object\n",
      "reviewerID         object\n",
      "reviewerName       object\n",
      "summary            object\n",
      "unixReviewTime      int64\n",
      "dtype: object\n",
      "asin               object\n",
      "helpful            object\n",
      "overall           float64\n",
      "reviewText         object\n",
      "reviewTime         object\n",
      "reviewerID         object\n",
      "reviewerName       object\n",
      "summary            object\n",
      "unixReviewTime      int64\n",
      "dtype: object\n",
      "Done! Reviews data processed in: 0:00:00.329000\n"
     ]
    }
   ],
   "source": [
    "#Creating the castra file for the 5_cores\n",
    "print 'Processing compressed 5_cores...'\n",
    "start = time.time()\n",
    "create_castra(path_to+f,chunksize)\n",
    "end = time.time()\n",
    "print \"Done! Reviews data processed in:\",datetime.timedelta(seconds=(end-start))"
   ]
  },
  {
   "cell_type": "markdown",
   "metadata": {},
   "source": [
    "After the creation of the castra files, we can start playing with the Dask DataFrames:"
   ]
  },
  {
   "cell_type": "code",
   "execution_count": 5,
   "metadata": {
    "collapsed": false
   },
   "outputs": [
    {
     "ename": "ValueError",
     "evalue": "Expected iterable of tuples of (name, dtype), got [u'asin', u'helpful', u'overall', u'reviewText', u'reviewTime', u'reviewerID', u'reviewerName', u'summary', u'unixReviewTime']",
     "output_type": "error",
     "traceback": [
      "\u001b[1;31m---------------------------------------------------------------------------\u001b[0m",
      "\u001b[1;31mValueError\u001b[0m                                Traceback (most recent call last)",
      "\u001b[1;32m<ipython-input-5-f0ebb0fe55bc>\u001b[0m in \u001b[0;36m<module>\u001b[1;34m()\u001b[0m\n\u001b[0;32m      5\u001b[0m \u001b[1;31m# Load data into a dask dataframe:\u001b[0m\u001b[1;33m\u001b[0m\u001b[1;33m\u001b[0m\u001b[0m\n\u001b[0;32m      6\u001b[0m \u001b[0mpath_to_castra\u001b[0m \u001b[1;33m=\u001b[0m \u001b[1;34m'C:\\\\dtu\\\\ctbd\\\\amazon_dataset\\\\Musical_Instruments_5.castra'\u001b[0m\u001b[1;33m\u001b[0m\u001b[0m\n\u001b[1;32m----> 7\u001b[1;33m \u001b[0mdf\u001b[0m \u001b[1;33m=\u001b[0m \u001b[0mdd\u001b[0m\u001b[1;33m.\u001b[0m\u001b[0mfrom_castra\u001b[0m\u001b[1;33m(\u001b[0m\u001b[0mpath_to_castra\u001b[0m\u001b[1;33m)\u001b[0m\u001b[1;33m\u001b[0m\u001b[0m\n\u001b[0m",
      "\u001b[1;32mC:\\Users\\ricky\\Anaconda2\\lib\\site-packages\\dask\\dataframe\\io\\io.pyc\u001b[0m in \u001b[0;36mfrom_castra\u001b[1;34m(x, columns)\u001b[0m\n\u001b[0;32m    403\u001b[0m     \u001b[1;32mif\u001b[0m \u001b[1;32mnot\u001b[0m \u001b[0misinstance\u001b[0m\u001b[1;33m(\u001b[0m\u001b[0mx\u001b[0m\u001b[1;33m,\u001b[0m \u001b[0mCastra\u001b[0m\u001b[1;33m)\u001b[0m\u001b[1;33m:\u001b[0m\u001b[1;33m\u001b[0m\u001b[0m\n\u001b[0;32m    404\u001b[0m         \u001b[0mx\u001b[0m \u001b[1;33m=\u001b[0m \u001b[0mCastra\u001b[0m\u001b[1;33m(\u001b[0m\u001b[0mx\u001b[0m\u001b[1;33m,\u001b[0m \u001b[0mreadonly\u001b[0m\u001b[1;33m=\u001b[0m\u001b[0mTrue\u001b[0m\u001b[1;33m)\u001b[0m\u001b[1;33m\u001b[0m\u001b[0m\n\u001b[1;32m--> 405\u001b[1;33m     \u001b[1;32mreturn\u001b[0m \u001b[0mx\u001b[0m\u001b[1;33m.\u001b[0m\u001b[0mto_dask\u001b[0m\u001b[1;33m(\u001b[0m\u001b[0mcolumns\u001b[0m\u001b[1;33m)\u001b[0m\u001b[1;33m\u001b[0m\u001b[0m\n\u001b[0m\u001b[0;32m    406\u001b[0m \u001b[1;33m\u001b[0m\u001b[0m\n\u001b[0;32m    407\u001b[0m \u001b[1;33m\u001b[0m\u001b[0m\n",
      "\u001b[1;32mC:\\Users\\ricky\\Anaconda2\\lib\\site-packages\\castra\\core.pyc\u001b[0m in \u001b[0;36mto_dask\u001b[1;34m(self, columns)\u001b[0m\n\u001b[0;32m    379\u001b[0m                    for i, part in key_parts)\n\u001b[0;32m    380\u001b[0m         \u001b[1;32mif\u001b[0m \u001b[0misinstance\u001b[0m\u001b[1;33m(\u001b[0m\u001b[0mcolumns\u001b[0m\u001b[1;33m,\u001b[0m \u001b[0mlist\u001b[0m\u001b[1;33m)\u001b[0m\u001b[1;33m:\u001b[0m\u001b[1;33m\u001b[0m\u001b[0m\n\u001b[1;32m--> 381\u001b[1;33m             \u001b[1;32mreturn\u001b[0m \u001b[0mdd\u001b[0m\u001b[1;33m.\u001b[0m\u001b[0mDataFrame\u001b[0m\u001b[1;33m(\u001b[0m\u001b[0mdsk\u001b[0m\u001b[1;33m,\u001b[0m \u001b[0mname\u001b[0m\u001b[1;33m,\u001b[0m \u001b[0mcolumns\u001b[0m\u001b[1;33m,\u001b[0m \u001b[0mdivisions\u001b[0m\u001b[1;33m)\u001b[0m\u001b[1;33m\u001b[0m\u001b[0m\n\u001b[0m\u001b[0;32m    382\u001b[0m         \u001b[1;32melse\u001b[0m\u001b[1;33m:\u001b[0m\u001b[1;33m\u001b[0m\u001b[0m\n\u001b[0;32m    383\u001b[0m             \u001b[1;32mreturn\u001b[0m \u001b[0mdd\u001b[0m\u001b[1;33m.\u001b[0m\u001b[0mSeries\u001b[0m\u001b[1;33m(\u001b[0m\u001b[0mdsk\u001b[0m\u001b[1;33m,\u001b[0m \u001b[0mname\u001b[0m\u001b[1;33m,\u001b[0m \u001b[0mcolumns\u001b[0m\u001b[1;33m,\u001b[0m \u001b[0mdivisions\u001b[0m\u001b[1;33m)\u001b[0m\u001b[1;33m\u001b[0m\u001b[0m\n",
      "\u001b[1;32mC:\\Users\\ricky\\Anaconda2\\lib\\site-packages\\dask\\dataframe\\core.pyc\u001b[0m in \u001b[0;36m__init__\u001b[1;34m(self, dsk, name, meta, divisions)\u001b[0m\n\u001b[0;32m    229\u001b[0m         \u001b[0mself\u001b[0m\u001b[1;33m.\u001b[0m\u001b[0mdask\u001b[0m \u001b[1;33m=\u001b[0m \u001b[0mdsk\u001b[0m\u001b[1;33m\u001b[0m\u001b[0m\n\u001b[0;32m    230\u001b[0m         \u001b[0mself\u001b[0m\u001b[1;33m.\u001b[0m\u001b[0m_name\u001b[0m \u001b[1;33m=\u001b[0m \u001b[0mname\u001b[0m\u001b[1;33m\u001b[0m\u001b[0m\n\u001b[1;32m--> 231\u001b[1;33m         \u001b[0mmeta\u001b[0m \u001b[1;33m=\u001b[0m \u001b[0mmake_meta\u001b[0m\u001b[1;33m(\u001b[0m\u001b[0mmeta\u001b[0m\u001b[1;33m)\u001b[0m\u001b[1;33m\u001b[0m\u001b[0m\n\u001b[0m\u001b[0;32m    232\u001b[0m         \u001b[1;32mif\u001b[0m \u001b[1;32mnot\u001b[0m \u001b[0misinstance\u001b[0m\u001b[1;33m(\u001b[0m\u001b[0mmeta\u001b[0m\u001b[1;33m,\u001b[0m \u001b[0mself\u001b[0m\u001b[1;33m.\u001b[0m\u001b[0m_partition_type\u001b[0m\u001b[1;33m)\u001b[0m\u001b[1;33m:\u001b[0m\u001b[1;33m\u001b[0m\u001b[0m\n\u001b[0;32m    233\u001b[0m             raise ValueError(\"Expected meta to specify type {0}, got type \"\n",
      "\u001b[1;32mC:\\Users\\ricky\\Anaconda2\\lib\\site-packages\\dask\\dataframe\\utils.pyc\u001b[0m in \u001b[0;36mmake_meta\u001b[1;34m(x, index)\u001b[0m\n\u001b[0;32m    210\u001b[0m         \u001b[1;32mif\u001b[0m \u001b[1;32mnot\u001b[0m \u001b[0mall\u001b[0m\u001b[1;33m(\u001b[0m\u001b[0misinstance\u001b[0m\u001b[1;33m(\u001b[0m\u001b[0mi\u001b[0m\u001b[1;33m,\u001b[0m \u001b[0mtuple\u001b[0m\u001b[1;33m)\u001b[0m \u001b[1;32mand\u001b[0m \u001b[0mlen\u001b[0m\u001b[1;33m(\u001b[0m\u001b[0mi\u001b[0m\u001b[1;33m)\u001b[0m \u001b[1;33m==\u001b[0m \u001b[1;36m2\u001b[0m \u001b[1;32mfor\u001b[0m \u001b[0mi\u001b[0m \u001b[1;32min\u001b[0m \u001b[0mx\u001b[0m\u001b[1;33m)\u001b[0m\u001b[1;33m:\u001b[0m\u001b[1;33m\u001b[0m\u001b[0m\n\u001b[0;32m    211\u001b[0m             raise ValueError(\"Expected iterable of tuples of (name, dtype), \"\n\u001b[1;32m--> 212\u001b[1;33m                              \"got {0}\".format(x))\n\u001b[0m\u001b[0;32m    213\u001b[0m         return pd.DataFrame({c: pd.Series([], dtype=d) for (c, d) in x},\n\u001b[0;32m    214\u001b[0m                             columns=[c for c, d in x], index=index)\n",
      "\u001b[1;31mValueError\u001b[0m: Expected iterable of tuples of (name, dtype), got [u'asin', u'helpful', u'overall', u'reviewText', u'reviewTime', u'reviewerID', u'reviewerName', u'summary', u'unixReviewTime']"
     ]
    }
   ],
   "source": [
    "# Start a progress bar for all computations\n",
    "pbar = ProgressBar(minimum=3.0,dt=0.5)\n",
    "pbar.register()\n",
    "\n",
    "# Load data into a dask dataframe:\n",
    "path_to_castra = 'C:\\\\dtu\\\\ctbd\\\\amazon_dataset\\\\Musical_Instruments_5.castra'\n",
    "df = dd.from_castra(path_to_castra)"
   ]
  },
  {
   "cell_type": "code",
   "execution_count": 9,
   "metadata": {
    "collapsed": false
   },
   "outputs": [
    {
     "ename": "Exception",
     "evalue": "Data must be 1-dimensional\n\nTraceback\n---------\n  File \"C:\\Users\\ricky\\Anaconda2\\lib\\site-packages\\dask\\async.py\", line 267, in execute_task\n    result = _execute_task(task, data)\n  File \"C:\\Users\\ricky\\Anaconda2\\lib\\site-packages\\dask\\async.py\", line 249, in _execute_task\n    return func(*args2)\n  File \"C:\\Users\\ricky\\Anaconda2\\lib\\site-packages\\castra\\core.py\", line 281, in load_partition\n    index=self.load_index(name))\n  File \"C:\\Users\\ricky\\Anaconda2\\lib\\site-packages\\pandas\\core\\frame.py\", line 224, in __init__\n    mgr = self._init_dict(data, index, columns, dtype=dtype)\n  File \"C:\\Users\\ricky\\Anaconda2\\lib\\site-packages\\pandas\\core\\frame.py\", line 360, in _init_dict\n    return _arrays_to_mgr(arrays, data_names, index, columns, dtype=dtype)\n  File \"C:\\Users\\ricky\\Anaconda2\\lib\\site-packages\\pandas\\core\\frame.py\", line 5236, in _arrays_to_mgr\n    arrays = _homogenize(arrays, index, dtype)\n  File \"C:\\Users\\ricky\\Anaconda2\\lib\\site-packages\\pandas\\core\\frame.py\", line 5546, in _homogenize\n    raise_cast_failure=False)\n  File \"C:\\Users\\ricky\\Anaconda2\\lib\\site-packages\\pandas\\core\\series.py\", line 2920, in _sanitize_array\n    raise Exception('Data must be 1-dimensional')\n",
     "output_type": "error",
     "traceback": [
      "\u001b[1;31m---------------------------------------------------------------------------\u001b[0m",
      "\u001b[1;31mException\u001b[0m                                 Traceback (most recent call last)",
      "\u001b[1;32m<ipython-input-9-8fdfff92dd0b>\u001b[0m in \u001b[0;36m<module>\u001b[1;34m()\u001b[0m\n\u001b[1;32m----> 1\u001b[1;33m \u001b[0mresult\u001b[0m \u001b[1;33m=\u001b[0m \u001b[0mdf\u001b[0m\u001b[1;33m.\u001b[0m\u001b[0mgroupby\u001b[0m\u001b[1;33m(\u001b[0m\u001b[1;34m'asin'\u001b[0m\u001b[1;33m)\u001b[0m\u001b[1;33m.\u001b[0m\u001b[0mmean\u001b[0m\u001b[1;33m(\u001b[0m\u001b[1;33m)\u001b[0m\u001b[1;33m.\u001b[0m\u001b[0mreset_index\u001b[0m\u001b[1;33m(\u001b[0m\u001b[1;33m)\u001b[0m\u001b[1;33m.\u001b[0m\u001b[0mcompute\u001b[0m\u001b[1;33m(\u001b[0m\u001b[1;33m)\u001b[0m\u001b[1;33m\u001b[0m\u001b[0m\n\u001b[0m\u001b[0;32m      2\u001b[0m \u001b[0mresult\u001b[0m\u001b[1;33m[\u001b[0m\u001b[1;34m'index'\u001b[0m\u001b[1;33m]\u001b[0m\u001b[1;33m\u001b[0m\u001b[0m\n",
      "\u001b[1;32mC:\\Users\\ricky\\Anaconda2\\lib\\site-packages\\dask\\base.pyc\u001b[0m in \u001b[0;36mcompute\u001b[1;34m(self, **kwargs)\u001b[0m\n\u001b[0;32m     84\u001b[0m             \u001b[0mExtra\u001b[0m \u001b[0mkeywords\u001b[0m \u001b[0mto\u001b[0m \u001b[0mforward\u001b[0m \u001b[0mto\u001b[0m \u001b[0mthe\u001b[0m \u001b[0mscheduler\u001b[0m \u001b[1;33m`\u001b[0m\u001b[1;33m`\u001b[0m\u001b[0mget\u001b[0m\u001b[1;33m`\u001b[0m\u001b[1;33m`\u001b[0m \u001b[0mfunction\u001b[0m\u001b[1;33m.\u001b[0m\u001b[1;33m\u001b[0m\u001b[0m\n\u001b[0;32m     85\u001b[0m         \"\"\"\n\u001b[1;32m---> 86\u001b[1;33m         \u001b[1;32mreturn\u001b[0m \u001b[0mcompute\u001b[0m\u001b[1;33m(\u001b[0m\u001b[0mself\u001b[0m\u001b[1;33m,\u001b[0m \u001b[1;33m**\u001b[0m\u001b[0mkwargs\u001b[0m\u001b[1;33m)\u001b[0m\u001b[1;33m[\u001b[0m\u001b[1;36m0\u001b[0m\u001b[1;33m]\u001b[0m\u001b[1;33m\u001b[0m\u001b[0m\n\u001b[0m\u001b[0;32m     87\u001b[0m \u001b[1;33m\u001b[0m\u001b[0m\n\u001b[0;32m     88\u001b[0m     \u001b[1;33m@\u001b[0m\u001b[0mclassmethod\u001b[0m\u001b[1;33m\u001b[0m\u001b[0m\n",
      "\u001b[1;32mC:\\Users\\ricky\\Anaconda2\\lib\\site-packages\\dask\\base.pyc\u001b[0m in \u001b[0;36mcompute\u001b[1;34m(*args, **kwargs)\u001b[0m\n\u001b[0;32m    177\u001b[0m         \u001b[0mdsk\u001b[0m \u001b[1;33m=\u001b[0m \u001b[0mmerge\u001b[0m\u001b[1;33m(\u001b[0m\u001b[0mvar\u001b[0m\u001b[1;33m.\u001b[0m\u001b[0mdask\u001b[0m \u001b[1;32mfor\u001b[0m \u001b[0mvar\u001b[0m \u001b[1;32min\u001b[0m \u001b[0mvariables\u001b[0m\u001b[1;33m)\u001b[0m\u001b[1;33m\u001b[0m\u001b[0m\n\u001b[0;32m    178\u001b[0m     \u001b[0mkeys\u001b[0m \u001b[1;33m=\u001b[0m \u001b[1;33m[\u001b[0m\u001b[0mvar\u001b[0m\u001b[1;33m.\u001b[0m\u001b[0m_keys\u001b[0m\u001b[1;33m(\u001b[0m\u001b[1;33m)\u001b[0m \u001b[1;32mfor\u001b[0m \u001b[0mvar\u001b[0m \u001b[1;32min\u001b[0m \u001b[0mvariables\u001b[0m\u001b[1;33m]\u001b[0m\u001b[1;33m\u001b[0m\u001b[0m\n\u001b[1;32m--> 179\u001b[1;33m     \u001b[0mresults\u001b[0m \u001b[1;33m=\u001b[0m \u001b[0mget\u001b[0m\u001b[1;33m(\u001b[0m\u001b[0mdsk\u001b[0m\u001b[1;33m,\u001b[0m \u001b[0mkeys\u001b[0m\u001b[1;33m,\u001b[0m \u001b[1;33m**\u001b[0m\u001b[0mkwargs\u001b[0m\u001b[1;33m)\u001b[0m\u001b[1;33m\u001b[0m\u001b[0m\n\u001b[0m\u001b[0;32m    180\u001b[0m \u001b[1;33m\u001b[0m\u001b[0m\n\u001b[0;32m    181\u001b[0m     \u001b[0mresults_iter\u001b[0m \u001b[1;33m=\u001b[0m \u001b[0miter\u001b[0m\u001b[1;33m(\u001b[0m\u001b[0mresults\u001b[0m\u001b[1;33m)\u001b[0m\u001b[1;33m\u001b[0m\u001b[0m\n",
      "\u001b[1;32mC:\\Users\\ricky\\Anaconda2\\lib\\site-packages\\dask\\threaded.pyc\u001b[0m in \u001b[0;36mget\u001b[1;34m(dsk, result, cache, num_workers, **kwargs)\u001b[0m\n\u001b[0;32m     55\u001b[0m     results = get_async(pool.apply_async, len(pool._pool), dsk, result,\n\u001b[0;32m     56\u001b[0m                         \u001b[0mcache\u001b[0m\u001b[1;33m=\u001b[0m\u001b[0mcache\u001b[0m\u001b[1;33m,\u001b[0m \u001b[0mqueue\u001b[0m\u001b[1;33m=\u001b[0m\u001b[0mqueue\u001b[0m\u001b[1;33m,\u001b[0m \u001b[0mget_id\u001b[0m\u001b[1;33m=\u001b[0m\u001b[0m_thread_get_id\u001b[0m\u001b[1;33m,\u001b[0m\u001b[1;33m\u001b[0m\u001b[0m\n\u001b[1;32m---> 57\u001b[1;33m                         **kwargs)\n\u001b[0m\u001b[0;32m     58\u001b[0m \u001b[1;33m\u001b[0m\u001b[0m\n\u001b[0;32m     59\u001b[0m     \u001b[1;32mreturn\u001b[0m \u001b[0mresults\u001b[0m\u001b[1;33m\u001b[0m\u001b[0m\n",
      "\u001b[1;32mC:\\Users\\ricky\\Anaconda2\\lib\\site-packages\\dask\\async.pyc\u001b[0m in \u001b[0;36mget_async\u001b[1;34m(apply_async, num_workers, dsk, result, cache, queue, get_id, raise_on_exception, rerun_exceptions_locally, callbacks, **kwargs)\u001b[0m\n\u001b[0;32m    482\u001b[0m                 \u001b[0m_execute_task\u001b[0m\u001b[1;33m(\u001b[0m\u001b[0mtask\u001b[0m\u001b[1;33m,\u001b[0m \u001b[0mdata\u001b[0m\u001b[1;33m)\u001b[0m  \u001b[1;31m# Re-execute locally\u001b[0m\u001b[1;33m\u001b[0m\u001b[0m\n\u001b[0;32m    483\u001b[0m             \u001b[1;32melse\u001b[0m\u001b[1;33m:\u001b[0m\u001b[1;33m\u001b[0m\u001b[0m\n\u001b[1;32m--> 484\u001b[1;33m                 \u001b[1;32mraise\u001b[0m\u001b[1;33m(\u001b[0m\u001b[0mremote_exception\u001b[0m\u001b[1;33m(\u001b[0m\u001b[0mres\u001b[0m\u001b[1;33m,\u001b[0m \u001b[0mtb\u001b[0m\u001b[1;33m)\u001b[0m\u001b[1;33m)\u001b[0m\u001b[1;33m\u001b[0m\u001b[0m\n\u001b[0m\u001b[0;32m    485\u001b[0m         \u001b[0mstate\u001b[0m\u001b[1;33m[\u001b[0m\u001b[1;34m'cache'\u001b[0m\u001b[1;33m]\u001b[0m\u001b[1;33m[\u001b[0m\u001b[0mkey\u001b[0m\u001b[1;33m]\u001b[0m \u001b[1;33m=\u001b[0m \u001b[0mres\u001b[0m\u001b[1;33m\u001b[0m\u001b[0m\n\u001b[0;32m    486\u001b[0m         \u001b[0mfinish_task\u001b[0m\u001b[1;33m(\u001b[0m\u001b[0mdsk\u001b[0m\u001b[1;33m,\u001b[0m \u001b[0mkey\u001b[0m\u001b[1;33m,\u001b[0m \u001b[0mstate\u001b[0m\u001b[1;33m,\u001b[0m \u001b[0mresults\u001b[0m\u001b[1;33m,\u001b[0m \u001b[0mkeyorder\u001b[0m\u001b[1;33m.\u001b[0m\u001b[0mget\u001b[0m\u001b[1;33m)\u001b[0m\u001b[1;33m\u001b[0m\u001b[0m\n",
      "\u001b[1;31mException\u001b[0m: Data must be 1-dimensional\n\nTraceback\n---------\n  File \"C:\\Users\\ricky\\Anaconda2\\lib\\site-packages\\dask\\async.py\", line 267, in execute_task\n    result = _execute_task(task, data)\n  File \"C:\\Users\\ricky\\Anaconda2\\lib\\site-packages\\dask\\async.py\", line 249, in _execute_task\n    return func(*args2)\n  File \"C:\\Users\\ricky\\Anaconda2\\lib\\site-packages\\castra\\core.py\", line 281, in load_partition\n    index=self.load_index(name))\n  File \"C:\\Users\\ricky\\Anaconda2\\lib\\site-packages\\pandas\\core\\frame.py\", line 224, in __init__\n    mgr = self._init_dict(data, index, columns, dtype=dtype)\n  File \"C:\\Users\\ricky\\Anaconda2\\lib\\site-packages\\pandas\\core\\frame.py\", line 360, in _init_dict\n    return _arrays_to_mgr(arrays, data_names, index, columns, dtype=dtype)\n  File \"C:\\Users\\ricky\\Anaconda2\\lib\\site-packages\\pandas\\core\\frame.py\", line 5236, in _arrays_to_mgr\n    arrays = _homogenize(arrays, index, dtype)\n  File \"C:\\Users\\ricky\\Anaconda2\\lib\\site-packages\\pandas\\core\\frame.py\", line 5546, in _homogenize\n    raise_cast_failure=False)\n  File \"C:\\Users\\ricky\\Anaconda2\\lib\\site-packages\\pandas\\core\\series.py\", line 2920, in _sanitize_array\n    raise Exception('Data must be 1-dimensional')\n"
     ]
    }
   ],
   "source": [
    "result = df.groupby('asin').mean().reset_index().compute()\n",
    "result['index']"
   ]
  },
  {
   "cell_type": "code",
   "execution_count": 23,
   "metadata": {
    "collapsed": false
   },
   "outputs": [
    {
     "ename": "Exception",
     "evalue": "Data must be 1-dimensional\n\nTraceback\n---------\n  File \"C:\\Users\\ricky\\Anaconda2\\lib\\site-packages\\dask\\async.py\", line 267, in execute_task\n    result = _execute_task(task, data)\n  File \"C:\\Users\\ricky\\Anaconda2\\lib\\site-packages\\dask\\async.py\", line 249, in _execute_task\n    return func(*args2)\n  File \"C:\\Users\\ricky\\Anaconda2\\lib\\site-packages\\castra\\core.py\", line 281, in load_partition\n    index=self.load_index(name))\n  File \"C:\\Users\\ricky\\Anaconda2\\lib\\site-packages\\pandas\\core\\frame.py\", line 224, in __init__\n    mgr = self._init_dict(data, index, columns, dtype=dtype)\n  File \"C:\\Users\\ricky\\Anaconda2\\lib\\site-packages\\pandas\\core\\frame.py\", line 360, in _init_dict\n    return _arrays_to_mgr(arrays, data_names, index, columns, dtype=dtype)\n  File \"C:\\Users\\ricky\\Anaconda2\\lib\\site-packages\\pandas\\core\\frame.py\", line 5236, in _arrays_to_mgr\n    arrays = _homogenize(arrays, index, dtype)\n  File \"C:\\Users\\ricky\\Anaconda2\\lib\\site-packages\\pandas\\core\\frame.py\", line 5546, in _homogenize\n    raise_cast_failure=False)\n  File \"C:\\Users\\ricky\\Anaconda2\\lib\\site-packages\\pandas\\core\\series.py\", line 2920, in _sanitize_array\n    raise Exception('Data must be 1-dimensional')\n",
     "output_type": "error",
     "traceback": [
      "\u001b[1;31m---------------------------------------------------------------------------\u001b[0m",
      "\u001b[1;31mException\u001b[0m                                 Traceback (most recent call last)",
      "\u001b[1;32m<ipython-input-23-831096f8a5d0>\u001b[0m in \u001b[0;36m<module>\u001b[1;34m()\u001b[0m\n\u001b[1;32m----> 1\u001b[1;33m \u001b[0mdf\u001b[0m\u001b[1;33m.\u001b[0m\u001b[0mcount\u001b[0m\u001b[1;33m(\u001b[0m\u001b[1;33m)\u001b[0m\u001b[1;33m.\u001b[0m\u001b[0mcompute\u001b[0m\u001b[1;33m(\u001b[0m\u001b[1;33m)\u001b[0m\u001b[1;33m\u001b[0m\u001b[0m\n\u001b[0m",
      "\u001b[1;32mC:\\Users\\ricky\\Anaconda2\\lib\\site-packages\\dask\\base.pyc\u001b[0m in \u001b[0;36mcompute\u001b[1;34m(self, **kwargs)\u001b[0m\n\u001b[0;32m     84\u001b[0m             \u001b[0mExtra\u001b[0m \u001b[0mkeywords\u001b[0m \u001b[0mto\u001b[0m \u001b[0mforward\u001b[0m \u001b[0mto\u001b[0m \u001b[0mthe\u001b[0m \u001b[0mscheduler\u001b[0m \u001b[1;33m`\u001b[0m\u001b[1;33m`\u001b[0m\u001b[0mget\u001b[0m\u001b[1;33m`\u001b[0m\u001b[1;33m`\u001b[0m \u001b[0mfunction\u001b[0m\u001b[1;33m.\u001b[0m\u001b[1;33m\u001b[0m\u001b[0m\n\u001b[0;32m     85\u001b[0m         \"\"\"\n\u001b[1;32m---> 86\u001b[1;33m         \u001b[1;32mreturn\u001b[0m \u001b[0mcompute\u001b[0m\u001b[1;33m(\u001b[0m\u001b[0mself\u001b[0m\u001b[1;33m,\u001b[0m \u001b[1;33m**\u001b[0m\u001b[0mkwargs\u001b[0m\u001b[1;33m)\u001b[0m\u001b[1;33m[\u001b[0m\u001b[1;36m0\u001b[0m\u001b[1;33m]\u001b[0m\u001b[1;33m\u001b[0m\u001b[0m\n\u001b[0m\u001b[0;32m     87\u001b[0m \u001b[1;33m\u001b[0m\u001b[0m\n\u001b[0;32m     88\u001b[0m     \u001b[1;33m@\u001b[0m\u001b[0mclassmethod\u001b[0m\u001b[1;33m\u001b[0m\u001b[0m\n",
      "\u001b[1;32mC:\\Users\\ricky\\Anaconda2\\lib\\site-packages\\dask\\base.pyc\u001b[0m in \u001b[0;36mcompute\u001b[1;34m(*args, **kwargs)\u001b[0m\n\u001b[0;32m    177\u001b[0m         \u001b[0mdsk\u001b[0m \u001b[1;33m=\u001b[0m \u001b[0mmerge\u001b[0m\u001b[1;33m(\u001b[0m\u001b[0mvar\u001b[0m\u001b[1;33m.\u001b[0m\u001b[0mdask\u001b[0m \u001b[1;32mfor\u001b[0m \u001b[0mvar\u001b[0m \u001b[1;32min\u001b[0m \u001b[0mvariables\u001b[0m\u001b[1;33m)\u001b[0m\u001b[1;33m\u001b[0m\u001b[0m\n\u001b[0;32m    178\u001b[0m     \u001b[0mkeys\u001b[0m \u001b[1;33m=\u001b[0m \u001b[1;33m[\u001b[0m\u001b[0mvar\u001b[0m\u001b[1;33m.\u001b[0m\u001b[0m_keys\u001b[0m\u001b[1;33m(\u001b[0m\u001b[1;33m)\u001b[0m \u001b[1;32mfor\u001b[0m \u001b[0mvar\u001b[0m \u001b[1;32min\u001b[0m \u001b[0mvariables\u001b[0m\u001b[1;33m]\u001b[0m\u001b[1;33m\u001b[0m\u001b[0m\n\u001b[1;32m--> 179\u001b[1;33m     \u001b[0mresults\u001b[0m \u001b[1;33m=\u001b[0m \u001b[0mget\u001b[0m\u001b[1;33m(\u001b[0m\u001b[0mdsk\u001b[0m\u001b[1;33m,\u001b[0m \u001b[0mkeys\u001b[0m\u001b[1;33m,\u001b[0m \u001b[1;33m**\u001b[0m\u001b[0mkwargs\u001b[0m\u001b[1;33m)\u001b[0m\u001b[1;33m\u001b[0m\u001b[0m\n\u001b[0m\u001b[0;32m    180\u001b[0m \u001b[1;33m\u001b[0m\u001b[0m\n\u001b[0;32m    181\u001b[0m     \u001b[0mresults_iter\u001b[0m \u001b[1;33m=\u001b[0m \u001b[0miter\u001b[0m\u001b[1;33m(\u001b[0m\u001b[0mresults\u001b[0m\u001b[1;33m)\u001b[0m\u001b[1;33m\u001b[0m\u001b[0m\n",
      "\u001b[1;32mC:\\Users\\ricky\\Anaconda2\\lib\\site-packages\\dask\\threaded.pyc\u001b[0m in \u001b[0;36mget\u001b[1;34m(dsk, result, cache, num_workers, **kwargs)\u001b[0m\n\u001b[0;32m     55\u001b[0m     results = get_async(pool.apply_async, len(pool._pool), dsk, result,\n\u001b[0;32m     56\u001b[0m                         \u001b[0mcache\u001b[0m\u001b[1;33m=\u001b[0m\u001b[0mcache\u001b[0m\u001b[1;33m,\u001b[0m \u001b[0mqueue\u001b[0m\u001b[1;33m=\u001b[0m\u001b[0mqueue\u001b[0m\u001b[1;33m,\u001b[0m \u001b[0mget_id\u001b[0m\u001b[1;33m=\u001b[0m\u001b[0m_thread_get_id\u001b[0m\u001b[1;33m,\u001b[0m\u001b[1;33m\u001b[0m\u001b[0m\n\u001b[1;32m---> 57\u001b[1;33m                         **kwargs)\n\u001b[0m\u001b[0;32m     58\u001b[0m \u001b[1;33m\u001b[0m\u001b[0m\n\u001b[0;32m     59\u001b[0m     \u001b[1;32mreturn\u001b[0m \u001b[0mresults\u001b[0m\u001b[1;33m\u001b[0m\u001b[0m\n",
      "\u001b[1;32mC:\\Users\\ricky\\Anaconda2\\lib\\site-packages\\dask\\async.pyc\u001b[0m in \u001b[0;36mget_async\u001b[1;34m(apply_async, num_workers, dsk, result, cache, queue, get_id, raise_on_exception, rerun_exceptions_locally, callbacks, **kwargs)\u001b[0m\n\u001b[0;32m    482\u001b[0m                 \u001b[0m_execute_task\u001b[0m\u001b[1;33m(\u001b[0m\u001b[0mtask\u001b[0m\u001b[1;33m,\u001b[0m \u001b[0mdata\u001b[0m\u001b[1;33m)\u001b[0m  \u001b[1;31m# Re-execute locally\u001b[0m\u001b[1;33m\u001b[0m\u001b[0m\n\u001b[0;32m    483\u001b[0m             \u001b[1;32melse\u001b[0m\u001b[1;33m:\u001b[0m\u001b[1;33m\u001b[0m\u001b[0m\n\u001b[1;32m--> 484\u001b[1;33m                 \u001b[1;32mraise\u001b[0m\u001b[1;33m(\u001b[0m\u001b[0mremote_exception\u001b[0m\u001b[1;33m(\u001b[0m\u001b[0mres\u001b[0m\u001b[1;33m,\u001b[0m \u001b[0mtb\u001b[0m\u001b[1;33m)\u001b[0m\u001b[1;33m)\u001b[0m\u001b[1;33m\u001b[0m\u001b[0m\n\u001b[0m\u001b[0;32m    485\u001b[0m         \u001b[0mstate\u001b[0m\u001b[1;33m[\u001b[0m\u001b[1;34m'cache'\u001b[0m\u001b[1;33m]\u001b[0m\u001b[1;33m[\u001b[0m\u001b[0mkey\u001b[0m\u001b[1;33m]\u001b[0m \u001b[1;33m=\u001b[0m \u001b[0mres\u001b[0m\u001b[1;33m\u001b[0m\u001b[0m\n\u001b[0;32m    486\u001b[0m         \u001b[0mfinish_task\u001b[0m\u001b[1;33m(\u001b[0m\u001b[0mdsk\u001b[0m\u001b[1;33m,\u001b[0m \u001b[0mkey\u001b[0m\u001b[1;33m,\u001b[0m \u001b[0mstate\u001b[0m\u001b[1;33m,\u001b[0m \u001b[0mresults\u001b[0m\u001b[1;33m,\u001b[0m \u001b[0mkeyorder\u001b[0m\u001b[1;33m.\u001b[0m\u001b[0mget\u001b[0m\u001b[1;33m)\u001b[0m\u001b[1;33m\u001b[0m\u001b[0m\n",
      "\u001b[1;31mException\u001b[0m: Data must be 1-dimensional\n\nTraceback\n---------\n  File \"C:\\Users\\ricky\\Anaconda2\\lib\\site-packages\\dask\\async.py\", line 267, in execute_task\n    result = _execute_task(task, data)\n  File \"C:\\Users\\ricky\\Anaconda2\\lib\\site-packages\\dask\\async.py\", line 249, in _execute_task\n    return func(*args2)\n  File \"C:\\Users\\ricky\\Anaconda2\\lib\\site-packages\\castra\\core.py\", line 281, in load_partition\n    index=self.load_index(name))\n  File \"C:\\Users\\ricky\\Anaconda2\\lib\\site-packages\\pandas\\core\\frame.py\", line 224, in __init__\n    mgr = self._init_dict(data, index, columns, dtype=dtype)\n  File \"C:\\Users\\ricky\\Anaconda2\\lib\\site-packages\\pandas\\core\\frame.py\", line 360, in _init_dict\n    return _arrays_to_mgr(arrays, data_names, index, columns, dtype=dtype)\n  File \"C:\\Users\\ricky\\Anaconda2\\lib\\site-packages\\pandas\\core\\frame.py\", line 5236, in _arrays_to_mgr\n    arrays = _homogenize(arrays, index, dtype)\n  File \"C:\\Users\\ricky\\Anaconda2\\lib\\site-packages\\pandas\\core\\frame.py\", line 5546, in _homogenize\n    raise_cast_failure=False)\n  File \"C:\\Users\\ricky\\Anaconda2\\lib\\site-packages\\pandas\\core\\series.py\", line 2920, in _sanitize_array\n    raise Exception('Data must be 1-dimensional')\n"
     ]
    }
   ],
   "source": [
    "df.count().compute()"
   ]
  },
  {
   "cell_type": "code",
   "execution_count": 22,
   "metadata": {
    "collapsed": false
   },
   "outputs": [
    {
     "data": {
      "text/plain": [
       "B003VWJ2K8    163\n",
       "B0002E1G5C    143\n",
       "B0002F7K7Y    116\n",
       "B003VWKPHC    114\n",
       "B0002H0A3S     93\n",
       "B0002CZVXM     74\n",
       "B0006NDF8A     71\n",
       "B0009G1E0K     69\n",
       "B0002E2KPC     68\n",
       "B0002GLDQM     67\n",
       "Name: asin, dtype: int64"
      ]
     },
     "execution_count": 22,
     "metadata": {},
     "output_type": "execute_result"
    }
   ],
   "source": [
    "df.asin.value_counts().nlargest(10).compute()"
   ]
  }
 ],
 "metadata": {
  "anaconda-cloud": {},
  "kernelspec": {
   "display_name": "Python [Root]",
   "language": "python",
   "name": "Python [Root]"
  },
  "language_info": {
   "codemirror_mode": {
    "name": "ipython",
    "version": 2
   },
   "file_extension": ".py",
   "mimetype": "text/x-python",
   "name": "python",
   "nbconvert_exporter": "python",
   "pygments_lexer": "ipython2",
   "version": "2.7.12"
  }
 },
 "nbformat": 4,
 "nbformat_minor": 0
}
