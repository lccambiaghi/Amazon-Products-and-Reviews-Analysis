{
 "cells": [
  {
   "cell_type": "markdown",
   "metadata": {
    "collapsed": true
   },
   "source": [
    "# Reading from a compressed file."
   ]
  },
  {
   "cell_type": "code",
   "execution_count": 1,
   "metadata": {
    "collapsed": false
   },
   "outputs": [
    {
     "name": "stdout",
     "output_type": "stream",
     "text": [
      "0 100000 200000 300000 400000 500000 600000 700000 800000 900000 1000000 1100000 1200000"
     ]
    },
    {
     "ename": "KeyboardInterrupt",
     "evalue": "",
     "output_type": "error",
     "traceback": [
      "\u001b[1;31m---------------------------------------------------------------------------\u001b[0m",
      "\u001b[1;31mKeyboardInterrupt\u001b[0m                         Traceback (most recent call last)",
      "\u001b[1;32m<ipython-input-1-93ae118864eb>\u001b[0m in \u001b[0;36m<module>\u001b[1;34m()\u001b[0m\n\u001b[0;32m      9\u001b[0m \u001b[1;33m\u001b[0m\u001b[0m\n\u001b[0;32m     10\u001b[0m \u001b[1;32mwith\u001b[0m \u001b[0mgzip\u001b[0m\u001b[1;33m.\u001b[0m\u001b[0mopen\u001b[0m\u001b[1;33m(\u001b[0m\u001b[0mpath_of_the_gz\u001b[0m \u001b[1;33m+\u001b[0m \u001b[0mmetadata\u001b[0m\u001b[1;33m,\u001b[0m \u001b[1;34m'rb'\u001b[0m\u001b[1;33m)\u001b[0m \u001b[1;32mas\u001b[0m \u001b[0mf\u001b[0m\u001b[1;33m:\u001b[0m\u001b[1;33m\u001b[0m\u001b[0m\n\u001b[1;32m---> 11\u001b[1;33m     \u001b[1;32mfor\u001b[0m \u001b[0mi\u001b[0m\u001b[1;33m,\u001b[0m\u001b[0ml\u001b[0m \u001b[1;32min\u001b[0m \u001b[0menumerate\u001b[0m\u001b[1;33m(\u001b[0m\u001b[0mf\u001b[0m\u001b[1;33m)\u001b[0m\u001b[1;33m:\u001b[0m\u001b[1;33m\u001b[0m\u001b[0m\n\u001b[0m\u001b[0;32m     12\u001b[0m         \u001b[1;32mif\u001b[0m \u001b[0mi\u001b[0m \u001b[1;33m%\u001b[0m \u001b[1;36m1e5\u001b[0m \u001b[1;33m==\u001b[0m \u001b[1;36m0\u001b[0m\u001b[1;33m:\u001b[0m\u001b[1;33m\u001b[0m\u001b[0m\n\u001b[0;32m     13\u001b[0m             \u001b[1;32mprint\u001b[0m \u001b[0mi\u001b[0m\u001b[1;33m,\u001b[0m \u001b[1;31m#l\u001b[0m\u001b[1;33m\u001b[0m\u001b[0m\n",
      "\u001b[1;32mC:\\Users\\ricky\\Anaconda2\\lib\\gzip.pyc\u001b[0m in \u001b[0;36mreadline\u001b[1;34m(self, size)\u001b[0m\n\u001b[0;32m    462\u001b[0m         \u001b[0mbufs\u001b[0m \u001b[1;33m=\u001b[0m \u001b[1;33m[\u001b[0m\u001b[1;33m]\u001b[0m\u001b[1;33m\u001b[0m\u001b[0m\n\u001b[0;32m    463\u001b[0m         \u001b[1;32mwhile\u001b[0m \u001b[0msize\u001b[0m \u001b[1;33m!=\u001b[0m \u001b[1;36m0\u001b[0m\u001b[1;33m:\u001b[0m\u001b[1;33m\u001b[0m\u001b[0m\n\u001b[1;32m--> 464\u001b[1;33m             \u001b[0mc\u001b[0m \u001b[1;33m=\u001b[0m \u001b[0mself\u001b[0m\u001b[1;33m.\u001b[0m\u001b[0mread\u001b[0m\u001b[1;33m(\u001b[0m\u001b[0mreadsize\u001b[0m\u001b[1;33m)\u001b[0m\u001b[1;33m\u001b[0m\u001b[0m\n\u001b[0m\u001b[0;32m    465\u001b[0m             \u001b[0mi\u001b[0m \u001b[1;33m=\u001b[0m \u001b[0mc\u001b[0m\u001b[1;33m.\u001b[0m\u001b[0mfind\u001b[0m\u001b[1;33m(\u001b[0m\u001b[1;34m'\\n'\u001b[0m\u001b[1;33m)\u001b[0m\u001b[1;33m\u001b[0m\u001b[0m\n\u001b[0;32m    466\u001b[0m \u001b[1;33m\u001b[0m\u001b[0m\n",
      "\u001b[1;32mC:\\Users\\ricky\\Anaconda2\\lib\\gzip.pyc\u001b[0m in \u001b[0;36mread\u001b[1;34m(self, size)\u001b[0m\n\u001b[0;32m    266\u001b[0m             \u001b[1;32mtry\u001b[0m\u001b[1;33m:\u001b[0m\u001b[1;33m\u001b[0m\u001b[0m\n\u001b[0;32m    267\u001b[0m                 \u001b[1;32mwhile\u001b[0m \u001b[0msize\u001b[0m \u001b[1;33m>\u001b[0m \u001b[0mself\u001b[0m\u001b[1;33m.\u001b[0m\u001b[0mextrasize\u001b[0m\u001b[1;33m:\u001b[0m\u001b[1;33m\u001b[0m\u001b[0m\n\u001b[1;32m--> 268\u001b[1;33m                     \u001b[0mself\u001b[0m\u001b[1;33m.\u001b[0m\u001b[0m_read\u001b[0m\u001b[1;33m(\u001b[0m\u001b[0mreadsize\u001b[0m\u001b[1;33m)\u001b[0m\u001b[1;33m\u001b[0m\u001b[0m\n\u001b[0m\u001b[0;32m    269\u001b[0m                     \u001b[0mreadsize\u001b[0m \u001b[1;33m=\u001b[0m \u001b[0mmin\u001b[0m\u001b[1;33m(\u001b[0m\u001b[0mself\u001b[0m\u001b[1;33m.\u001b[0m\u001b[0mmax_read_chunk\u001b[0m\u001b[1;33m,\u001b[0m \u001b[0mreadsize\u001b[0m \u001b[1;33m*\u001b[0m \u001b[1;36m2\u001b[0m\u001b[1;33m)\u001b[0m\u001b[1;33m\u001b[0m\u001b[0m\n\u001b[0;32m    270\u001b[0m             \u001b[1;32mexcept\u001b[0m \u001b[0mEOFError\u001b[0m\u001b[1;33m:\u001b[0m\u001b[1;33m\u001b[0m\u001b[0m\n",
      "\u001b[1;32mC:\\Users\\ricky\\Anaconda2\\lib\\gzip.pyc\u001b[0m in \u001b[0;36m_read\u001b[1;34m(self, size)\u001b[0m\n\u001b[0;32m    306\u001b[0m \u001b[1;33m\u001b[0m\u001b[0m\n\u001b[0;32m    307\u001b[0m         \u001b[1;31m# Read a chunk of data from the file\u001b[0m\u001b[1;33m\u001b[0m\u001b[1;33m\u001b[0m\u001b[0m\n\u001b[1;32m--> 308\u001b[1;33m         \u001b[0mbuf\u001b[0m \u001b[1;33m=\u001b[0m \u001b[0mself\u001b[0m\u001b[1;33m.\u001b[0m\u001b[0mfileobj\u001b[0m\u001b[1;33m.\u001b[0m\u001b[0mread\u001b[0m\u001b[1;33m(\u001b[0m\u001b[0msize\u001b[0m\u001b[1;33m)\u001b[0m\u001b[1;33m\u001b[0m\u001b[0m\n\u001b[0m\u001b[0;32m    309\u001b[0m \u001b[1;33m\u001b[0m\u001b[0m\n\u001b[0;32m    310\u001b[0m         \u001b[1;31m# If the EOF has been reached, flush the decompression object\u001b[0m\u001b[1;33m\u001b[0m\u001b[1;33m\u001b[0m\u001b[0m\n",
      "\u001b[1;31mKeyboardInterrupt\u001b[0m: "
     ]
    }
   ],
   "source": [
    "import demjson\n",
    "\n",
    "import gzip\n",
    "import json\n",
    "path_of_the_gz = 'C:\\\\dtu\\\\ctbd\\\\amazon_dataset\\\\'\n",
    "metadata = 'metadata.json.gz'\n",
    "fivecore = 'kcore_5.json.gz'\n",
    "\n",
    "\n",
    "with gzip.open(path_of_the_gz + metadata, 'rb') as f:\n",
    "    for i,l in enumerate(f):\n",
    "        if i % 1e5 == 0:\n",
    "            print i, #l\n",
    "            #k = json.loads(l.replace('\"', '\\\"').replace(\"'\", '\"'))\n",
    "            try:\n",
    "                k = demjson.decode(l)\n",
    "            except ValueError, e: \n",
    "                print '\\nERR\\n',e,'\\n' , l\n",
    "                break\n",
    "\n",
    "print i\n",
    "print \"done\""
   ]
  },
  {
   "cell_type": "code",
   "execution_count": 9,
   "metadata": {
    "collapsed": false
   },
   "outputs": [
    {
     "name": "stdout",
     "output_type": "stream",
     "text": [
      "0 100000 200000 300000 400000 500000 600000 700000 800000 900000 \n",
      "ERR\n",
      "No JSON object could be decoded \n",
      "{'asin': '0945045085', 'description': \"UNCLE KAWAIOLA'S DREAM A HAWAIIAN STORY by Anuhea Yagi - MAUITIME WEEKLY - July 29, 2010 LO'I OF DREAMS Uncle Kawaiola's Dream: A Hawaiian Story, by Victor C. Pellegrino exemplifies how storytelling is an excellent vehicle to talk about complex topics from our past and present, while enacting a dialogue that can shape our future.  Like the bone colored roots that web from kalo corms into waterlogged earth, the book s themes explore poignant sociopolitical topics woven to the restoration of ancient Hawaiian lo`i kalo. Appropriate for children and adults of all ages, but with its study guide geared toward fourth graders this 32-page, historical fiction hardcover follows Uncle Kawaiola as he recounts to his niece and nephew a waking dream of revitalized kalo cultivation on their family s land. Uncle Kawaiola's dream is in real life a dream shared by a small but growing number of passionate, dedicated and hard-working people, [who] may or may not be ethnically Hawaiian, and... that those fervent few, have made their dream more than just a passion or pastime. They have made it their way of life.  As Uncle Kawaiola tells his tale, readers discover that this way of life... has edged on extinction; threatened largely by the diversion of water from central Maui s four major streams of Waikapu, Wailuku, Waiehu, and Waihe`e [which] provided water for what was [in the mid 1800s] the largest contiguous kalo-growing region in all of ancient Hawai`i.  Seemingly a metaphor for the myriad cultural ramifications of kalo farming stunted by sapped resources, Uncle Kawaiola describes to young Ho`ala and Naupaka, how, the ground cracked, and invasive weeds and koa haole trees grew all over the lo`i. Eventually, the ancient stone walls fell down.  Yet in story as in life a challenged landscape is but a canvass waiting to be re-envisioned. In Pellegrino s book, Uncle Kawaiola spurs revitalization, even when some are unconvinced that change can be made. In this, values of laulima and ohana (a group of people working together, and family, respectively) are defined, as Uncle Kawaiola rallies ... family, friends and neighbors to rebuild the lo`i and perpetuate time-honored farming practices.  It s then that Ho`ala and Naupaka become a part of the waking dream as they too are integral to continued restoration. For young readers comparing these young characters to their own lives, this can prove powerful imagery as they imagine their own potential for personal involvement in saving Hawaii s ancient peoples cornerstone crop.  Uncle Kawaiola's Dream is the thirteenth book penned and published by Pellegrino; a University of Hawai`i Professor Emeritus.  For an educator, adding a study guide to the book came naturally; and in it Pellegrino poses questions like Do you think the decline of kalo cultivation affected Hawaiians' health and diet? and How did Hawaiians use and share water resources?  The book also features a two-page, 50-word glossary that makes for easy reference of Hawaiian words used in the text.  But nearly tantamount to the story and its supplements are its captivating illustrations. Artist Linda Rowell Stevens, a Pahoa, Hawai`i Island resident, seems to source every jeweled, natural hue and her work brims with an effervescent mystique mirroring that which Pellegrino pours into his words.  With all the ideas conveyed in Uncle Kawaiola's Dream, the steadfast lesson connecting them all is that the path toward actualization is a patient one, wherein taking small steps, is the only means by which to accomplish big dreams. Pellegrino s heartfelt new book is sure to inspire big things from even our smallest readers. --MAUITIME WEEKLY - July 29, 2010 - Anuhea YagiUncle Kawaiola's Dream is a moving account of one ohana's (family's) efforts to restore ancient lo`i kalo and their connection to their culture. This story wil --6 Testimonials above have names and titlesNEW BOOK ON MAUI LO I RESTORATION HAS REAL-LIFE ROOTS by Francine Murray KA WAI OLA, Vol. 27, No. 10, October 2010 Imagine Maui of old, its rich landscape shimmering in a dance of green kalo reaching for the sun across acres from Waikapu to Waihe e. (This was) the hearth of the Valley Isle, breadbasket or shall we say, umeke poi of the Islands. It was the largest agricultural kalo region in ancient Hawai i. Waikapu alone included more than 1,800 lo i self-sufficient local community that flourished without imported sustenance.  Oh, what a vision. If only we could connect to the past and bring a bit of that historic life back to the land. But how?  How do you fulfill a dream? Step by step. In little steps, with many helping hands. A delightful new book, Uncle Kawaiola s Dream, shares the tale of this dream coming true, the rebuilding of a taro farm in Maui. The children s book comes to life with the vibrant paintings by acclaimed Hawaiian mythology artist Linda Rowell Stevens and the charming timely tale by Maui professor, author and kalo farmer Victor Pellegrino.   No dream comes without challenges, said Pellegrino. For us, these challenges although unfortunate in regards to our water source, has actually been a positive one as we build stronger relationships within our Waikapu and Maui community. Currently, about 96 percent of the water of Waikapu Stream is diverted for commercial and other use. But slowly a few lo i kalo, irrigated terraces where taro grow, have been rebuilt. We always tell students that if they work hard, believe in what they do and take the right small steps, they will achieve that dream.  The story teaches traditional Hawaiian values like the community coming together to help one family clear the land and reconstruct the lo i and the k&#xEF;papa stone walls as it was done it the past.  A resource for keiki and adult alike, the book also includes a Hawaiian-English glossary explaining all the Hawaiian words used throughout the publication, like the definition of Waikapu, the first of four ahupua a at the base of the West Maui Mountains.  Why do you think Uncle Kawaiola s dream story inspired people who heard it? What do passion and hard work have to do with achieving your dreams? For added learning, a study guide is built-in.   We enjoy seeing the cultural landscape come alive again, said Pellegrino. Share the dream. Pick up a copy for yourself and the keiki in your life. --NEW BOOK ON MAUI LO I RESTORATION HAS REAL-LIFE ROOTS by Francine Murray KA WAI OLA, Vol. 27, No. 10, October 2010\", 'title': \"Uncle Kawaiola's Dream: A Hawaiian Story\", 'price': 17.06, 'imUrl': 'http://ecx.images-amazon.com/images/I/81bjSESaeYL.jpg', 'salesRank': {'Books': 1821540}, 'categories': [['Books']]}\n",
      "\n",
      "900000\n",
      "done\n"
     ]
    }
   ],
   "source": [
    "import gzip\n",
    "import json\n",
    "path_of_the_gz = '../data/'\n",
    "metadata = 'metadata.json.gz'\n",
    "fivecore = 'kcore_5.json.gz'\n",
    "\n",
    "\n",
    "with gzip.open(path_of_the_gz + metadata, 'rb') as f:\n",
    "    for i,l in enumerate(f):\n",
    "        if i % 1e5 == 0:\n",
    "            print i, #l\n",
    "            #k = json.loads(l.replace('\"', '\\\"').replace(\"'\", '\"'))\n",
    "            try:\n",
    "                k = json.loads(l.replace('\"', r'\\\"').replace(\"'\", '\"'))\n",
    "            except ValueError, e: \n",
    "                print '\\nERR\\n',e,'\\n' , l\n",
    "                break\n",
    "\n",
    "print i\n",
    "print \"done\""
   ]
  },
  {
   "cell_type": "code",
   "execution_count": 2,
   "metadata": {
    "collapsed": false
   },
   "outputs": [
    {
     "name": "stdout",
     "output_type": "stream",
     "text": [
      "dog\n"
     ]
    }
   ],
   "source": [
    "d = 'dog'\n",
    "\n",
    "d.replace('d', 'c')\n",
    "\n",
    "print d\n"
   ]
  },
  {
   "cell_type": "code",
   "execution_count": null,
   "metadata": {
    "collapsed": true
   },
   "outputs": [],
   "source": []
  }
 ],
 "metadata": {
  "anaconda-cloud": {},
  "kernelspec": {
   "display_name": "Python [Root]",
   "language": "python",
   "name": "Python [Root]"
  },
  "language_info": {
   "codemirror_mode": {
    "name": "ipython",
    "version": 2
   },
   "file_extension": ".py",
   "mimetype": "text/x-python",
   "name": "python",
   "nbconvert_exporter": "python",
   "pygments_lexer": "ipython2",
   "version": "2.7.12"
  }
 },
 "nbformat": 4,
 "nbformat_minor": 0
}
