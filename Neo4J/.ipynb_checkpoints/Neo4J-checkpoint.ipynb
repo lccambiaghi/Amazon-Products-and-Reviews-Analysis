{
 "cells": [
  {
   "cell_type": "markdown",
   "metadata": {},
   "source": [
    "# Neo4j\n",
    "\n",
    "Nodes:\n",
    "- Product\n",
    "    - productID\n",
    "    - name\n",
    "    - price\n",
    "    - brand\n",
    "\n",
    "Relations:\n",
    "- Product -[:ALSO_BOUGHT]- Product   \n",
    "- Product -[:ALSO_VIEWED]- Product\n",
    "- Product -[:ALSO_BOUGHT]- Product\n",
    "- Product -[:BUY_AFTER_VIEWING]-Product\n",
    "    \n",
    "Steps:\n",
    "1. Populate the DB with all products\n",
    "2. Create the relationships"
   ]
  },
  {
   "cell_type": "code",
   "execution_count": 1,
   "metadata": {
    "collapsed": false
   },
   "outputs": [],
   "source": [
    "from neo4j.v1 import GraphDatabase, basic_auth\n",
    "\n",
    "driver = GraphDatabase.driver(\"bolt://localhost\", auth=basic_auth(\"neo4j\", \"comptools\"), encryption=False)\n",
    "session = driver.session()"
   ]
  },
  {
   "cell_type": "markdown",
   "metadata": {},
   "source": [
    "### Step 1: Products\n",
    "(We do not include in the graph the products without a title and/or without related products)"
   ]
  },
  {
   "cell_type": "code",
   "execution_count": null,
   "metadata": {
    "collapsed": false
   },
   "outputs": [],
   "source": [
    "import time \n",
    "import datetime\n",
    "\n",
    "def parse_line(line):\n",
    "    product = eval(line)\n",
    "    params = {}\n",
    "    if (product.has_key('title') and product.has_key('related')):\n",
    "        params['asin'] = product['asin']\n",
    "        params['title'] = product['title']\n",
    "        if product.has_key('price'):\n",
    "            params['price'] = product['price']\n",
    "        else:\n",
    "            params['price'] = None\n",
    "    return params\n",
    "\n",
    "start = time.time()\n",
    "session.run(\"CREATE CONSTRAINT ON (p:Product) ASSERT p.productID IS UNIQUE\")\n",
    "\n",
    "with open(\"/Users/lucacambiaghi/amz_dataset/metadata_no_books.json\", \"r\") as data:\n",
    "    line_count=0\n",
    "    products = []\n",
    "    for line in data:\n",
    "        products.append(parse_line(line))\n",
    "        line_count = line_count + 1\n",
    "        if(line_count % 1000 == 0):#every 1000 lines\n",
    "            with session.new_transaction() as tx:\n",
    "                for product in products:\n",
    "                    if not (product.has_key('title')):\n",
    "                        continue\n",
    "                    else:\n",
    "                        create_query=\"\"\"CREATE (p:Product {productID:{asin}})\n",
    "                        SET p.name={title}, p.price=toFloat({price})\"\"\"\n",
    "                        tx.run(create_query, params)\n",
    "                tx.success() # check every 1000 queries\n",
    "                products = []\n",
    "            if line_count % 30000 == 0: #every 30000 lines\n",
    "                print (line_count*1.0/600000), '% completed' # print every 5%\n",
    "session.close()\n",
    "end = time.time()\n",
    "print \"executed in:\", datetime.timedelta(seconds = (end - start))"
   ]
  },
  {
   "cell_type": "markdown",
   "metadata": {},
   "source": [
    "### Step 2: Relationships"
   ]
  },
  {
   "cell_type": "code",
   "execution_count": 9,
   "metadata": {
    "collapsed": false
   },
   "outputs": [
    {
     "name": "stdout",
     "output_type": "stream",
     "text": [
      "0% completed\n",
      "done\n"
     ]
    }
   ],
   "source": [
    "def parse_line(line):\n",
    "    product = eval(line)\n",
    "    params = {}\n",
    "    if (product.has_key('title') and product.has_key('related')):\n",
    "        params['asin'] = product['asin']\n",
    "        params['title'] = product['title']\n",
    "        for key in ['also_bought', 'also_viewed', 'bought_together', 'buy_after_viewing']:\n",
    "            if not product['related'].has_key(key):\n",
    "                params[key] = []\n",
    "            else:\n",
    "                params[key] = product['related'][key]\n",
    "    return params\n",
    "\n",
    "with open(\"/Users/lucacambiaghi/amz_dataset/metadata_no_books.json\", \"r\") as data:\n",
    "    count=0\n",
    "    for line in data:\n",
    "        params = parse_line(line)\n",
    "        if not (params.has_key('title')):\n",
    "            count +=1\n",
    "            continue\n",
    "        create_query = \"\"\"MATCH (p:Product),(q:Product)\n",
    "        WHERE p.productID = {asin} AND q.productID IN {also_bought}\n",
    "        CREATE UNIQUE (p)-[:ALSO_BOUGHT]-(q)\n",
    "        \n",
    "        MATCH (p:Product),(q:Product)\n",
    "        WHERE p.productID = {asin} AND q.productID IN {also_viewed}\n",
    "        CREATE UNIQUE (p)-[:ALSO_BOUGHT]-(q)\n",
    "        \n",
    "        MATCH (p:Product),(q:Product)\n",
    "        WHERE p.productID = {asin} AND q.productID IN {bought_together}\n",
    "        CREATE UNIQUE (p)-[:ALSO_BOUGHT]-(q)\n",
    "        \n",
    "        MATCH (p:Product),(q:Product)\n",
    "        WHERE p.productID = {asin} AND q.productID IN {buy_after_viewing}\n",
    "        CREATE UNIQUE (p)-[:ALSO_BOUGHT]-(q)\"\"\"\n",
    "        session.run(create_query, params)\n",
    "        count+=1\n",
    "        if count % 600000 == 0:\n",
    "            print str(count/600000) + '% completed'\n",
    "            break\n",
    "print \"done\"\n",
    "session.close()"
   ]
  },
  {
   "cell_type": "markdown",
   "metadata": {},
   "source": [
    "### Query\n",
    "- "
   ]
  }
 ],
 "metadata": {
  "kernelspec": {
   "display_name": "Python 2",
   "language": "python",
   "name": "python2"
  },
  "language_info": {
   "codemirror_mode": {
    "name": "ipython",
    "version": 2
   },
   "file_extension": ".py",
   "mimetype": "text/x-python",
   "name": "python",
   "nbconvert_exporter": "python",
   "pygments_lexer": "ipython2",
   "version": "2.7.10"
  }
 },
 "nbformat": 4,
 "nbformat_minor": 1
}
