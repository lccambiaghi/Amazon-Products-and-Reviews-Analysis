{
 "cells": [
  {
   "cell_type": "markdown",
   "metadata": {},
   "source": [
    "# Neo4j\n",
    "\n",
    "Nodes:\n",
    "- Product\n",
    "    - productID\n",
    "    - name\n",
    "    - price\n",
    "    - brand\n",
    "\n",
    "Relations:\n",
    "- Product -[:ALSO_BOUGHT]- Product   \n",
    "- Product -[:ALSO_VIEWED]- Product\n",
    "- Product -[:ALSO_BOUGHT]- Product\n",
    "- Product -[:BUY_AFTER_VIEWING]-Product\n",
    "    \n",
    "Steps:\n",
    "1. Populate the DB with all products\n",
    "2. Create the relationships"
   ]
  },
  {
   "cell_type": "code",
   "execution_count": 1,
   "metadata": {
    "collapsed": false
   },
   "outputs": [],
   "source": [
    "from neo4j.v1 import GraphDatabase, basic_auth\n",
    "\n",
    "driver = GraphDatabase.driver(\"bolt://localhost\", auth=basic_auth(\"neo4j\", \"comptools\"), encryption=False)\n",
    "session = driver.session()"
   ]
  },
  {
   "cell_type": "markdown",
   "metadata": {},
   "source": [
    "### Step 1: Products\n",
    "(We do not include in the graph the products without a title and/or without related products)"
   ]
  },
  {
   "cell_type": "code",
   "execution_count": null,
   "metadata": {
    "collapsed": false
   },
   "outputs": [],
   "source": [
    "import time \n",
    "import datetime\n",
    "\n",
    "def parse_line(line):\n",
    "    product = eval(line)\n",
    "    params = {}\n",
    "    if (product.has_key('title') and product.has_key('related')):\n",
    "        params['asin'] = product['asin']\n",
    "        params['title'] = product['title']\n",
    "        if product.has_key('price'):\n",
    "            params['price'] = product['price']\n",
    "        else:\n",
    "            params['price'] = None\n",
    "    return params\n",
    "\n",
    "start = time.time()\n",
    "#session.run(\"CREATE CONSTRAINT ON (p:Product) ASSERT p.productID IS UNIQUE\")\n",
    "\n",
    "with open(\"C:\\\\dtu\\\\ctbd\\\\amazon_dataset\\\\metadata_no_books.json\", \"r\") as data:\n",
    "    line_count=0\n",
    "    products = []\n",
    "    for line in data:\n",
    "        products.append(parse_line(line))\n",
    "        line_count = line_count + 1\n",
    "        if(line_count % 5000 == 0):#every 1000 lines\n",
    "            tx = session.begin_transaction()\n",
    "            #with session.begin_transaction() as tx:\n",
    "            for product in products:\n",
    "                if not (product.has_key('title')):\n",
    "                    continue\n",
    "                else:\n",
    "                    create_query=\"\"\"CREATE (p:Product {productID:{asin}})\n",
    "                    SET p.name={title}, p.price=toFloat({price})\"\"\"\n",
    "                    res = tx.run(create_query, product)\n",
    "                    for r in res:\n",
    "                        continue\n",
    "            tx.commit() # check every 1000 queries\n",
    "            products = []\n",
    "            if line_count % 60000 == 0: \n",
    "                print '%.3f %% completed' % (line_count*1.0/60000 ,) \n",
    "session.close()\n",
    "end = time.time()\n",
    "print \"executed in:\", datetime.timedelta(seconds = (end - start))"
   ]
  },
  {
   "cell_type": "markdown",
   "metadata": {},
   "source": [
    "### Step 2: Relationships"
   ]
  },
  {
   "cell_type": "code",
   "execution_count": 9,
   "metadata": {
    "collapsed": false
   },
   "outputs": [
    {
     "name": "stdout",
     "output_type": "stream",
     "text": [
      "0% completed\n",
      "done\n"
     ]
    }
   ],
   "source": [
    "import time \n",
    "import datetime\n",
    "\n",
    "def parse_line(line):\n",
    "    product = eval(line)\n",
    "    params = {}\n",
    "    if (product.has_key('title') and product.has_key('related')):\n",
    "        params['asin'] = product['asin']\n",
    "        params['title'] = product['title']\n",
    "        for key in ['also_bought', 'also_viewed', 'bought_together', 'buy_after_viewing']:\n",
    "            if not product['related'].has_key(key):\n",
    "                params[key] = []\n",
    "            else:\n",
    "                params[key] = product['related'][key]\n",
    "    return params\n",
    "\n",
    "start = time.time()\n",
    "with open(\"/Users/lucacambiaghi/amz_dataset/metadata_no_books.json\", \"r\") as data:\n",
    "    line_count=0\n",
    "    params_list = []\n",
    "    for line in data:\n",
    "        params_list.append(parse_line(line))\n",
    "        line_count = line_count + 1\n",
    "        if(line_count % 1000 == 0): #every 1000 lines\n",
    "            tx = session.begin_transaction()\n",
    "            for params in params_list:\n",
    "                if not (params.has_key('title')):\n",
    "                    continue\n",
    "                else:\n",
    "                    also_bought_query = \"\"\"MATCH (p:Product),(q:Product)\n",
    "                    WHERE p.productID = {asin} AND q.productID IN {also_bought}\n",
    "                    CREATE UNIQUE (p)-[:ALSO_BOUGHT]-(q)\"\"\"\n",
    "                    res = tx.run(also_bought_query, product)\n",
    "                    for r in res:\n",
    "                        continue\n",
    "                    also_viewed_query = \"\"\"MATCH (p:Product),(q:Product)\n",
    "                    WHERE p.productID = {asin} AND q.productID IN {also_viewed}\n",
    "                    CREATE UNIQUE (p)-[:ALSO_BOUGHT]-(q)\"\"\"\n",
    "                    res = tx.run(also_viewed_query, product)\n",
    "                    for r in res:\n",
    "                        continue\n",
    "                    also_bought_query = \"\"\"MATCH (p:Product),(q:Product)\n",
    "                    WHERE p.productID = {asin} AND q.productID IN {bought_together}\n",
    "                    CREATE UNIQUE (p)-[:ALSO_BOUGHT]-(q)\"\"\"\n",
    "                    res = tx.run(also_bought_query, product)\n",
    "                    for r in res:\n",
    "                        continue\n",
    "                    buy_after_viewing_query = \"\"\"MATCH (p:Product),(q:Product)\n",
    "                    WHERE p.productID = {asin} AND q.productID IN {buy_after_viewing}\n",
    "                    CREATE UNIQUE (p)-[:BUY_AFTER_VIEWING]-(q)\"\"\"\n",
    "                    res = tx.run(buy_after_viewing_query, product)\n",
    "                    for r in res:\n",
    "                        continue\n",
    "            tx.commit()\n",
    "            params_list = []\n",
    "            if line_count % 60000 == 0:\n",
    "                print '%.1f %% completed' % (line_count*1.0/60000 ,) \n",
    "end = time.time()\n",
    "session.close()\n",
    "print \"executed in:\", datetime.timedelta(seconds = (end - start))"
   ]
  },
  {
   "cell_type": "markdown",
   "metadata": {},
   "source": [
    "### Query\n",
    "- Product count:\n",
    "\"\"\"MATCH (c:Character) RETURN count(c)\"\"\"\n",
    "- Diameter of network (longest shortest path):\n",
    "\"\"\"MATCH (a:Character), (b:Character) WHERE id(a) > id(b)\n",
    "MATCH p=shortestPath((a)-[:INTERACTS*]-(b))\n",
    "RETURN length(p) AS len, extract(x IN nodes(p) | x.name) AS path\n",
    "ORDER BY len DESC LIMIT 4\"\"\"\n",
    "- Shortest path between two products:\n",
    "\"\"\"MATCH (catelyn:Character {name: \"Catelyn\"}), (drogo:Character {name: \"Drogo\"})\n",
    "MATCH p=shortestPath((catelyn)-[INTERACTS*]-(drogo))\n",
    "RETURN p\"\"\"\n",
    "- Pivotal nodes (node is pivotal if it lies on all shortest path between two other nodes):\n",
    "\"\"\"MATCH (a:Character), (b:Character)\n",
    "MATCH p=allShortestPaths((a)-[:INTERACTS*]-(b)) WITH collect(p) AS paths, a, b\n",
    "MATCH (c:Character) WHERE all(x IN paths WHERE c IN nodes(x)) AND NOT c IN [a,b]\n",
    "RETURN a.name, b.name, c.name AS PivotalNode SKIP 490 LIMIT 10\"\"\"\n",
    "To check:\n",
    "\"\"\"MATCH (a:Character {name: \"Drogo\"}), (b:Character {name: \"Ramsay\"})\n",
    "MATCH p=allShortestPaths((a)-[:INTERACTS*]-(b))\n",
    "RETURN p\"\"\"\n",
    "- Degree centrality (number of connections):\n",
    "\"\"\"MATCH (c:Character)\n",
    "RETURN c.name AS character, size( (c)-[:INTERACTS]-() ) AS degree ORDER BY degree DESC\"\n",
    "- Betweennes centrality(brokers of informations/clusters connectors)[requires apoc library]:\n",
    "\"\"\"MATCH (c:Character)\n",
    "WITH collect(c) AS characters\n",
    "CALL apoc.algo.betweenness(['INTERACTS'], characters, 'BOTH') YIELD node, score\n",
    "SET node.betweenness = score\n",
    "RETURN node.name AS name, score ORDER BY score DESC\"\"\"\n",
    "- Closeness centrality(highly connected nodes inside a cluster):\n",
    "\"\"\"MATCH (c:Character)\n",
    "WITH collect(c) AS characters\n",
    "CALL apoc.algo.closeness(['INTERACTS'], characters, 'BOTH') YIELD node, score\n",
    "RETURN node.name AS name, score ORDER BY score DESC\"\"\""
   ]
  }
 ],
 "metadata": {
  "kernelspec": {
   "display_name": "Python 2",
   "language": "python",
   "name": "python2"
  },
  "language_info": {
   "codemirror_mode": {
    "name": "ipython",
    "version": 2
   },
   "file_extension": ".py",
   "mimetype": "text/x-python",
   "name": "python",
   "nbconvert_exporter": "python",
   "pygments_lexer": "ipython2",
   "version": "2.7.10"
  }
 },
 "nbformat": 4,
 "nbformat_minor": 1
}
