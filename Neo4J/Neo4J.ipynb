{
 "cells": [
  {
   "cell_type": "markdown",
   "metadata": {},
   "source": [
    "# Neo4j\n",
    "\n",
    "Nodes:\n",
    "- Product\n",
    "    - productID\n",
    "    - name\n",
    "    - price\n",
    "    - brand\n",
    "\n",
    "Relations:\n",
    "- Product -[:ALSO_BOUGHT]- Product   \n",
    "- Product -[:ALSO_VIEWED]- Product\n",
    "- Product -[:ALSO_BOUGHT]- Product\n",
    "- Product -[:BUY_AFTER_VIEWING]-Product\n",
    "    \n",
    "Steps:\n",
    "1. Populate the DB with all products\n",
    "2. Create the relationships"
   ]
  },
  {
   "cell_type": "code",
   "execution_count": 1,
   "metadata": {
    "collapsed": false
   },
   "outputs": [],
   "source": [
    "from neo4j.v1 import GraphDatabase, basic_auth\n",
    "\n",
    "driver = GraphDatabase.driver(\"bolt://localhost\", auth=basic_auth(\"neo4j\", \"amazon\"), encryption=False)\n",
    "session = driver.session()"
   ]
  },
  {
   "cell_type": "code",
   "execution_count": 2,
   "metadata": {
    "collapsed": true
   },
   "outputs": [],
   "source": [
    "res = session.run(\"MATCH ()-[r]-() RETURN count(r)\")"
   ]
  },
  {
   "cell_type": "code",
   "execution_count": 4,
   "metadata": {
    "collapsed": false
   },
   "outputs": [
    {
     "ename": "KeyboardInterrupt",
     "evalue": "",
     "output_type": "error",
     "traceback": [
      "\u001b[1;31m---------------------------------------------------------------------------\u001b[0m",
      "\u001b[1;31mKeyboardInterrupt\u001b[0m                         Traceback (most recent call last)",
      "\u001b[1;32m<ipython-input-4-640ea9d7bf37>\u001b[0m in \u001b[0;36m<module>\u001b[1;34m()\u001b[0m\n\u001b[1;32m----> 1\u001b[1;33m \u001b[1;32mprint\u001b[0m \u001b[0mres\u001b[0m\u001b[1;33m.\u001b[0m\u001b[0mpeek\u001b[0m\u001b[1;33m(\u001b[0m\u001b[1;33m)\u001b[0m\u001b[1;33m\u001b[0m\u001b[0m\n\u001b[0m",
      "\u001b[1;32mC:\\Users\\ricky\\Anaconda2\\lib\\site-packages\\neo4j\\v1\\session.pyc\u001b[0m in \u001b[0;36mpeek\u001b[1;34m(self)\u001b[0m\n\u001b[0;32m    278\u001b[0m             \u001b[1;32mreturn\u001b[0m \u001b[0mRecord\u001b[0m\u001b[1;33m(\u001b[0m\u001b[0mself\u001b[0m\u001b[1;33m.\u001b[0m\u001b[0mkeys\u001b[0m\u001b[1;33m(\u001b[0m\u001b[1;33m)\u001b[0m\u001b[1;33m,\u001b[0m \u001b[0mtuple\u001b[0m\u001b[1;33m(\u001b[0m\u001b[0mmap\u001b[0m\u001b[1;33m(\u001b[0m\u001b[0mhydrated\u001b[0m\u001b[1;33m,\u001b[0m \u001b[0mvalues\u001b[0m\u001b[1;33m)\u001b[0m\u001b[1;33m)\u001b[0m\u001b[1;33m)\u001b[0m\u001b[1;33m\u001b[0m\u001b[0m\n\u001b[0;32m    279\u001b[0m         \u001b[1;32mwhile\u001b[0m \u001b[1;32mnot\u001b[0m \u001b[0mself\u001b[0m\u001b[1;33m.\u001b[0m\u001b[0m_buffer\u001b[0m \u001b[1;32mand\u001b[0m \u001b[1;32mnot\u001b[0m \u001b[0mself\u001b[0m\u001b[1;33m.\u001b[0m\u001b[0m_consumed\u001b[0m\u001b[1;33m:\u001b[0m\u001b[1;33m\u001b[0m\u001b[0m\n\u001b[1;32m--> 280\u001b[1;33m             \u001b[0mself\u001b[0m\u001b[1;33m.\u001b[0m\u001b[0mconnection\u001b[0m\u001b[1;33m.\u001b[0m\u001b[0mfetch\u001b[0m\u001b[1;33m(\u001b[0m\u001b[1;33m)\u001b[0m\u001b[1;33m\u001b[0m\u001b[0m\n\u001b[0m\u001b[0;32m    281\u001b[0m             \u001b[1;32mif\u001b[0m \u001b[0mself\u001b[0m\u001b[1;33m.\u001b[0m\u001b[0m_buffer\u001b[0m\u001b[1;33m:\u001b[0m\u001b[1;33m\u001b[0m\u001b[0m\n\u001b[0;32m    282\u001b[0m                 \u001b[0mvalues\u001b[0m \u001b[1;33m=\u001b[0m \u001b[0mself\u001b[0m\u001b[1;33m.\u001b[0m\u001b[0m_buffer\u001b[0m\u001b[1;33m[\u001b[0m\u001b[1;36m0\u001b[0m\u001b[1;33m]\u001b[0m\u001b[1;33m\u001b[0m\u001b[0m\n",
      "\u001b[1;32mC:\\Users\\ricky\\Anaconda2\\lib\\site-packages\\neo4j\\v1\\connection.pyc\u001b[0m in \u001b[0;36mfetch\u001b[1;34m(self)\u001b[0m\n\u001b[0;32m    309\u001b[0m         \u001b[0munpack\u001b[0m \u001b[1;33m=\u001b[0m \u001b[0mUnpacker\u001b[0m\u001b[1;33m(\u001b[0m\u001b[0mraw\u001b[0m\u001b[1;33m)\u001b[0m\u001b[1;33m.\u001b[0m\u001b[0munpack\u001b[0m\u001b[1;33m\u001b[0m\u001b[0m\n\u001b[0;32m    310\u001b[0m         \u001b[1;32mtry\u001b[0m\u001b[1;33m:\u001b[0m\u001b[1;33m\u001b[0m\u001b[0m\n\u001b[1;32m--> 311\u001b[1;33m             \u001b[0mraw\u001b[0m\u001b[1;33m.\u001b[0m\u001b[0mwritelines\u001b[0m\u001b[1;33m(\u001b[0m\u001b[0mself\u001b[0m\u001b[1;33m.\u001b[0m\u001b[0mchannel\u001b[0m\u001b[1;33m.\u001b[0m\u001b[0mchunk_reader\u001b[0m\u001b[1;33m(\u001b[0m\u001b[1;33m)\u001b[0m\u001b[1;33m)\u001b[0m\u001b[1;33m\u001b[0m\u001b[0m\n\u001b[0m\u001b[0;32m    312\u001b[0m         \u001b[1;32mexcept\u001b[0m \u001b[0mProtocolError\u001b[0m\u001b[1;33m:\u001b[0m\u001b[1;33m\u001b[0m\u001b[0m\n\u001b[0;32m    313\u001b[0m             \u001b[0mself\u001b[0m\u001b[1;33m.\u001b[0m\u001b[0mdefunct\u001b[0m \u001b[1;33m=\u001b[0m \u001b[0mTrue\u001b[0m\u001b[1;33m\u001b[0m\u001b[0m\n",
      "\u001b[1;32mC:\\Users\\ricky\\Anaconda2\\lib\\site-packages\\neo4j\\v1\\connection.pyc\u001b[0m in \u001b[0;36mchunk_reader\u001b[1;34m(self)\u001b[0m\n\u001b[0;32m    167\u001b[0m         \u001b[0mchunk_size\u001b[0m \u001b[1;33m=\u001b[0m \u001b[1;33m-\u001b[0m\u001b[1;36m1\u001b[0m\u001b[1;33m\u001b[0m\u001b[0m\n\u001b[0;32m    168\u001b[0m         \u001b[1;32mwhile\u001b[0m \u001b[0mchunk_size\u001b[0m \u001b[1;33m!=\u001b[0m \u001b[1;36m0\u001b[0m\u001b[1;33m:\u001b[0m\u001b[1;33m\u001b[0m\u001b[0m\n\u001b[1;32m--> 169\u001b[1;33m             \u001b[0mchunk_header\u001b[0m \u001b[1;33m=\u001b[0m \u001b[0mself\u001b[0m\u001b[1;33m.\u001b[0m\u001b[0m_recv\u001b[0m\u001b[1;33m(\u001b[0m\u001b[1;36m2\u001b[0m\u001b[1;33m)\u001b[0m\u001b[1;33m\u001b[0m\u001b[0m\n\u001b[0m\u001b[0;32m    170\u001b[0m             \u001b[0mchunk_size\u001b[0m\u001b[1;33m,\u001b[0m \u001b[1;33m=\u001b[0m \u001b[0mstruct_unpack_from\u001b[0m\u001b[1;33m(\u001b[0m\u001b[1;34m\">H\"\u001b[0m\u001b[1;33m,\u001b[0m \u001b[0mchunk_header\u001b[0m\u001b[1;33m)\u001b[0m\u001b[1;33m\u001b[0m\u001b[0m\n\u001b[0;32m    171\u001b[0m             \u001b[1;32mif\u001b[0m \u001b[0mchunk_size\u001b[0m \u001b[1;33m>\u001b[0m \u001b[1;36m0\u001b[0m\u001b[1;33m:\u001b[0m\u001b[1;33m\u001b[0m\u001b[0m\n",
      "\u001b[1;32mC:\\Users\\ricky\\Anaconda2\\lib\\site-packages\\neo4j\\v1\\connection.pyc\u001b[0m in \u001b[0;36m_recv\u001b[1;34m(self, size)\u001b[0m\n\u001b[0;32m    145\u001b[0m         \u001b[1;32mwhile\u001b[0m \u001b[0mremaining\u001b[0m \u001b[1;33m>\u001b[0m \u001b[1;36m0\u001b[0m\u001b[1;33m:\u001b[0m\u001b[1;33m\u001b[0m\u001b[0m\n\u001b[0;32m    146\u001b[0m             \u001b[1;31m# Read up to the required amount remaining\u001b[0m\u001b[1;33m\u001b[0m\u001b[1;33m\u001b[0m\u001b[0m\n\u001b[1;32m--> 147\u001b[1;33m             \u001b[0mb\u001b[0m \u001b[1;33m=\u001b[0m \u001b[0mself\u001b[0m\u001b[1;33m.\u001b[0m\u001b[0msocket\u001b[0m\u001b[1;33m.\u001b[0m\u001b[0mrecv\u001b[0m\u001b[1;33m(\u001b[0m\u001b[1;36m8192\u001b[0m\u001b[1;33m)\u001b[0m\u001b[1;33m\u001b[0m\u001b[0m\n\u001b[0m\u001b[0;32m    148\u001b[0m             \u001b[1;32mif\u001b[0m \u001b[0mb\u001b[0m\u001b[1;33m:\u001b[0m\u001b[1;33m\u001b[0m\u001b[0m\n\u001b[0;32m    149\u001b[0m                 \u001b[1;32mif\u001b[0m \u001b[0m__debug__\u001b[0m\u001b[1;33m:\u001b[0m \u001b[0mlog_debug\u001b[0m\u001b[1;33m(\u001b[0m\u001b[1;34m\"S: %s\"\u001b[0m\u001b[1;33m,\u001b[0m \u001b[1;34m\":\"\u001b[0m\u001b[1;33m.\u001b[0m\u001b[0mjoin\u001b[0m\u001b[1;33m(\u001b[0m\u001b[0mmap\u001b[0m\u001b[1;33m(\u001b[0m\u001b[0mhex2\u001b[0m\u001b[1;33m,\u001b[0m \u001b[0mb\u001b[0m\u001b[1;33m)\u001b[0m\u001b[1;33m)\u001b[0m\u001b[1;33m)\u001b[0m\u001b[1;33m\u001b[0m\u001b[0m\n",
      "\u001b[1;32mC:\\Users\\ricky\\Anaconda2\\lib\\ssl.pyc\u001b[0m in \u001b[0;36mrecv\u001b[1;34m(self, buflen, flags)\u001b[0m\n\u001b[0;32m    754\u001b[0m                     \u001b[1;34m\"non-zero flags not allowed in calls to recv() on %s\"\u001b[0m \u001b[1;33m%\u001b[0m\u001b[1;33m\u001b[0m\u001b[0m\n\u001b[0;32m    755\u001b[0m                     self.__class__)\n\u001b[1;32m--> 756\u001b[1;33m             \u001b[1;32mreturn\u001b[0m \u001b[0mself\u001b[0m\u001b[1;33m.\u001b[0m\u001b[0mread\u001b[0m\u001b[1;33m(\u001b[0m\u001b[0mbuflen\u001b[0m\u001b[1;33m)\u001b[0m\u001b[1;33m\u001b[0m\u001b[0m\n\u001b[0m\u001b[0;32m    757\u001b[0m         \u001b[1;32melse\u001b[0m\u001b[1;33m:\u001b[0m\u001b[1;33m\u001b[0m\u001b[0m\n\u001b[0;32m    758\u001b[0m             \u001b[1;32mreturn\u001b[0m \u001b[0mself\u001b[0m\u001b[1;33m.\u001b[0m\u001b[0m_sock\u001b[0m\u001b[1;33m.\u001b[0m\u001b[0mrecv\u001b[0m\u001b[1;33m(\u001b[0m\u001b[0mbuflen\u001b[0m\u001b[1;33m,\u001b[0m \u001b[0mflags\u001b[0m\u001b[1;33m)\u001b[0m\u001b[1;33m\u001b[0m\u001b[0m\n",
      "\u001b[1;32mC:\\Users\\ricky\\Anaconda2\\lib\\ssl.pyc\u001b[0m in \u001b[0;36mread\u001b[1;34m(self, len, buffer)\u001b[0m\n\u001b[0;32m    641\u001b[0m                 \u001b[0mv\u001b[0m \u001b[1;33m=\u001b[0m \u001b[0mself\u001b[0m\u001b[1;33m.\u001b[0m\u001b[0m_sslobj\u001b[0m\u001b[1;33m.\u001b[0m\u001b[0mread\u001b[0m\u001b[1;33m(\u001b[0m\u001b[0mlen\u001b[0m\u001b[1;33m,\u001b[0m \u001b[0mbuffer\u001b[0m\u001b[1;33m)\u001b[0m\u001b[1;33m\u001b[0m\u001b[0m\n\u001b[0;32m    642\u001b[0m             \u001b[1;32melse\u001b[0m\u001b[1;33m:\u001b[0m\u001b[1;33m\u001b[0m\u001b[0m\n\u001b[1;32m--> 643\u001b[1;33m                 \u001b[0mv\u001b[0m \u001b[1;33m=\u001b[0m \u001b[0mself\u001b[0m\u001b[1;33m.\u001b[0m\u001b[0m_sslobj\u001b[0m\u001b[1;33m.\u001b[0m\u001b[0mread\u001b[0m\u001b[1;33m(\u001b[0m\u001b[0mlen\u001b[0m\u001b[1;33m)\u001b[0m\u001b[1;33m\u001b[0m\u001b[0m\n\u001b[0m\u001b[0;32m    644\u001b[0m             \u001b[1;32mreturn\u001b[0m \u001b[0mv\u001b[0m\u001b[1;33m\u001b[0m\u001b[0m\n\u001b[0;32m    645\u001b[0m         \u001b[1;32mexcept\u001b[0m \u001b[0mSSLError\u001b[0m \u001b[1;32mas\u001b[0m \u001b[0mx\u001b[0m\u001b[1;33m:\u001b[0m\u001b[1;33m\u001b[0m\u001b[0m\n",
      "\u001b[1;31mKeyboardInterrupt\u001b[0m: "
     ]
    }
   ],
   "source": [
    "print res.peek()"
   ]
  },
  {
   "cell_type": "markdown",
   "metadata": {},
   "source": [
    "### Step 1: Products\n",
    "(We do not include in the graph the products without a title and/or without related products)"
   ]
  },
  {
   "cell_type": "code",
   "execution_count": null,
   "metadata": {
    "collapsed": false
   },
   "outputs": [],
   "source": [
    "import time \n",
    "import datetime\n",
    "\n",
    "def parse_line(line):\n",
    "    product = eval(line)\n",
    "    params = {}\n",
    "    if (product.has_key('title') and product.has_key('related')):\n",
    "        params['asin'] = product['asin']\n",
    "        params['title'] = product['title']\n",
    "        if product.has_key('price'):\n",
    "            params['price'] = product['price']\n",
    "        else:\n",
    "            params['price'] = None\n",
    "    return params\n",
    "\n",
    "start = time.time()\n",
    "session.run(\"CREATE CONSTRAINT ON (p:Product) ASSERT p.productID IS UNIQUE\")\n",
    "\n",
    "with open(\"C:\\\\dtu\\\\ctbd\\\\amazon_dataset\\\\metadata_no_books.json\", \"r\") as data:\n",
    "    line_count=0\n",
    "    products = []\n",
    "    for line in data:\n",
    "        products.append(parse_line(line))\n",
    "        line_count = line_count + 1\n",
    "        if(line_count % 5000 == 0):#every 5000 lines\n",
    "            tx = session.begin_transaction()\n",
    "            for product in products:\n",
    "                if not (product.has_key('title')):\n",
    "                    continue\n",
    "                else:\n",
    "                    create_query=\"\"\"CREATE (p:Product {productID:{asin}})\n",
    "                    SET p.name={title}, p.price=toFloat({price})\"\"\"\n",
    "                    res = tx.run(create_query, product)\n",
    "                    for r in res:\n",
    "                        continue\n",
    "            tx.commit()\n",
    "            products = []\n",
    "            if line_count % 60000 == 0: \n",
    "                print '%.3f %% completed' % (line_count*1.0/60000 ,) \n",
    "session.close()\n",
    "end = time.time()\n",
    "print \"executed in:\", datetime.timedelta(seconds = (end - start))"
   ]
  },
  {
   "cell_type": "markdown",
   "metadata": {},
   "source": [
    "### Step 2: Relationships"
   ]
  },
  {
   "cell_type": "code",
   "execution_count": null,
   "metadata": {
    "collapsed": true
   },
   "outputs": [],
   "source": [
    "import time \n",
    "import datetime\n",
    "\n",
    "def parse_line(line):\n",
    "    product = eval(line)\n",
    "    params = {}\n",
    "    if (product.has_key('title') and product.has_key('related')):\n",
    "        params['asin'] = product['asin']\n",
    "        params['title'] = product['title']\n",
    "        for key in ['also_bought', 'also_viewed', 'bought_together', 'buy_after_viewing']:\n",
    "            if not product['related'].has_key(key):\n",
    "                params[key] = []\n",
    "            else:\n",
    "                params[key] = product['related'][key]\n",
    "    return params\n",
    "\n",
    "start = time.time()\n",
    "with open(\"C:\\\\dtu\\\\ctbd\\\\amazon_dataset\\\\metadata_no_books.json\", \"r\") as data:\n",
    "    line_count=0\n",
    "    params_list = []\n",
    "    for line in data:\n",
    "        params_list.append(parse_line(line))\n",
    "        line_count = line_count + 1\n",
    "        if(line_count % 1000 == 0): #every 1000 lines\n",
    "            tx = session.begin_transaction()\n",
    "            for params in params_list:\n",
    "                if not (params.has_key('title')):\n",
    "                    continue\n",
    "                else:\n",
    "                    also_bought_query = \"\"\"MATCH (p:Product),(q:Product)\n",
    "                    WHERE p.productID = {asin} AND q.productID IN {also_bought}\n",
    "                    CREATE UNIQUE (p)-[:ALSO_BOUGHT]-(q)\"\"\"\n",
    "                    res = tx.run(also_bought_query, params)\n",
    "                    for r in res:\n",
    "                        continue\n",
    "                    also_viewed_query = \"\"\"MATCH (p:Product),(q:Product)\n",
    "                    WHERE p.productID = {asin} AND q.productID IN {also_viewed}\n",
    "                    CREATE UNIQUE (p)-[:ALSO_VIEWED]-(q)\"\"\"\n",
    "                    res = tx.run(also_viewed_query, params)\n",
    "                    for r in res:\n",
    "                        continue\n",
    "                    bought_together_query = \"\"\"MATCH (p:Product),(q:Product)\n",
    "                    WHERE p.productID = {asin} AND q.productID IN {bought_together}\n",
    "                    CREATE UNIQUE (p)-[:BOUGHT_TOGETHER]-(q)\"\"\"\n",
    "                    res = tx.run(bought_together_query, params)\n",
    "                    for r in res:\n",
    "                        continue\n",
    "                    buy_after_viewing_query = \"\"\"MATCH (p:Product),(q:Product)\n",
    "                    WHERE p.productID = {asin} AND q.productID IN {buy_after_viewing}\n",
    "                    CREATE UNIQUE (p)-[:BUY_AFTER_VIEWING]-(q)\"\"\"\n",
    "                    res = tx.run(buy_after_viewing_query, params)\n",
    "                    for r in res:\n",
    "                        continue\n",
    "            tx.commit()\n",
    "            params_list = []\n",
    "            if line_count % 60000 == 0:\n",
    "                print '%.1f %% completed' % (line_count*1.0/60000 ,) \n",
    "end = time.time()\n",
    "session.close()\n",
    "print \"executed in:\", datetime.timedelta(seconds = (end - start))"
   ]
  },
  {
   "cell_type": "markdown",
   "metadata": {},
   "source": [
    "### Query\n",
    "- Product count:\n",
    "\"\"\"MATCH (p:Product) RETURN count(p)\"\"\"\n",
    "- Relationships count:\n",
    "\"\"\"MATCH ()-[r]-() RETURN count(r)\"\"\"\n",
    "- Diameter of network (4 longest shortest path):\n",
    "\"\"\"MATCH (p:Product), (q:Product) WHERE id(p) > id(q)\n",
    "MATCH sp=shortestPath((p)-[:ALSO_VIEWED]-(q))\n",
    "RETURN length(sp) AS len, extract(x IN nodes(sp) | x.title) AS path\n",
    "ORDER BY len DESC LIMIT 4\"\"\"\n",
    "- Degree centrality (number of connections):\n",
    "\"\"\"MATCH (p:Product)\n",
    "RETURN p.title AS product, size( (p)-[:ALSO_BOUGHT]-() ) AS degree ORDER BY degree DESC LIMIT 5\"\n",
    "- Shortest path between two products:\n",
    "\"\"\"MATCH (p:Product {title: \"\"}), (q:Product {title: \"\"})\n",
    "MATCH sp=shortestPath((p)-[ALSO_VIEWED]-(q))\n",
    "RETURN sp\"\"\"\n",
    "\n",
    "- Pivotal nodes (node is pivotal if it lies on all shortest path between two other nodes):\n",
    "\"\"\"MATCH (a:Character), (b:Character)\n",
    "MATCH p=allShortestPaths((a)-[:INTERACTS*]-(b)) WITH collect(p) AS paths, a, b\n",
    "MATCH (c:Character) WHERE all(x IN paths WHERE c IN nodes(x)) AND NOT c IN [a,b]\n",
    "RETURN a.name, b.name, c.name AS PivotalNode SKIP 490 LIMIT 10\"\"\"\n",
    "To check:\n",
    "\"\"\"MATCH (a:Character {name: \"Drogo\"}), (b:Character {name: \"Ramsay\"})\n",
    "MATCH p=allShortestPaths((a)-[:INTERACTS*]-(b))\n",
    "RETURN p\"\"\"\n",
    "\n",
    "- Betweennes centrality(brokers of informations/clusters connectors)[requires apoc library]:\n",
    "\"\"\"MATCH (c:Character)\n",
    "WITH collect(c) AS characters\n",
    "CALL apoc.algo.betweenness(['INTERACTS'], characters, 'BOTH') YIELD node, score\n",
    "SET node.betweenness = score\n",
    "RETURN node.name AS name, score ORDER BY score DESC\"\"\"\n",
    "- Closeness centrality(highly connected nodes inside a cluster):\n",
    "\"\"\"MATCH (c:Character)\n",
    "WITH collect(c) AS characters\n",
    "CALL apoc.algo.closeness(['INTERACTS'], characters, 'BOTH') YIELD node, score\n",
    "RETURN node.name AS name, score ORDER BY score DESC\"\"\""
   ]
  }
 ],
 "metadata": {
  "anaconda-cloud": {},
  "kernelspec": {
   "display_name": "Python 2",
   "language": "python",
   "name": "python2"
  },
  "language_info": {
   "codemirror_mode": {
    "name": "ipython",
    "version": 2
   },
   "file_extension": ".py",
   "mimetype": "text/x-python",
   "name": "python",
   "nbconvert_exporter": "python",
   "pygments_lexer": "ipython2",
   "version": "2.7.10"
  }
 },
 "nbformat": 4,
 "nbformat_minor": 1
}
